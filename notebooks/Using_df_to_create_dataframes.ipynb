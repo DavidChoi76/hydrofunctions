{
 "cells": [
  {
   "cell_type": "markdown",
   "metadata": {},
   "source": [
    "# Using .df() to create dataframes\n",
    "When you make a request for data from the NWIS, you'll often want every parameter recorded at the site, plus all of the data quality flags. Later, however, when it comes time to graph your data, or to check the data quality, you'll only want a subset of your data, not the entire dataset.\n",
    "\n",
    "The NWIS class has the ability to create a dataframe that only contains the data that you want. Simply use the .df() method with a few arguments to select only the information that you want."
   ]
  },
  {
   "cell_type": "code",
   "execution_count": 1,
   "metadata": {},
   "outputs": [
    {
     "name": "stdout",
     "output_type": "stream",
     "text": [
      "0.1.8dev\n"
     ]
    }
   ],
   "source": [
    "import numpy as np\n",
    "import pandas as pd\n",
    "import hydrofunctions as hf\n",
    "import re\n",
    "print(hf.__version__)\n",
    "%matplotlib inline"
   ]
  },
  {
   "cell_type": "code",
   "execution_count": 2,
   "metadata": {},
   "outputs": [
    {
     "name": "stdout",
     "output_type": "stream",
     "text": [
      "Requested data from https://waterservices.usgs.gov/nwis/iv/?format=json%2C1.1&sites=01589317%2C01589330&period=P10D\n"
     ]
    }
   ],
   "source": [
    "# Request all of the data from two sites.\n",
    "test = hf.NWIS(['01589317', '01589330'], 'iv', period='P10D')"
   ]
  },
  {
   "cell_type": "code",
   "execution_count": 3,
   "metadata": {},
   "outputs": [
    {
     "data": {
      "text/plain": [
       "USGS:01589317: TRIBUTARY TO DEAD RUN TRIBUTARY AT WOODLAWN, MD\n",
       "    00060: <5 * Minutes>  Discharge, cubic feet per second\n",
       "    00065: <5 * Minutes>  Gage height, feet\n",
       "USGS:01589330: DEAD RUN AT FRANKLINTOWN, MD\n",
       "    00060: <5 * Minutes>  Discharge, cubic feet per second\n",
       "    00065: <5 * Minutes>  Gage height, feet\n",
       "Start: 2019-03-10 04:35:00+00:00\n",
       "End:   2019-03-20 02:40:00+00:00"
      ]
     },
     "execution_count": 3,
     "metadata": {},
     "output_type": "execute_result"
    }
   ],
   "source": [
    "# Now that you have a dataset, list all of the sites, and all of the paramters collected at each site.\n",
    "test"
   ]
  },
  {
   "cell_type": "code",
   "execution_count": 4,
   "metadata": {},
   "outputs": [
    {
     "data": {
      "text/html": [
       "<div>\n",
       "<style scoped>\n",
       "    .dataframe tbody tr th:only-of-type {\n",
       "        vertical-align: middle;\n",
       "    }\n",
       "\n",
       "    .dataframe tbody tr th {\n",
       "        vertical-align: top;\n",
       "    }\n",
       "\n",
       "    .dataframe thead th {\n",
       "        text-align: right;\n",
       "    }\n",
       "</style>\n",
       "<table border=\"1\" class=\"dataframe\">\n",
       "  <thead>\n",
       "    <tr style=\"text-align: right;\">\n",
       "      <th></th>\n",
       "      <th>USGS:01589317:00060:00000_qualifiers</th>\n",
       "      <th>USGS:01589317:00060:00000</th>\n",
       "      <th>USGS:01589317:00065:00000_qualifiers</th>\n",
       "      <th>USGS:01589317:00065:00000</th>\n",
       "      <th>USGS:01589330:00060:00000_qualifiers</th>\n",
       "      <th>USGS:01589330:00060:00000</th>\n",
       "      <th>USGS:01589330:00065:00000_qualifiers</th>\n",
       "      <th>USGS:01589330:00065:00000</th>\n",
       "    </tr>\n",
       "    <tr>\n",
       "      <th>datetimeUTC</th>\n",
       "      <th></th>\n",
       "      <th></th>\n",
       "      <th></th>\n",
       "      <th></th>\n",
       "      <th></th>\n",
       "      <th></th>\n",
       "      <th></th>\n",
       "      <th></th>\n",
       "    </tr>\n",
       "  </thead>\n",
       "  <tbody>\n",
       "    <tr>\n",
       "      <th>2019-03-10 04:35:00+00:00</th>\n",
       "      <td>P</td>\n",
       "      <td>0.54</td>\n",
       "      <td>P</td>\n",
       "      <td>0.56</td>\n",
       "      <td>P</td>\n",
       "      <td>4.42</td>\n",
       "      <td>P</td>\n",
       "      <td>0.60</td>\n",
       "    </tr>\n",
       "    <tr>\n",
       "      <th>2019-03-10 04:40:00+00:00</th>\n",
       "      <td>P</td>\n",
       "      <td>0.57</td>\n",
       "      <td>P</td>\n",
       "      <td>0.57</td>\n",
       "      <td>P</td>\n",
       "      <td>4.72</td>\n",
       "      <td>P</td>\n",
       "      <td>0.61</td>\n",
       "    </tr>\n",
       "    <tr>\n",
       "      <th>2019-03-10 04:45:00+00:00</th>\n",
       "      <td>P</td>\n",
       "      <td>0.68</td>\n",
       "      <td>P</td>\n",
       "      <td>0.59</td>\n",
       "      <td>P</td>\n",
       "      <td>4.72</td>\n",
       "      <td>P</td>\n",
       "      <td>0.61</td>\n",
       "    </tr>\n",
       "    <tr>\n",
       "      <th>2019-03-10 04:50:00+00:00</th>\n",
       "      <td>P</td>\n",
       "      <td>0.92</td>\n",
       "      <td>P</td>\n",
       "      <td>0.64</td>\n",
       "      <td>P</td>\n",
       "      <td>4.72</td>\n",
       "      <td>P</td>\n",
       "      <td>0.61</td>\n",
       "    </tr>\n",
       "    <tr>\n",
       "      <th>2019-03-10 04:55:00+00:00</th>\n",
       "      <td>P</td>\n",
       "      <td>1.97</td>\n",
       "      <td>P</td>\n",
       "      <td>0.77</td>\n",
       "      <td>P</td>\n",
       "      <td>4.72</td>\n",
       "      <td>P</td>\n",
       "      <td>0.61</td>\n",
       "    </tr>\n",
       "  </tbody>\n",
       "</table>\n",
       "</div>"
      ],
      "text/plain": [
       "                          USGS:01589317:00060:00000_qualifiers  \\\n",
       "datetimeUTC                                                      \n",
       "2019-03-10 04:35:00+00:00                                    P   \n",
       "2019-03-10 04:40:00+00:00                                    P   \n",
       "2019-03-10 04:45:00+00:00                                    P   \n",
       "2019-03-10 04:50:00+00:00                                    P   \n",
       "2019-03-10 04:55:00+00:00                                    P   \n",
       "\n",
       "                           USGS:01589317:00060:00000  \\\n",
       "datetimeUTC                                            \n",
       "2019-03-10 04:35:00+00:00                       0.54   \n",
       "2019-03-10 04:40:00+00:00                       0.57   \n",
       "2019-03-10 04:45:00+00:00                       0.68   \n",
       "2019-03-10 04:50:00+00:00                       0.92   \n",
       "2019-03-10 04:55:00+00:00                       1.97   \n",
       "\n",
       "                          USGS:01589317:00065:00000_qualifiers  \\\n",
       "datetimeUTC                                                      \n",
       "2019-03-10 04:35:00+00:00                                    P   \n",
       "2019-03-10 04:40:00+00:00                                    P   \n",
       "2019-03-10 04:45:00+00:00                                    P   \n",
       "2019-03-10 04:50:00+00:00                                    P   \n",
       "2019-03-10 04:55:00+00:00                                    P   \n",
       "\n",
       "                           USGS:01589317:00065:00000  \\\n",
       "datetimeUTC                                            \n",
       "2019-03-10 04:35:00+00:00                       0.56   \n",
       "2019-03-10 04:40:00+00:00                       0.57   \n",
       "2019-03-10 04:45:00+00:00                       0.59   \n",
       "2019-03-10 04:50:00+00:00                       0.64   \n",
       "2019-03-10 04:55:00+00:00                       0.77   \n",
       "\n",
       "                          USGS:01589330:00060:00000_qualifiers  \\\n",
       "datetimeUTC                                                      \n",
       "2019-03-10 04:35:00+00:00                                    P   \n",
       "2019-03-10 04:40:00+00:00                                    P   \n",
       "2019-03-10 04:45:00+00:00                                    P   \n",
       "2019-03-10 04:50:00+00:00                                    P   \n",
       "2019-03-10 04:55:00+00:00                                    P   \n",
       "\n",
       "                           USGS:01589330:00060:00000  \\\n",
       "datetimeUTC                                            \n",
       "2019-03-10 04:35:00+00:00                       4.42   \n",
       "2019-03-10 04:40:00+00:00                       4.72   \n",
       "2019-03-10 04:45:00+00:00                       4.72   \n",
       "2019-03-10 04:50:00+00:00                       4.72   \n",
       "2019-03-10 04:55:00+00:00                       4.72   \n",
       "\n",
       "                          USGS:01589330:00065:00000_qualifiers  \\\n",
       "datetimeUTC                                                      \n",
       "2019-03-10 04:35:00+00:00                                    P   \n",
       "2019-03-10 04:40:00+00:00                                    P   \n",
       "2019-03-10 04:45:00+00:00                                    P   \n",
       "2019-03-10 04:50:00+00:00                                    P   \n",
       "2019-03-10 04:55:00+00:00                                    P   \n",
       "\n",
       "                           USGS:01589330:00065:00000  \n",
       "datetimeUTC                                           \n",
       "2019-03-10 04:35:00+00:00                       0.60  \n",
       "2019-03-10 04:40:00+00:00                       0.61  \n",
       "2019-03-10 04:45:00+00:00                       0.61  \n",
       "2019-03-10 04:50:00+00:00                       0.61  \n",
       "2019-03-10 04:55:00+00:00                       0.61  "
      ]
     },
     "execution_count": 4,
     "metadata": {},
     "output_type": "execute_result"
    }
   ],
   "source": [
    "# Use the .df() method to create a dataframe that contains everything we requested.\n",
    "# ...but we'll use .head() to only view the first five rows.\n",
    "test.df().head()"
   ]
  },
  {
   "cell_type": "code",
   "execution_count": 5,
   "metadata": {},
   "outputs": [
    {
     "data": {
      "text/plain": [
       "Index(['USGS:01589317:00060:00000_qualifiers', 'USGS:01589317:00060:00000',\n",
       "       'USGS:01589317:00065:00000_qualifiers', 'USGS:01589317:00065:00000',\n",
       "       'USGS:01589330:00060:00000_qualifiers', 'USGS:01589330:00060:00000',\n",
       "       'USGS:01589330:00065:00000_qualifiers', 'USGS:01589330:00065:00000'],\n",
       "      dtype='object')"
      ]
     },
     "execution_count": 5,
     "metadata": {},
     "output_type": "execute_result"
    }
   ],
   "source": [
    "# You can create a list of the column names too.\n",
    "test.df().columns"
   ]
  },
  {
   "cell_type": "code",
   "execution_count": 6,
   "metadata": {},
   "outputs": [
    {
     "data": {
      "text/html": [
       "<div>\n",
       "<style scoped>\n",
       "    .dataframe tbody tr th:only-of-type {\n",
       "        vertical-align: middle;\n",
       "    }\n",
       "\n",
       "    .dataframe tbody tr th {\n",
       "        vertical-align: top;\n",
       "    }\n",
       "\n",
       "    .dataframe thead th {\n",
       "        text-align: right;\n",
       "    }\n",
       "</style>\n",
       "<table border=\"1\" class=\"dataframe\">\n",
       "  <thead>\n",
       "    <tr style=\"text-align: right;\">\n",
       "      <th></th>\n",
       "      <th>USGS:01589317:00060:00000</th>\n",
       "      <th>USGS:01589317:00065:00000</th>\n",
       "    </tr>\n",
       "    <tr>\n",
       "      <th>datetimeUTC</th>\n",
       "      <th></th>\n",
       "      <th></th>\n",
       "    </tr>\n",
       "  </thead>\n",
       "  <tbody>\n",
       "    <tr>\n",
       "      <th>2019-03-10 04:35:00+00:00</th>\n",
       "      <td>0.54</td>\n",
       "      <td>0.56</td>\n",
       "    </tr>\n",
       "    <tr>\n",
       "      <th>2019-03-10 04:40:00+00:00</th>\n",
       "      <td>0.57</td>\n",
       "      <td>0.57</td>\n",
       "    </tr>\n",
       "    <tr>\n",
       "      <th>2019-03-10 04:45:00+00:00</th>\n",
       "      <td>0.68</td>\n",
       "      <td>0.59</td>\n",
       "    </tr>\n",
       "    <tr>\n",
       "      <th>2019-03-10 04:50:00+00:00</th>\n",
       "      <td>0.92</td>\n",
       "      <td>0.64</td>\n",
       "    </tr>\n",
       "    <tr>\n",
       "      <th>2019-03-10 04:55:00+00:00</th>\n",
       "      <td>1.97</td>\n",
       "      <td>0.77</td>\n",
       "    </tr>\n",
       "  </tbody>\n",
       "</table>\n",
       "</div>"
      ],
      "text/plain": [
       "                           USGS:01589317:00060:00000  \\\n",
       "datetimeUTC                                            \n",
       "2019-03-10 04:35:00+00:00                       0.54   \n",
       "2019-03-10 04:40:00+00:00                       0.57   \n",
       "2019-03-10 04:45:00+00:00                       0.68   \n",
       "2019-03-10 04:50:00+00:00                       0.92   \n",
       "2019-03-10 04:55:00+00:00                       1.97   \n",
       "\n",
       "                           USGS:01589317:00065:00000  \n",
       "datetimeUTC                                           \n",
       "2019-03-10 04:35:00+00:00                       0.56  \n",
       "2019-03-10 04:40:00+00:00                       0.57  \n",
       "2019-03-10 04:45:00+00:00                       0.59  \n",
       "2019-03-10 04:50:00+00:00                       0.64  \n",
       "2019-03-10 04:55:00+00:00                       0.77  "
      ]
     },
     "execution_count": 6,
     "metadata": {},
     "output_type": "execute_result"
    }
   ],
   "source": [
    "# Now, let's select only the columns for site #01589317.\n",
    "# If we don't specify that we want the _qualifier flags, HF will assume you just want the data.\n",
    "test.df('01589317').head()"
   ]
  },
  {
   "cell_type": "code",
   "execution_count": 7,
   "metadata": {},
   "outputs": [
    {
     "data": {
      "text/html": [
       "<div>\n",
       "<style scoped>\n",
       "    .dataframe tbody tr th:only-of-type {\n",
       "        vertical-align: middle;\n",
       "    }\n",
       "\n",
       "    .dataframe tbody tr th {\n",
       "        vertical-align: top;\n",
       "    }\n",
       "\n",
       "    .dataframe thead th {\n",
       "        text-align: right;\n",
       "    }\n",
       "</style>\n",
       "<table border=\"1\" class=\"dataframe\">\n",
       "  <thead>\n",
       "    <tr style=\"text-align: right;\">\n",
       "      <th></th>\n",
       "      <th>USGS:01589330:00060:00000_qualifiers</th>\n",
       "      <th>USGS:01589330:00065:00000_qualifiers</th>\n",
       "    </tr>\n",
       "    <tr>\n",
       "      <th>datetimeUTC</th>\n",
       "      <th></th>\n",
       "      <th></th>\n",
       "    </tr>\n",
       "  </thead>\n",
       "  <tbody>\n",
       "    <tr>\n",
       "      <th>2019-03-10 04:35:00+00:00</th>\n",
       "      <td>P</td>\n",
       "      <td>P</td>\n",
       "    </tr>\n",
       "    <tr>\n",
       "      <th>2019-03-10 04:40:00+00:00</th>\n",
       "      <td>P</td>\n",
       "      <td>P</td>\n",
       "    </tr>\n",
       "    <tr>\n",
       "      <th>2019-03-10 04:45:00+00:00</th>\n",
       "      <td>P</td>\n",
       "      <td>P</td>\n",
       "    </tr>\n",
       "    <tr>\n",
       "      <th>2019-03-10 04:50:00+00:00</th>\n",
       "      <td>P</td>\n",
       "      <td>P</td>\n",
       "    </tr>\n",
       "    <tr>\n",
       "      <th>2019-03-10 04:55:00+00:00</th>\n",
       "      <td>P</td>\n",
       "      <td>P</td>\n",
       "    </tr>\n",
       "  </tbody>\n",
       "</table>\n",
       "</div>"
      ],
      "text/plain": [
       "                          USGS:01589330:00060:00000_qualifiers  \\\n",
       "datetimeUTC                                                      \n",
       "2019-03-10 04:35:00+00:00                                    P   \n",
       "2019-03-10 04:40:00+00:00                                    P   \n",
       "2019-03-10 04:45:00+00:00                                    P   \n",
       "2019-03-10 04:50:00+00:00                                    P   \n",
       "2019-03-10 04:55:00+00:00                                    P   \n",
       "\n",
       "                          USGS:01589330:00065:00000_qualifiers  \n",
       "datetimeUTC                                                     \n",
       "2019-03-10 04:35:00+00:00                                    P  \n",
       "2019-03-10 04:40:00+00:00                                    P  \n",
       "2019-03-10 04:45:00+00:00                                    P  \n",
       "2019-03-10 04:50:00+00:00                                    P  \n",
       "2019-03-10 04:55:00+00:00                                    P  "
      ]
     },
     "execution_count": 7,
     "metadata": {},
     "output_type": "execute_result"
    }
   ],
   "source": [
    "# You can ask for the qualifier flags too, if you just want to do a quality control check.\n",
    "# The flag 'P' means the data are provisional. The USGS may revise these data after conducting a site visit.\n",
    "# A more complete listing of qualifier flags can be found here: https://waterdata.usgs.gov/usa/nwis/uv?codes_help#dv_cd1\n",
    "test.df('01589330', 'flags').head()"
   ]
  },
  {
   "cell_type": "code",
   "execution_count": 8,
   "metadata": {},
   "outputs": [
    {
     "data": {
      "text/html": [
       "<div>\n",
       "<style scoped>\n",
       "    .dataframe tbody tr th:only-of-type {\n",
       "        vertical-align: middle;\n",
       "    }\n",
       "\n",
       "    .dataframe tbody tr th {\n",
       "        vertical-align: top;\n",
       "    }\n",
       "\n",
       "    .dataframe thead th {\n",
       "        text-align: right;\n",
       "    }\n",
       "</style>\n",
       "<table border=\"1\" class=\"dataframe\">\n",
       "  <thead>\n",
       "    <tr style=\"text-align: right;\">\n",
       "      <th></th>\n",
       "      <th>USGS:01589317:00060:00000</th>\n",
       "      <th>USGS:01589330:00060:00000</th>\n",
       "    </tr>\n",
       "    <tr>\n",
       "      <th>datetimeUTC</th>\n",
       "      <th></th>\n",
       "      <th></th>\n",
       "    </tr>\n",
       "  </thead>\n",
       "  <tbody>\n",
       "    <tr>\n",
       "      <th>2019-03-10 04:35:00+00:00</th>\n",
       "      <td>0.54</td>\n",
       "      <td>4.42</td>\n",
       "    </tr>\n",
       "    <tr>\n",
       "      <th>2019-03-10 04:40:00+00:00</th>\n",
       "      <td>0.57</td>\n",
       "      <td>4.72</td>\n",
       "    </tr>\n",
       "    <tr>\n",
       "      <th>2019-03-10 04:45:00+00:00</th>\n",
       "      <td>0.68</td>\n",
       "      <td>4.72</td>\n",
       "    </tr>\n",
       "    <tr>\n",
       "      <th>2019-03-10 04:50:00+00:00</th>\n",
       "      <td>0.92</td>\n",
       "      <td>4.72</td>\n",
       "    </tr>\n",
       "    <tr>\n",
       "      <th>2019-03-10 04:55:00+00:00</th>\n",
       "      <td>1.97</td>\n",
       "      <td>4.72</td>\n",
       "    </tr>\n",
       "  </tbody>\n",
       "</table>\n",
       "</div>"
      ],
      "text/plain": [
       "                           USGS:01589317:00060:00000  \\\n",
       "datetimeUTC                                            \n",
       "2019-03-10 04:35:00+00:00                       0.54   \n",
       "2019-03-10 04:40:00+00:00                       0.57   \n",
       "2019-03-10 04:45:00+00:00                       0.68   \n",
       "2019-03-10 04:50:00+00:00                       0.92   \n",
       "2019-03-10 04:55:00+00:00                       1.97   \n",
       "\n",
       "                           USGS:01589330:00060:00000  \n",
       "datetimeUTC                                           \n",
       "2019-03-10 04:35:00+00:00                       4.42  \n",
       "2019-03-10 04:40:00+00:00                       4.72  \n",
       "2019-03-10 04:45:00+00:00                       4.72  \n",
       "2019-03-10 04:50:00+00:00                       4.72  \n",
       "2019-03-10 04:55:00+00:00                       4.72  "
      ]
     },
     "execution_count": 8,
     "metadata": {},
     "output_type": "execute_result"
    }
   ],
   "source": [
    "# You can select the parameter you want using the parameter code ('00060' is discharge), \n",
    "# but some codes also have an alias to make things easier to remember.\n",
    "test.df('discharge').head()  # 'q' is another alias for discharge; 'stage' is for '00065'"
   ]
  },
  {
   "cell_type": "code",
   "execution_count": 9,
   "metadata": {},
   "outputs": [
    {
     "data": {
      "text/html": [
       "<div>\n",
       "<style scoped>\n",
       "    .dataframe tbody tr th:only-of-type {\n",
       "        vertical-align: middle;\n",
       "    }\n",
       "\n",
       "    .dataframe tbody tr th {\n",
       "        vertical-align: top;\n",
       "    }\n",
       "\n",
       "    .dataframe thead th {\n",
       "        text-align: right;\n",
       "    }\n",
       "</style>\n",
       "<table border=\"1\" class=\"dataframe\">\n",
       "  <thead>\n",
       "    <tr style=\"text-align: right;\">\n",
       "      <th></th>\n",
       "      <th>USGS:01589317:00060:00000_qualifiers</th>\n",
       "    </tr>\n",
       "    <tr>\n",
       "      <th>datetimeUTC</th>\n",
       "      <th></th>\n",
       "    </tr>\n",
       "  </thead>\n",
       "  <tbody>\n",
       "    <tr>\n",
       "      <th>2019-03-10 04:35:00+00:00</th>\n",
       "      <td>P</td>\n",
       "    </tr>\n",
       "    <tr>\n",
       "      <th>2019-03-10 04:40:00+00:00</th>\n",
       "      <td>P</td>\n",
       "    </tr>\n",
       "    <tr>\n",
       "      <th>2019-03-10 04:45:00+00:00</th>\n",
       "      <td>P</td>\n",
       "    </tr>\n",
       "    <tr>\n",
       "      <th>2019-03-10 04:50:00+00:00</th>\n",
       "      <td>P</td>\n",
       "    </tr>\n",
       "    <tr>\n",
       "      <th>2019-03-10 04:55:00+00:00</th>\n",
       "      <td>P</td>\n",
       "    </tr>\n",
       "  </tbody>\n",
       "</table>\n",
       "</div>"
      ],
      "text/plain": [
       "                          USGS:01589317:00060:00000_qualifiers\n",
       "datetimeUTC                                                   \n",
       "2019-03-10 04:35:00+00:00                                    P\n",
       "2019-03-10 04:40:00+00:00                                    P\n",
       "2019-03-10 04:45:00+00:00                                    P\n",
       "2019-03-10 04:50:00+00:00                                    P\n",
       "2019-03-10 04:55:00+00:00                                    P"
      ]
     },
     "execution_count": 9,
     "metadata": {},
     "output_type": "execute_result"
    }
   ],
   "source": [
    "# The previous example selected discharge data at both sites in the dataset;\n",
    "# you can combine your requests in any order to get just the columns you want.\n",
    "# For example, the stage data at a single site would be:  .df('01589317', 'stage')\n",
    "test.df('q', 'flags', '01589317').head()"
   ]
  },
  {
   "cell_type": "code",
   "execution_count": 10,
   "metadata": {},
   "outputs": [
    {
     "ename": "ValueError",
     "evalue": "The site 01580000 is not in this dataset.",
     "output_type": "error",
     "traceback": [
      "\u001b[1;31m---------------------------------------------------------------------------\u001b[0m",
      "\u001b[1;31mValueError\u001b[0m                                Traceback (most recent call last)",
      "\u001b[1;32m<ipython-input-10-61f9da67e010>\u001b[0m in \u001b[0;36m<module>\u001b[1;34m\u001b[0m\n\u001b[0;32m      1\u001b[0m \u001b[1;31m# Hydrofunctions will let you know if you request something you don't have.\u001b[0m\u001b[1;33m\u001b[0m\u001b[1;33m\u001b[0m\u001b[1;33m\u001b[0m\u001b[0m\n\u001b[1;32m----> 2\u001b[1;33m \u001b[0mtest\u001b[0m\u001b[1;33m.\u001b[0m\u001b[0mdf\u001b[0m\u001b[1;33m(\u001b[0m\u001b[1;34m'01580000'\u001b[0m\u001b[1;33m)\u001b[0m\u001b[1;33m\u001b[0m\u001b[1;33m\u001b[0m\u001b[0m\n\u001b[0m",
      "\u001b[1;32mc:\\users\\marty\\google drive\\pydev\\src\\hydrofunctions\\hydrofunctions\\station.py\u001b[0m in \u001b[0;36mdf\u001b[1;34m(self, *args)\u001b[0m\n\u001b[0;32m    223\u001b[0m                     \u001b[0msites\u001b[0m \u001b[1;33m=\u001b[0m \u001b[0mself\u001b[0m\u001b[1;33m.\u001b[0m\u001b[0m_dataframe\u001b[0m\u001b[1;33m.\u001b[0m\u001b[0mcolumns\u001b[0m\u001b[1;33m.\u001b[0m\u001b[0mstr\u001b[0m\u001b[1;33m.\u001b[0m\u001b[0mcontains\u001b[0m\u001b[1;33m(\u001b[0m\u001b[0mstation_arg\u001b[0m\u001b[1;33m)\u001b[0m\u001b[1;33m\u001b[0m\u001b[1;33m\u001b[0m\u001b[0m\n\u001b[0;32m    224\u001b[0m                     \u001b[1;32mif\u001b[0m \u001b[1;32mnot\u001b[0m \u001b[0msites\u001b[0m\u001b[1;33m.\u001b[0m\u001b[0many\u001b[0m\u001b[1;33m(\u001b[0m\u001b[1;33m)\u001b[0m\u001b[1;33m:\u001b[0m\u001b[1;33m\u001b[0m\u001b[1;33m\u001b[0m\u001b[0m\n\u001b[1;32m--> 225\u001b[1;33m                         \u001b[1;32mraise\u001b[0m \u001b[0mValueError\u001b[0m\u001b[1;33m(\u001b[0m\u001b[1;34m\"The site {site} is not in this dataset.\"\u001b[0m\u001b[1;33m.\u001b[0m\u001b[0mformat\u001b[0m\u001b[1;33m(\u001b[0m\u001b[0msite\u001b[0m\u001b[1;33m=\u001b[0m\u001b[0mitem\u001b[0m\u001b[1;33m)\u001b[0m\u001b[1;33m)\u001b[0m\u001b[1;33m\u001b[0m\u001b[1;33m\u001b[0m\u001b[0m\n\u001b[0m\u001b[0;32m    226\u001b[0m                 \u001b[1;32melse\u001b[0m\u001b[1;33m:\u001b[0m\u001b[1;33m\u001b[0m\u001b[1;33m\u001b[0m\u001b[0m\n\u001b[0;32m    227\u001b[0m                     \u001b[1;32mraise\u001b[0m \u001b[0mValueError\u001b[0m\u001b[1;33m(\u001b[0m\u001b[1;34m\"The argument {item} is not recognized.\"\u001b[0m\u001b[1;33m.\u001b[0m\u001b[0mformat\u001b[0m\u001b[1;33m(\u001b[0m\u001b[0mitem\u001b[0m\u001b[1;33m=\u001b[0m\u001b[0mitem\u001b[0m\u001b[1;33m)\u001b[0m\u001b[1;33m)\u001b[0m\u001b[1;33m\u001b[0m\u001b[1;33m\u001b[0m\u001b[0m\n",
      "\u001b[1;31mValueError\u001b[0m: The site 01580000 is not in this dataset."
     ]
    }
   ],
   "source": [
    "# Hydrofunctions will let you know if you request something you don't have.\n",
    "test.df('01580000')"
   ]
  },
  {
   "cell_type": "code",
   "execution_count": 11,
   "metadata": {},
   "outputs": [
    {
     "name": "stderr",
     "output_type": "stream",
     "text": [
      "C:\\Users\\Marty\\Anaconda3\\envs\\py37hfdev\\lib\\site-packages\\pandas\\core\\arrays\\datetimes.py:1172: UserWarning: Converting to PeriodArray/Index representation will drop timezone information.\n",
      "  \"will drop timezone information.\", UserWarning)\n"
     ]
    },
    {
     "data": {
      "text/plain": [
       "<matplotlib.axes._subplots.AxesSubplot at 0x210b09062b0>"
      ]
     },
     "execution_count": 11,
     "metadata": {},
     "output_type": "execute_result"
    },
    {
     "data": {
      "image/png": "[encoded data removed]",
      "text/plain": [
       "<Figure size 432x288 with 1 Axes>"
      ]
     },
     "metadata": {
      "needs_background": "light"
     },
     "output_type": "display_data"
    }
   ],
   "source": [
    "# Let's use our data for something interesting!\n",
    "test.df('q').plot()"
   ]
  },
  {
   "cell_type": "code",
   "execution_count": 12,
   "metadata": {},
   "outputs": [
    {
     "data": {
      "text/plain": [
       "<matplotlib.axes._subplots.AxesSubplot at 0x210b2a606a0>"
      ]
     },
     "execution_count": 12,
     "metadata": {},
     "output_type": "execute_result"
    },
    {
     "data": {
      "image/png": "[encoded data removed]",
      "text/plain": [
       "<Figure size 432x288 with 1 Axes>"
      ]
     },
     "metadata": {
      "needs_background": "light"
     },
     "output_type": "display_data"
    }
   ],
   "source": [
    "test.df('stage').plot()"
   ]
  },
  {
   "cell_type": "code",
   "execution_count": null,
   "metadata": {},
   "outputs": [],
   "source": []
  }
 ],
 "metadata": {
  "kernelspec": {
   "display_name": "Python 3",
   "language": "python",
   "name": "python3"
  },
  "language_info": {
   "codemirror_mode": {
    "name": "ipython",
    "version": 3
   },
   "file_extension": ".py",
   "mimetype": "text/x-python",
   "name": "python",
   "nbconvert_exporter": "python",
   "pygments_lexer": "ipython3",
   "version": "3.7.1"
  }
 },
 "nbformat": 4,
 "nbformat_minor": 2
}
