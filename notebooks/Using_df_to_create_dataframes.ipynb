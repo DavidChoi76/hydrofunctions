{
 "cells": [
  {
   "cell_type": "markdown",
   "metadata": {},
   "source": [
    "# Using .df() to create dataframes\n",
    "When you make a request for data from the NWIS, you'll often want every parameter recorded at the site, plus all of the data quality flags. Later, however, when it comes time to graph your data, or to check the data quality, you'll only want a subset of your data, not the entire dataset.\n",
    "\n",
    "The NWIS class has the ability to create a dataframe that only contains the data that you want. Simply use the .df() method with a few arguments to select only the information that you want."
   ]
  },
  {
   "cell_type": "code",
   "execution_count": 1,
   "metadata": {},
   "outputs": [
    {
     "name": "stdout",
     "output_type": "stream",
     "text": [
      "0.1.8dev\n"
     ]
    }
   ],
   "source": [
    "import hydrofunctions as hf\n",
    "print(hf.__version__)\n",
    "%matplotlib inline"
   ]
  },
  {
   "cell_type": "markdown",
   "metadata": {},
   "source": [
    "Request all of the data from two sites and describe the dataset:"
   ]
  },
  {
   "cell_type": "code",
   "execution_count": 2,
   "metadata": {},
   "outputs": [
    {
     "name": "stdout",
     "output_type": "stream",
     "text": [
      "Requested data from https://waterservices.usgs.gov/nwis/iv/?format=json%2C1.1&sites=01589317%2C01589330&period=P10D\n"
     ]
    },
    {
     "data": {
      "text/plain": [
       "USGS:01589317: TRIBUTARY TO DEAD RUN TRIBUTARY AT WOODLAWN, MD\n",
       "    00060: <5 * Minutes>  Discharge, cubic feet per second\n",
       "    00065: <5 * Minutes>  Gage height, feet\n",
       "USGS:01589330: DEAD RUN AT FRANKLINTOWN, MD\n",
       "    00060: <5 * Minutes>  Discharge, cubic feet per second\n",
       "    00065: <5 * Minutes>  Gage height, feet\n",
       "Start: 2019-07-14 03:15:00+00:00\n",
       "End:   2019-07-24 02:40:00+00:00"
      ]
     },
     "execution_count": 2,
     "metadata": {},
     "output_type": "execute_result"
    }
   ],
   "source": [
    "test = hf.NWIS(['01589317', '01589330'], 'iv', period='P10D')\n",
    "test"
   ]
  },
  {
   "cell_type": "markdown",
   "metadata": {},
   "source": [
    "Use the .df() method to create a dataframe that contains everything we requested.\n",
    "\n",
    "...but we'll use .head() to only view the first five rows."
   ]
  },
  {
   "cell_type": "code",
   "execution_count": 3,
   "metadata": {},
   "outputs": [
    {
     "data": {
      "text/html": [
       "<div>\n",
       "<style scoped>\n",
       "    .dataframe tbody tr th:only-of-type {\n",
       "        vertical-align: middle;\n",
       "    }\n",
       "\n",
       "    .dataframe tbody tr th {\n",
       "        vertical-align: top;\n",
       "    }\n",
       "\n",
       "    .dataframe thead th {\n",
       "        text-align: right;\n",
       "    }\n",
       "</style>\n",
       "<table border=\"1\" class=\"dataframe\">\n",
       "  <thead>\n",
       "    <tr style=\"text-align: right;\">\n",
       "      <th></th>\n",
       "      <th>USGS:01589317:00060:00000_qualifiers</th>\n",
       "      <th>USGS:01589317:00060:00000</th>\n",
       "      <th>USGS:01589317:00065:00000_qualifiers</th>\n",
       "      <th>USGS:01589317:00065:00000</th>\n",
       "      <th>USGS:01589330:00060:00000_qualifiers</th>\n",
       "      <th>USGS:01589330:00060:00000</th>\n",
       "      <th>USGS:01589330:00065:00000_qualifiers</th>\n",
       "      <th>USGS:01589330:00065:00000</th>\n",
       "    </tr>\n",
       "    <tr>\n",
       "      <th>datetimeUTC</th>\n",
       "      <th></th>\n",
       "      <th></th>\n",
       "      <th></th>\n",
       "      <th></th>\n",
       "      <th></th>\n",
       "      <th></th>\n",
       "      <th></th>\n",
       "      <th></th>\n",
       "    </tr>\n",
       "  </thead>\n",
       "  <tbody>\n",
       "    <tr>\n",
       "      <th>2019-07-14 03:15:00+00:00</th>\n",
       "      <td>P</td>\n",
       "      <td>0.21</td>\n",
       "      <td>P</td>\n",
       "      <td>0.46</td>\n",
       "      <td>P</td>\n",
       "      <td>1.96</td>\n",
       "      <td>P</td>\n",
       "      <td>0.51</td>\n",
       "    </tr>\n",
       "    <tr>\n",
       "      <th>2019-07-14 03:20:00+00:00</th>\n",
       "      <td>P</td>\n",
       "      <td>0.21</td>\n",
       "      <td>P</td>\n",
       "      <td>0.46</td>\n",
       "      <td>P</td>\n",
       "      <td>1.80</td>\n",
       "      <td>P</td>\n",
       "      <td>0.50</td>\n",
       "    </tr>\n",
       "    <tr>\n",
       "      <th>2019-07-14 03:25:00+00:00</th>\n",
       "      <td>P</td>\n",
       "      <td>0.21</td>\n",
       "      <td>P</td>\n",
       "      <td>0.46</td>\n",
       "      <td>P</td>\n",
       "      <td>1.80</td>\n",
       "      <td>P</td>\n",
       "      <td>0.50</td>\n",
       "    </tr>\n",
       "    <tr>\n",
       "      <th>2019-07-14 03:30:00+00:00</th>\n",
       "      <td>P</td>\n",
       "      <td>0.21</td>\n",
       "      <td>P</td>\n",
       "      <td>0.46</td>\n",
       "      <td>P</td>\n",
       "      <td>1.80</td>\n",
       "      <td>P</td>\n",
       "      <td>0.50</td>\n",
       "    </tr>\n",
       "    <tr>\n",
       "      <th>2019-07-14 03:35:00+00:00</th>\n",
       "      <td>P</td>\n",
       "      <td>0.21</td>\n",
       "      <td>P</td>\n",
       "      <td>0.46</td>\n",
       "      <td>P</td>\n",
       "      <td>1.80</td>\n",
       "      <td>P</td>\n",
       "      <td>0.50</td>\n",
       "    </tr>\n",
       "  </tbody>\n",
       "</table>\n",
       "</div>"
      ],
      "text/plain": [
       "                          USGS:01589317:00060:00000_qualifiers  \\\n",
       "datetimeUTC                                                      \n",
       "2019-07-14 03:15:00+00:00                                    P   \n",
       "2019-07-14 03:20:00+00:00                                    P   \n",
       "2019-07-14 03:25:00+00:00                                    P   \n",
       "2019-07-14 03:30:00+00:00                                    P   \n",
       "2019-07-14 03:35:00+00:00                                    P   \n",
       "\n",
       "                           USGS:01589317:00060:00000  \\\n",
       "datetimeUTC                                            \n",
       "2019-07-14 03:15:00+00:00                       0.21   \n",
       "2019-07-14 03:20:00+00:00                       0.21   \n",
       "2019-07-14 03:25:00+00:00                       0.21   \n",
       "2019-07-14 03:30:00+00:00                       0.21   \n",
       "2019-07-14 03:35:00+00:00                       0.21   \n",
       "\n",
       "                          USGS:01589317:00065:00000_qualifiers  \\\n",
       "datetimeUTC                                                      \n",
       "2019-07-14 03:15:00+00:00                                    P   \n",
       "2019-07-14 03:20:00+00:00                                    P   \n",
       "2019-07-14 03:25:00+00:00                                    P   \n",
       "2019-07-14 03:30:00+00:00                                    P   \n",
       "2019-07-14 03:35:00+00:00                                    P   \n",
       "\n",
       "                           USGS:01589317:00065:00000  \\\n",
       "datetimeUTC                                            \n",
       "2019-07-14 03:15:00+00:00                       0.46   \n",
       "2019-07-14 03:20:00+00:00                       0.46   \n",
       "2019-07-14 03:25:00+00:00                       0.46   \n",
       "2019-07-14 03:30:00+00:00                       0.46   \n",
       "2019-07-14 03:35:00+00:00                       0.46   \n",
       "\n",
       "                          USGS:01589330:00060:00000_qualifiers  \\\n",
       "datetimeUTC                                                      \n",
       "2019-07-14 03:15:00+00:00                                    P   \n",
       "2019-07-14 03:20:00+00:00                                    P   \n",
       "2019-07-14 03:25:00+00:00                                    P   \n",
       "2019-07-14 03:30:00+00:00                                    P   \n",
       "2019-07-14 03:35:00+00:00                                    P   \n",
       "\n",
       "                           USGS:01589330:00060:00000  \\\n",
       "datetimeUTC                                            \n",
       "2019-07-14 03:15:00+00:00                       1.96   \n",
       "2019-07-14 03:20:00+00:00                       1.80   \n",
       "2019-07-14 03:25:00+00:00                       1.80   \n",
       "2019-07-14 03:30:00+00:00                       1.80   \n",
       "2019-07-14 03:35:00+00:00                       1.80   \n",
       "\n",
       "                          USGS:01589330:00065:00000_qualifiers  \\\n",
       "datetimeUTC                                                      \n",
       "2019-07-14 03:15:00+00:00                                    P   \n",
       "2019-07-14 03:20:00+00:00                                    P   \n",
       "2019-07-14 03:25:00+00:00                                    P   \n",
       "2019-07-14 03:30:00+00:00                                    P   \n",
       "2019-07-14 03:35:00+00:00                                    P   \n",
       "\n",
       "                           USGS:01589330:00065:00000  \n",
       "datetimeUTC                                           \n",
       "2019-07-14 03:15:00+00:00                       0.51  \n",
       "2019-07-14 03:20:00+00:00                       0.50  \n",
       "2019-07-14 03:25:00+00:00                       0.50  \n",
       "2019-07-14 03:30:00+00:00                       0.50  \n",
       "2019-07-14 03:35:00+00:00                       0.50  "
      ]
     },
     "execution_count": 3,
     "metadata": {},
     "output_type": "execute_result"
    }
   ],
   "source": [
    "test.df().head()"
   ]
  },
  {
   "cell_type": "markdown",
   "metadata": {},
   "source": [
    "You can create a list of the column names too."
   ]
  },
  {
   "cell_type": "code",
   "execution_count": 4,
   "metadata": {},
   "outputs": [
    {
     "data": {
      "text/plain": [
       "Index(['USGS:01589317:00060:00000_qualifiers', 'USGS:01589317:00060:00000',\n",
       "       'USGS:01589317:00065:00000_qualifiers', 'USGS:01589317:00065:00000',\n",
       "       'USGS:01589330:00060:00000_qualifiers', 'USGS:01589330:00060:00000',\n",
       "       'USGS:01589330:00065:00000_qualifiers', 'USGS:01589330:00065:00000'],\n",
       "      dtype='object')"
      ]
     },
     "execution_count": 4,
     "metadata": {},
     "output_type": "execute_result"
    }
   ],
   "source": [
    "test.df().columns"
   ]
  },
  {
   "cell_type": "markdown",
   "metadata": {},
   "source": [
    "Now, let's select only the columns for site 01589317.\n",
    "If we don't specify that we want the qualifier flags, hydrofunctions will assume you just want the data."
   ]
  },
  {
   "cell_type": "code",
   "execution_count": 5,
   "metadata": {},
   "outputs": [
    {
     "data": {
      "text/html": [
       "<div>\n",
       "<style scoped>\n",
       "    .dataframe tbody tr th:only-of-type {\n",
       "        vertical-align: middle;\n",
       "    }\n",
       "\n",
       "    .dataframe tbody tr th {\n",
       "        vertical-align: top;\n",
       "    }\n",
       "\n",
       "    .dataframe thead th {\n",
       "        text-align: right;\n",
       "    }\n",
       "</style>\n",
       "<table border=\"1\" class=\"dataframe\">\n",
       "  <thead>\n",
       "    <tr style=\"text-align: right;\">\n",
       "      <th></th>\n",
       "      <th>USGS:01589317:00060:00000</th>\n",
       "      <th>USGS:01589317:00065:00000</th>\n",
       "    </tr>\n",
       "    <tr>\n",
       "      <th>datetimeUTC</th>\n",
       "      <th></th>\n",
       "      <th></th>\n",
       "    </tr>\n",
       "  </thead>\n",
       "  <tbody>\n",
       "    <tr>\n",
       "      <th>2019-07-14 03:15:00+00:00</th>\n",
       "      <td>0.21</td>\n",
       "      <td>0.46</td>\n",
       "    </tr>\n",
       "    <tr>\n",
       "      <th>2019-07-14 03:20:00+00:00</th>\n",
       "      <td>0.21</td>\n",
       "      <td>0.46</td>\n",
       "    </tr>\n",
       "    <tr>\n",
       "      <th>2019-07-14 03:25:00+00:00</th>\n",
       "      <td>0.21</td>\n",
       "      <td>0.46</td>\n",
       "    </tr>\n",
       "    <tr>\n",
       "      <th>2019-07-14 03:30:00+00:00</th>\n",
       "      <td>0.21</td>\n",
       "      <td>0.46</td>\n",
       "    </tr>\n",
       "    <tr>\n",
       "      <th>2019-07-14 03:35:00+00:00</th>\n",
       "      <td>0.21</td>\n",
       "      <td>0.46</td>\n",
       "    </tr>\n",
       "  </tbody>\n",
       "</table>\n",
       "</div>"
      ],
      "text/plain": [
       "                           USGS:01589317:00060:00000  \\\n",
       "datetimeUTC                                            \n",
       "2019-07-14 03:15:00+00:00                       0.21   \n",
       "2019-07-14 03:20:00+00:00                       0.21   \n",
       "2019-07-14 03:25:00+00:00                       0.21   \n",
       "2019-07-14 03:30:00+00:00                       0.21   \n",
       "2019-07-14 03:35:00+00:00                       0.21   \n",
       "\n",
       "                           USGS:01589317:00065:00000  \n",
       "datetimeUTC                                           \n",
       "2019-07-14 03:15:00+00:00                       0.46  \n",
       "2019-07-14 03:20:00+00:00                       0.46  \n",
       "2019-07-14 03:25:00+00:00                       0.46  \n",
       "2019-07-14 03:30:00+00:00                       0.46  \n",
       "2019-07-14 03:35:00+00:00                       0.46  "
      ]
     },
     "execution_count": 5,
     "metadata": {},
     "output_type": "execute_result"
    }
   ],
   "source": [
    "test.df('01589317').head()"
   ]
  },
  {
   "cell_type": "markdown",
   "metadata": {},
   "source": [
    "You can ask for the qualifier flags too, if you just want to do a quality control check.\n",
    "\n",
    "The flag 'P' means the data are provisional. The USGS may revise these data after conducting a site visit.\n",
    "A more complete listing of qualifier flags can be found here: https://waterdata.usgs.gov/usa/nwis/uv?codes_help#dv_cd1"
   ]
  },
  {
   "cell_type": "code",
   "execution_count": 6,
   "metadata": {},
   "outputs": [
    {
     "data": {
      "text/html": [
       "<div>\n",
       "<style scoped>\n",
       "    .dataframe tbody tr th:only-of-type {\n",
       "        vertical-align: middle;\n",
       "    }\n",
       "\n",
       "    .dataframe tbody tr th {\n",
       "        vertical-align: top;\n",
       "    }\n",
       "\n",
       "    .dataframe thead th {\n",
       "        text-align: right;\n",
       "    }\n",
       "</style>\n",
       "<table border=\"1\" class=\"dataframe\">\n",
       "  <thead>\n",
       "    <tr style=\"text-align: right;\">\n",
       "      <th></th>\n",
       "      <th>USGS:01589330:00060:00000_qualifiers</th>\n",
       "      <th>USGS:01589330:00065:00000_qualifiers</th>\n",
       "    </tr>\n",
       "    <tr>\n",
       "      <th>datetimeUTC</th>\n",
       "      <th></th>\n",
       "      <th></th>\n",
       "    </tr>\n",
       "  </thead>\n",
       "  <tbody>\n",
       "    <tr>\n",
       "      <th>2019-07-14 03:15:00+00:00</th>\n",
       "      <td>P</td>\n",
       "      <td>P</td>\n",
       "    </tr>\n",
       "    <tr>\n",
       "      <th>2019-07-14 03:20:00+00:00</th>\n",
       "      <td>P</td>\n",
       "      <td>P</td>\n",
       "    </tr>\n",
       "    <tr>\n",
       "      <th>2019-07-14 03:25:00+00:00</th>\n",
       "      <td>P</td>\n",
       "      <td>P</td>\n",
       "    </tr>\n",
       "    <tr>\n",
       "      <th>2019-07-14 03:30:00+00:00</th>\n",
       "      <td>P</td>\n",
       "      <td>P</td>\n",
       "    </tr>\n",
       "    <tr>\n",
       "      <th>2019-07-14 03:35:00+00:00</th>\n",
       "      <td>P</td>\n",
       "      <td>P</td>\n",
       "    </tr>\n",
       "  </tbody>\n",
       "</table>\n",
       "</div>"
      ],
      "text/plain": [
       "                          USGS:01589330:00060:00000_qualifiers  \\\n",
       "datetimeUTC                                                      \n",
       "2019-07-14 03:15:00+00:00                                    P   \n",
       "2019-07-14 03:20:00+00:00                                    P   \n",
       "2019-07-14 03:25:00+00:00                                    P   \n",
       "2019-07-14 03:30:00+00:00                                    P   \n",
       "2019-07-14 03:35:00+00:00                                    P   \n",
       "\n",
       "                          USGS:01589330:00065:00000_qualifiers  \n",
       "datetimeUTC                                                     \n",
       "2019-07-14 03:15:00+00:00                                    P  \n",
       "2019-07-14 03:20:00+00:00                                    P  \n",
       "2019-07-14 03:25:00+00:00                                    P  \n",
       "2019-07-14 03:30:00+00:00                                    P  \n",
       "2019-07-14 03:35:00+00:00                                    P  "
      ]
     },
     "execution_count": 6,
     "metadata": {},
     "output_type": "execute_result"
    }
   ],
   "source": [
    "test.df('01589330', 'flags').head()"
   ]
  },
  {
   "cell_type": "markdown",
   "metadata": {},
   "source": [
    "You can select the parameter you want using the parameter code ('00060' is discharge), \n",
    "but some codes also have an alias to make things easier to remember."
   ]
  },
  {
   "cell_type": "code",
   "execution_count": 7,
   "metadata": {},
   "outputs": [
    {
     "data": {
      "text/html": [
       "<div>\n",
       "<style scoped>\n",
       "    .dataframe tbody tr th:only-of-type {\n",
       "        vertical-align: middle;\n",
       "    }\n",
       "\n",
       "    .dataframe tbody tr th {\n",
       "        vertical-align: top;\n",
       "    }\n",
       "\n",
       "    .dataframe thead th {\n",
       "        text-align: right;\n",
       "    }\n",
       "</style>\n",
       "<table border=\"1\" class=\"dataframe\">\n",
       "  <thead>\n",
       "    <tr style=\"text-align: right;\">\n",
       "      <th></th>\n",
       "      <th>USGS:01589317:00060:00000</th>\n",
       "      <th>USGS:01589330:00060:00000</th>\n",
       "    </tr>\n",
       "    <tr>\n",
       "      <th>datetimeUTC</th>\n",
       "      <th></th>\n",
       "      <th></th>\n",
       "    </tr>\n",
       "  </thead>\n",
       "  <tbody>\n",
       "    <tr>\n",
       "      <th>2019-07-14 03:15:00+00:00</th>\n",
       "      <td>0.21</td>\n",
       "      <td>1.96</td>\n",
       "    </tr>\n",
       "    <tr>\n",
       "      <th>2019-07-14 03:20:00+00:00</th>\n",
       "      <td>0.21</td>\n",
       "      <td>1.80</td>\n",
       "    </tr>\n",
       "    <tr>\n",
       "      <th>2019-07-14 03:25:00+00:00</th>\n",
       "      <td>0.21</td>\n",
       "      <td>1.80</td>\n",
       "    </tr>\n",
       "    <tr>\n",
       "      <th>2019-07-14 03:30:00+00:00</th>\n",
       "      <td>0.21</td>\n",
       "      <td>1.80</td>\n",
       "    </tr>\n",
       "    <tr>\n",
       "      <th>2019-07-14 03:35:00+00:00</th>\n",
       "      <td>0.21</td>\n",
       "      <td>1.80</td>\n",
       "    </tr>\n",
       "  </tbody>\n",
       "</table>\n",
       "</div>"
      ],
      "text/plain": [
       "                           USGS:01589317:00060:00000  \\\n",
       "datetimeUTC                                            \n",
       "2019-07-14 03:15:00+00:00                       0.21   \n",
       "2019-07-14 03:20:00+00:00                       0.21   \n",
       "2019-07-14 03:25:00+00:00                       0.21   \n",
       "2019-07-14 03:30:00+00:00                       0.21   \n",
       "2019-07-14 03:35:00+00:00                       0.21   \n",
       "\n",
       "                           USGS:01589330:00060:00000  \n",
       "datetimeUTC                                           \n",
       "2019-07-14 03:15:00+00:00                       1.96  \n",
       "2019-07-14 03:20:00+00:00                       1.80  \n",
       "2019-07-14 03:25:00+00:00                       1.80  \n",
       "2019-07-14 03:30:00+00:00                       1.80  \n",
       "2019-07-14 03:35:00+00:00                       1.80  "
      ]
     },
     "execution_count": 7,
     "metadata": {},
     "output_type": "execute_result"
    }
   ],
   "source": [
    "test.df('discharge').head()  # 'q' is another alias for discharge; 'stage' is for '00065'"
   ]
  },
  {
   "cell_type": "markdown",
   "metadata": {},
   "source": [
    "The previous example selected discharge data at both sites in the dataset;\n",
    "you can combine your requests in any order to get just the columns you want.\n",
    "For example, the stage data at a single site would be:  `.df('01589317', 'stage')`\n",
    "\n",
    "This will list only the qualifier flags for discharge at the site 01589317:"
   ]
  },
  {
   "cell_type": "code",
   "execution_count": 8,
   "metadata": {},
   "outputs": [
    {
     "data": {
      "text/html": [
       "<div>\n",
       "<style scoped>\n",
       "    .dataframe tbody tr th:only-of-type {\n",
       "        vertical-align: middle;\n",
       "    }\n",
       "\n",
       "    .dataframe tbody tr th {\n",
       "        vertical-align: top;\n",
       "    }\n",
       "\n",
       "    .dataframe thead th {\n",
       "        text-align: right;\n",
       "    }\n",
       "</style>\n",
       "<table border=\"1\" class=\"dataframe\">\n",
       "  <thead>\n",
       "    <tr style=\"text-align: right;\">\n",
       "      <th></th>\n",
       "      <th>USGS:01589317:00060:00000_qualifiers</th>\n",
       "    </tr>\n",
       "    <tr>\n",
       "      <th>datetimeUTC</th>\n",
       "      <th></th>\n",
       "    </tr>\n",
       "  </thead>\n",
       "  <tbody>\n",
       "    <tr>\n",
       "      <th>2019-07-14 03:15:00+00:00</th>\n",
       "      <td>P</td>\n",
       "    </tr>\n",
       "    <tr>\n",
       "      <th>2019-07-14 03:20:00+00:00</th>\n",
       "      <td>P</td>\n",
       "    </tr>\n",
       "    <tr>\n",
       "      <th>2019-07-14 03:25:00+00:00</th>\n",
       "      <td>P</td>\n",
       "    </tr>\n",
       "    <tr>\n",
       "      <th>2019-07-14 03:30:00+00:00</th>\n",
       "      <td>P</td>\n",
       "    </tr>\n",
       "    <tr>\n",
       "      <th>2019-07-14 03:35:00+00:00</th>\n",
       "      <td>P</td>\n",
       "    </tr>\n",
       "  </tbody>\n",
       "</table>\n",
       "</div>"
      ],
      "text/plain": [
       "                          USGS:01589317:00060:00000_qualifiers\n",
       "datetimeUTC                                                   \n",
       "2019-07-14 03:15:00+00:00                                    P\n",
       "2019-07-14 03:20:00+00:00                                    P\n",
       "2019-07-14 03:25:00+00:00                                    P\n",
       "2019-07-14 03:30:00+00:00                                    P\n",
       "2019-07-14 03:35:00+00:00                                    P"
      ]
     },
     "execution_count": 8,
     "metadata": {},
     "output_type": "execute_result"
    }
   ],
   "source": [
    "test.df('q', 'flags', '01589317').head()"
   ]
  },
  {
   "cell_type": "markdown",
   "metadata": {},
   "source": [
    "Hydrofunctions will let you know if you request something you don't have."
   ]
  },
  {
   "cell_type": "code",
   "execution_count": 9,
   "metadata": {},
   "outputs": [
    {
     "ename": "ValueError",
     "evalue": "The site '01580000' is not in this dataset.",
     "output_type": "error",
     "traceback": [
      "\u001b[1;31m---------------------------------------------------------------------------\u001b[0m",
      "\u001b[1;31mValueError\u001b[0m                                Traceback (most recent call last)",
      "\u001b[1;32m<ipython-input-9-fc87a92a52e4>\u001b[0m in \u001b[0;36m<module>\u001b[1;34m\u001b[0m\n\u001b[1;32m----> 1\u001b[1;33m \u001b[0mtest\u001b[0m\u001b[1;33m.\u001b[0m\u001b[0mdf\u001b[0m\u001b[1;33m(\u001b[0m\u001b[1;34m'01580000'\u001b[0m\u001b[1;33m)\u001b[0m\u001b[1;33m\u001b[0m\u001b[1;33m\u001b[0m\u001b[0m\n\u001b[0m",
      "\u001b[1;32mc:\\users\\marty\\google drive\\pydev\\src\\hydrofunctions\\hydrofunctions\\station.py\u001b[0m in \u001b[0;36mdf\u001b[1;34m(self, *args)\u001b[0m\n\u001b[0;32m    228\u001b[0m                     \u001b[0msites\u001b[0m \u001b[1;33m=\u001b[0m \u001b[0mself\u001b[0m\u001b[1;33m.\u001b[0m\u001b[0m_dataframe\u001b[0m\u001b[1;33m.\u001b[0m\u001b[0mcolumns\u001b[0m\u001b[1;33m.\u001b[0m\u001b[0mstr\u001b[0m\u001b[1;33m.\u001b[0m\u001b[0mcontains\u001b[0m\u001b[1;33m(\u001b[0m\u001b[0mstation_arg\u001b[0m\u001b[1;33m)\u001b[0m\u001b[1;33m\u001b[0m\u001b[1;33m\u001b[0m\u001b[0m\n\u001b[0;32m    229\u001b[0m                     \u001b[1;32mif\u001b[0m \u001b[1;32mnot\u001b[0m \u001b[0msites\u001b[0m\u001b[1;33m.\u001b[0m\u001b[0many\u001b[0m\u001b[1;33m(\u001b[0m\u001b[1;33m)\u001b[0m\u001b[1;33m:\u001b[0m\u001b[1;33m\u001b[0m\u001b[1;33m\u001b[0m\u001b[0m\n\u001b[1;32m--> 230\u001b[1;33m                         \u001b[1;32mraise\u001b[0m \u001b[0mValueError\u001b[0m\u001b[1;33m(\u001b[0m\u001b[1;34m\"The site '{site}' is not in this dataset.\"\u001b[0m\u001b[1;33m.\u001b[0m\u001b[0mformat\u001b[0m\u001b[1;33m(\u001b[0m\u001b[0msite\u001b[0m\u001b[1;33m=\u001b[0m\u001b[0mitem\u001b[0m\u001b[1;33m)\u001b[0m\u001b[1;33m)\u001b[0m\u001b[1;33m\u001b[0m\u001b[1;33m\u001b[0m\u001b[0m\n\u001b[0m\u001b[0;32m    231\u001b[0m                 \u001b[1;32melse\u001b[0m\u001b[1;33m:\u001b[0m\u001b[1;33m\u001b[0m\u001b[1;33m\u001b[0m\u001b[0m\n\u001b[0;32m    232\u001b[0m                     \u001b[1;32mraise\u001b[0m \u001b[0mValueError\u001b[0m\u001b[1;33m(\u001b[0m\u001b[1;34m\"The argument '{item}' is not recognized.\"\u001b[0m\u001b[1;33m.\u001b[0m\u001b[0mformat\u001b[0m\u001b[1;33m(\u001b[0m\u001b[0mitem\u001b[0m\u001b[1;33m=\u001b[0m\u001b[0mitem\u001b[0m\u001b[1;33m)\u001b[0m\u001b[1;33m)\u001b[0m\u001b[1;33m\u001b[0m\u001b[1;33m\u001b[0m\u001b[0m\n",
      "\u001b[1;31mValueError\u001b[0m: The site '01580000' is not in this dataset."
     ]
    }
   ],
   "source": [
    "test.df('01580000')"
   ]
  },
  {
   "cell_type": "markdown",
   "metadata": {},
   "source": [
    "Let's use our data for something interesting!"
   ]
  },
  {
   "cell_type": "code",
   "execution_count": null,
   "metadata": {},
   "outputs": [],
   "source": [
    "test.df('q').plot()"
   ]
  },
  {
   "cell_type": "code",
   "execution_count": null,
   "metadata": {},
   "outputs": [],
   "source": [
    "test.df('stage').plot()"
   ]
  }
 ],
 "metadata": {
  "kernelspec": {
   "display_name": "Python 3",
   "language": "python",
   "name": "python3"
  },
  "language_info": {
   "codemirror_mode": {
    "name": "ipython",
    "version": 3
   },
   "file_extension": ".py",
   "mimetype": "text/x-python",
   "name": "python",
   "nbconvert_exporter": "python",
   "pygments_lexer": "ipython3",
   "version": "3.7.1"
  }
 },
 "nbformat": 4,
 "nbformat_minor": 2
}
