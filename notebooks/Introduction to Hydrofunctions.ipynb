{
 "cells": [
  {
   "cell_type": "markdown",
   "metadata": {},
   "source": [
    "# Introduction to Hydrofunctions\n",
    "This guide will step you through the basics of using hydrofunctions. Read more in our [User's Guide](https://hydrofunctions.readthedocs.io), or visit us on [GitHub](https://github.com/mroberge/hydrofunctions)!"
   ]
  },
  {
   "cell_type": "markdown",
   "metadata": {},
   "source": [
    "## Installation\n",
    "The first step before using hydrofunctions is to get it installed on your system. For scientific computing, we highly recommend using the free, open-source [Anaconda](https://www.anaconda.com/download/) distribution to load and manage all of your Python tools and packages. Once you have downloaded and installed Anaconda, or if you already have Python set up on your computer, your next step is to use the pip tool from your operating system's command line to download hydrofunctions.\n",
    "\n",
    "In Linux:\n",
    "`$ pip install hydrofunctions`\n",
    "\n",
    "In Windows:\n",
    "`C:\\MyPythonWorkspace\\> pip install hydrofunctions`\n",
    "\n",
    "If you have any difficulties, visit our [Installation](https://hydrofunctions.readthedocs.io/en/master/installation.html) page in the User's Guide."
   ]
  },
  {
   "cell_type": "markdown",
   "metadata": {},
   "source": [
    "## Getting Started in Python\n",
    "From here on out, we will assume that you have installed hydrofunctions and you are working at a Python command prompt, \n",
    "perhaps in ipython or in a Jupyter notebook."
   ]
  },
  {
   "cell_type": "code",
   "execution_count": 1,
   "metadata": {
    "collapsed": true
   },
   "outputs": [],
   "source": [
    "# The first step is to import hydrofunctions so that we can use it here.\n",
    "\n",
    "import hydrofunctions as hf\n",
    "# This second line allows us to automatically plot diagrams in this notebook.\n",
    "%matplotlib inline"
   ]
  },
  {
   "cell_type": "markdown",
   "metadata": {},
   "source": [
    "### Get data for a USGS streamflow gage\n",
    "The USGS runs an amazing web service called the [National Water Information System](https://waterdata.usgs.gov/nwis). Our\n",
    "first task is to download daily mean discharge data for a stream called Herring Run. Set the start date and the end date for\n",
    "our download, and use the site number for Herring Run ('01585200') to specify which stream gage we want to collect data from.\n",
    "You can visit the [NWIS](https://waterdata.usgs.gov/nwis) website or use [hydrocloud.org](https://mroberge.github.io/HydroCloud/) to find the site number for a stream gage near you."
   ]
  },
  {
   "cell_type": "code",
   "execution_count": 2,
   "metadata": {},
   "outputs": [
    {
     "data": {
      "text/plain": [
       "<hydrofunctions.station.NWIS at 0x2067c9c1da0>"
      ]
     },
     "execution_count": 2,
     "metadata": {},
     "output_type": "execute_result"
    }
   ],
   "source": [
    "start = '2017-06-01'\n",
    "end = '2017-07-14'\n",
    "herring = hf.NWIS('01585200', 'dv', start, end)\n",
    "# We've set up our system, now let's submit our request for data:\n",
    "herring.get_data()"
   ]
  },
  {
   "cell_type": "markdown",
   "metadata": {},
   "source": [
    "## Viewing our data\n",
    "There are several ways to view our data. Try herring.json() or better still, use a [Pandas](https://pandas.pydata.org/) dataframe:"
   ]
  },
  {
   "cell_type": "code",
   "execution_count": 3,
   "metadata": {},
   "outputs": [
    {
     "data": {
      "text/html": [
       "<div>\n",
       "<style>\n",
       "    .dataframe thead tr:only-child th {\n",
       "        text-align: right;\n",
       "    }\n",
       "\n",
       "    .dataframe thead th {\n",
       "        text-align: left;\n",
       "    }\n",
       "\n",
       "    .dataframe tbody tr th {\n",
       "        vertical-align: top;\n",
       "    }\n",
       "</style>\n",
       "<table border=\"1\" class=\"dataframe\">\n",
       "  <thead>\n",
       "    <tr style=\"text-align: right;\">\n",
       "      <th></th>\n",
       "      <th>01585200 - Mean Discharge, cubic feet per second</th>\n",
       "    </tr>\n",
       "    <tr>\n",
       "      <th>datetime</th>\n",
       "      <th></th>\n",
       "    </tr>\n",
       "  </thead>\n",
       "  <tbody>\n",
       "    <tr>\n",
       "      <th>2017-06-01</th>\n",
       "      <td>0.71</td>\n",
       "    </tr>\n",
       "    <tr>\n",
       "      <th>2017-06-02</th>\n",
       "      <td>0.64</td>\n",
       "    </tr>\n",
       "    <tr>\n",
       "      <th>2017-06-03</th>\n",
       "      <td>0.61</td>\n",
       "    </tr>\n",
       "    <tr>\n",
       "      <th>2017-06-04</th>\n",
       "      <td>0.58</td>\n",
       "    </tr>\n",
       "    <tr>\n",
       "      <th>2017-06-05</th>\n",
       "      <td>1.95</td>\n",
       "    </tr>\n",
       "    <tr>\n",
       "      <th>2017-06-06</th>\n",
       "      <td>0.66</td>\n",
       "    </tr>\n",
       "    <tr>\n",
       "      <th>2017-06-07</th>\n",
       "      <td>0.62</td>\n",
       "    </tr>\n",
       "    <tr>\n",
       "      <th>2017-06-08</th>\n",
       "      <td>0.55</td>\n",
       "    </tr>\n",
       "    <tr>\n",
       "      <th>2017-06-09</th>\n",
       "      <td>0.51</td>\n",
       "    </tr>\n",
       "    <tr>\n",
       "      <th>2017-06-10</th>\n",
       "      <td>0.48</td>\n",
       "    </tr>\n",
       "    <tr>\n",
       "      <th>2017-06-11</th>\n",
       "      <td>0.48</td>\n",
       "    </tr>\n",
       "    <tr>\n",
       "      <th>2017-06-12</th>\n",
       "      <td>0.45</td>\n",
       "    </tr>\n",
       "    <tr>\n",
       "      <th>2017-06-13</th>\n",
       "      <td>0.43</td>\n",
       "    </tr>\n",
       "    <tr>\n",
       "      <th>2017-06-14</th>\n",
       "      <td>0.46</td>\n",
       "    </tr>\n",
       "    <tr>\n",
       "      <th>2017-06-15</th>\n",
       "      <td>0.38</td>\n",
       "    </tr>\n",
       "    <tr>\n",
       "      <th>2017-06-16</th>\n",
       "      <td>0.39</td>\n",
       "    </tr>\n",
       "    <tr>\n",
       "      <th>2017-06-17</th>\n",
       "      <td>0.39</td>\n",
       "    </tr>\n",
       "    <tr>\n",
       "      <th>2017-06-18</th>\n",
       "      <td>0.36</td>\n",
       "    </tr>\n",
       "    <tr>\n",
       "      <th>2017-06-19</th>\n",
       "      <td>7.48</td>\n",
       "    </tr>\n",
       "    <tr>\n",
       "      <th>2017-06-20</th>\n",
       "      <td>1.08</td>\n",
       "    </tr>\n",
       "    <tr>\n",
       "      <th>2017-06-21</th>\n",
       "      <td>1.30</td>\n",
       "    </tr>\n",
       "    <tr>\n",
       "      <th>2017-06-22</th>\n",
       "      <td>0.47</td>\n",
       "    </tr>\n",
       "    <tr>\n",
       "      <th>2017-06-23</th>\n",
       "      <td>1.22</td>\n",
       "    </tr>\n",
       "    <tr>\n",
       "      <th>2017-06-24</th>\n",
       "      <td>3.04</td>\n",
       "    </tr>\n",
       "    <tr>\n",
       "      <th>2017-06-25</th>\n",
       "      <td>0.37</td>\n",
       "    </tr>\n",
       "    <tr>\n",
       "      <th>2017-06-26</th>\n",
       "      <td>0.32</td>\n",
       "    </tr>\n",
       "    <tr>\n",
       "      <th>2017-06-27</th>\n",
       "      <td>0.31</td>\n",
       "    </tr>\n",
       "    <tr>\n",
       "      <th>2017-06-28</th>\n",
       "      <td>0.28</td>\n",
       "    </tr>\n",
       "    <tr>\n",
       "      <th>2017-06-29</th>\n",
       "      <td>0.29</td>\n",
       "    </tr>\n",
       "    <tr>\n",
       "      <th>2017-06-30</th>\n",
       "      <td>0.27</td>\n",
       "    </tr>\n",
       "    <tr>\n",
       "      <th>2017-07-01</th>\n",
       "      <td>6.20</td>\n",
       "    </tr>\n",
       "    <tr>\n",
       "      <th>2017-07-02</th>\n",
       "      <td>0.51</td>\n",
       "    </tr>\n",
       "    <tr>\n",
       "      <th>2017-07-03</th>\n",
       "      <td>0.35</td>\n",
       "    </tr>\n",
       "    <tr>\n",
       "      <th>2017-07-04</th>\n",
       "      <td>2.63</td>\n",
       "    </tr>\n",
       "    <tr>\n",
       "      <th>2017-07-05</th>\n",
       "      <td>0.44</td>\n",
       "    </tr>\n",
       "    <tr>\n",
       "      <th>2017-07-06</th>\n",
       "      <td>15.60</td>\n",
       "    </tr>\n",
       "    <tr>\n",
       "      <th>2017-07-07</th>\n",
       "      <td>1.58</td>\n",
       "    </tr>\n",
       "    <tr>\n",
       "      <th>2017-07-08</th>\n",
       "      <td>0.45</td>\n",
       "    </tr>\n",
       "    <tr>\n",
       "      <th>2017-07-09</th>\n",
       "      <td>0.35</td>\n",
       "    </tr>\n",
       "    <tr>\n",
       "      <th>2017-07-10</th>\n",
       "      <td>0.33</td>\n",
       "    </tr>\n",
       "    <tr>\n",
       "      <th>2017-07-11</th>\n",
       "      <td>0.33</td>\n",
       "    </tr>\n",
       "    <tr>\n",
       "      <th>2017-07-12</th>\n",
       "      <td>0.30</td>\n",
       "    </tr>\n",
       "    <tr>\n",
       "      <th>2017-07-13</th>\n",
       "      <td>0.28</td>\n",
       "    </tr>\n",
       "    <tr>\n",
       "      <th>2017-07-14</th>\n",
       "      <td>7.55</td>\n",
       "    </tr>\n",
       "  </tbody>\n",
       "</table>\n",
       "</div>"
      ],
      "text/plain": [
       "            01585200 - Mean Discharge, cubic feet per second\n",
       "datetime                                                    \n",
       "2017-06-01                                              0.71\n",
       "2017-06-02                                              0.64\n",
       "2017-06-03                                              0.61\n",
       "2017-06-04                                              0.58\n",
       "2017-06-05                                              1.95\n",
       "2017-06-06                                              0.66\n",
       "2017-06-07                                              0.62\n",
       "2017-06-08                                              0.55\n",
       "2017-06-09                                              0.51\n",
       "2017-06-10                                              0.48\n",
       "2017-06-11                                              0.48\n",
       "2017-06-12                                              0.45\n",
       "2017-06-13                                              0.43\n",
       "2017-06-14                                              0.46\n",
       "2017-06-15                                              0.38\n",
       "2017-06-16                                              0.39\n",
       "2017-06-17                                              0.39\n",
       "2017-06-18                                              0.36\n",
       "2017-06-19                                              7.48\n",
       "2017-06-20                                              1.08\n",
       "2017-06-21                                              1.30\n",
       "2017-06-22                                              0.47\n",
       "2017-06-23                                              1.22\n",
       "2017-06-24                                              3.04\n",
       "2017-06-25                                              0.37\n",
       "2017-06-26                                              0.32\n",
       "2017-06-27                                              0.31\n",
       "2017-06-28                                              0.28\n",
       "2017-06-29                                              0.29\n",
       "2017-06-30                                              0.27\n",
       "2017-07-01                                              6.20\n",
       "2017-07-02                                              0.51\n",
       "2017-07-03                                              0.35\n",
       "2017-07-04                                              2.63\n",
       "2017-07-05                                              0.44\n",
       "2017-07-06                                             15.60\n",
       "2017-07-07                                              1.58\n",
       "2017-07-08                                              0.45\n",
       "2017-07-09                                              0.35\n",
       "2017-07-10                                              0.33\n",
       "2017-07-11                                              0.33\n",
       "2017-07-12                                              0.30\n",
       "2017-07-13                                              0.28\n",
       "2017-07-14                                              7.55"
      ]
     },
     "execution_count": 3,
     "metadata": {},
     "output_type": "execute_result"
    }
   ],
   "source": [
    "herring.df()"
   ]
  },
  {
   "cell_type": "code",
   "execution_count": 4,
   "metadata": {},
   "outputs": [
    {
     "data": {
      "text/plain": [
       "<matplotlib.axes._subplots.AxesSubplot at 0x2067a7aca58>"
      ]
     },
     "execution_count": 4,
     "metadata": {},
     "output_type": "execute_result"
    },
    {
     "data": {
      "image/png": "[encoded data removed]",
      "text/plain": [
       "<matplotlib.figure.Figure at 0x2067ca2e198>"
      ]
     },
     "metadata": {},
     "output_type": "display_data"
    }
   ],
   "source": [
    "# Pandas' dataframes give you acess to hundreds of useful methods, such as .describe() and .plot():\n",
    "herring.df().plot()"
   ]
  },
  {
   "cell_type": "markdown",
   "metadata": {},
   "source": [
    "## Multiple sites, other parameters\n",
    "It's possible to load data from several different sites at the same time, and you aren't limited to just stream discharge."
   ]
  },
  {
   "cell_type": "code",
   "execution_count": 5,
   "metadata": {},
   "outputs": [
    {
     "data": {
      "text/plain": [
       "380616075380701 -  Depth to water level, feet below land surface    1.215141\n",
       "394008077005601 -  Depth to water level, feet below land surface    3.205391\n",
       "dtype: float64"
      ]
     },
     "execution_count": 5,
     "metadata": {},
     "output_type": "execute_result"
    }
   ],
   "source": [
    "# Request data for several sites in a list\n",
    "sites = ['380616075380701','394008077005601']\n",
    "# The NWIS can deliver data as daily mean values ('dv') or as instantaneous values ('iv') \n",
    "# that can get collected as often as every five minutes!\n",
    "service = 'iv'\n",
    "# Depending on the site, the USGS collects groundwater levels ('72019'), stage ('00065'), precipitation, and more!\n",
    "pcode = '72019'\n",
    "# create a new dataset called 'groundwater', and we'll use the values we set up above.\n",
    "groundwater = hf.NWIS(sites, service, '2018-01-01', '2018-01-31', parameterCd=pcode)\n",
    "# Submit our request\n",
    "groundwater.get_data().df().mean()"
   ]
  },
  {
   "cell_type": "code",
   "execution_count": 6,
   "metadata": {},
   "outputs": [
    {
     "data": {
      "text/plain": [
       "<matplotlib.axes._subplots.AxesSubplot at 0x2067cd232b0>"
      ]
     },
     "execution_count": 6,
     "metadata": {},
     "output_type": "execute_result"
    },
    {
     "data": {
      "image/png": "[encoded data removed]",
      "text/plain": [
       "<matplotlib.figure.Figure at 0x2067cad7470>"
      ]
     },
     "metadata": {},
     "output_type": "display_data"
    }
   ],
   "source": [
    "# Let's view the data in a specially styled graph!\n",
    "groundwater.df().plot(marker='o', mfc='white', ms=4, mec='black', color='black')"
   ]
  },
  {
   "cell_type": "markdown",
   "metadata": {},
   "source": [
    "## Learning More\n",
    "hydrofunctions comes with a variety of built-in help functions that you can access from the command line, in addition to our online [User's Guide](https://hydrofunctions.readthedocs.io). \n",
    "\n",
    "Jupyter Notebooks provide additional helpful shortcuts, such as code completion. This will list all of the available\n",
    "methods for an object just by hitting <TAB> like this: `herring.<TAB>` this is equivalent to using dir(herring) to list\n",
    "all of the methods available to you."
   ]
  },
  {
   "cell_type": "code",
   "execution_count": 7,
   "metadata": {},
   "outputs": [
    {
     "name": "stdout",
     "output_type": "stream",
     "text": [
      "Help on function get_nwis in module hydrofunctions.hydrofunctions:\n",
      "\n",
      "get_nwis(site, service, start_date=None, end_date=None, stateCd=None, countyCd=None, parameterCd='00060', period=None)\n",
      "    Request stream gauge data from the USGS NWIS.\n",
      "    \n",
      "    Args:\n",
      "        site (str or list of strings):\n",
      "            a valid site is '01585200' or ['01585200', '01646502']. site\n",
      "            should be None if stateCd or countyCd are not None.\n",
      "    \n",
      "        service (str):\n",
      "            can either be 'iv' or 'dv' for instantaneous or daily data.\n",
      "                'dv'(default): daily values. Mean value for an entire day.\n",
      "                'iv': instantaneous value measured at this time. Also known\n",
      "                      as 'Real-time data'. Can be measured as often as every\n",
      "                      five minutes by the USGS. 15 minutes is more typical.\n",
      "    \n",
      "        start_date (str):\n",
      "           should take on the form yyyy-mm-dd\n",
      "    \n",
      "        end_date (str):\n",
      "            should take on the form yyyy-mm-dd\n",
      "    \n",
      "        stateCd (str):\n",
      "            a valid two-letter state postal abbreviation. Default is None.\n",
      "    \n",
      "        countyCd (str or list of strings):\n",
      "            a valid county abbreviation. Default is None.\n",
      "    \n",
      "        parameterCd (str):\n",
      "            NWIS parameter code. Default is stream discharge '00060'\n",
      "                * stage: '00065'\n",
      "                * discharge: '00060'\n",
      "                * not all sites collect all parameters!\n",
      "                * See https://nwis.waterdata.usgs.gov/usa/nwis/pmcodes for\n",
      "                  full list\n",
      "    \n",
      "        period (str):\n",
      "            NWIS period code. Default is None.\n",
      "                * Format is \"PxxD\", where xx is the number of days before\n",
      "                today, with a maximum of 999 days accepted.\n",
      "                * Either use start_date or period, but not both.\n",
      "    \n",
      "    Returns:\n",
      "        a response object. This function will always return the response,\n",
      "            even if the NWIS returns a status_code that indicates a problem.\n",
      "    \n",
      "            * response.url: the url we used to request data\n",
      "            * response.status_code: '200' when okay; see\n",
      "            <https://www.w3.org/Protocols/rfc2616/rfc2616-sec10.html>\n",
      "            * response.json: the content translated as json\n",
      "            * response.status_code: the internet status code\n",
      "                - '200': is a good request\n",
      "                - non-200 codes will be reported as a warning.\n",
      "                - '400': is a 'Bad Request'-- the parameters did not make sense\n",
      "            * response.ok: \"True\" when we get a '200' status_code\n",
      "    \n",
      "    Raises:\n",
      "        ConnectionError: due to connection problems like refused connection\n",
      "            or DNS Error.\n",
      "    \n",
      "        SyntaxWarning: when NWIS returns a response code that is not 200.\n",
      "    \n",
      "    Example::\n",
      "    \n",
      "        >>> import hydrofunctions as hf\n",
      "        >>> response = hf.get_nwis('01585200', 'dv', '2012-06-01', '2012-07-01')\n",
      "    \n",
      "        >>> response\n",
      "        <response [200]>\n",
      "    \n",
      "        >>> response.json()\n",
      "        *JSON ensues*\n",
      "    \n",
      "        >>> hf.extract_nwis_df(response)\n",
      "        *a Pandas dataframe appears*\n",
      "    \n",
      "    Other Valid Ways to Make a Request::\n",
      "    \n",
      "        >>> sites = ['07180500', '03380475', '06926000'] # Request a list of sites.\n",
      "        >>> service = 'iv'  # Request real-time data\n",
      "        >>> days = 'P10D'  # Request the last 10 days.\n",
      "        >>> stage = '00065' # Sites that collect discharge usually collect water depth too.\n",
      "        >>> response2 = hf.get_nwis(sites, service, period=days, parameterCd=stage)\n",
      "    \n",
      "    Request Data By Location::\n",
      "    \n",
      "        >>> # Request the most recent daily data for every site in Maine\n",
      "        >>> response3 = hf.get_nwis(None, 'dv', stateCd='ME')\n",
      "        >>> response3\n",
      "        <Response [200]>\n",
      "    \n",
      "    The specification for the USGS NWIS IV service is located here:\n",
      "    http://waterservices.usgs.gov/rest/IV-Service.html\n",
      "\n"
     ]
    }
   ],
   "source": [
    "# Typing help() or dir() for different objects allows you to access additional information.\n",
    "# help(hf) is equivalent to just using a question mark like this: ?hf\n",
    "help(hf.get_nwis)"
   ]
  },
  {
   "cell_type": "markdown",
   "metadata": {},
   "source": [
    "# Advanced Techniques"
   ]
  },
  {
   "cell_type": "markdown",
   "metadata": {},
   "source": [
    "### Download data for a large number of sites"
   ]
  },
  {
   "cell_type": "code",
   "execution_count": 8,
   "metadata": {},
   "outputs": [
    {
     "name": "stdout",
     "output_type": "stream",
     "text": [
      "No. sites: 38\n"
     ]
    },
    {
     "data": {
      "text/plain": [
       "07344500 - Minimum Discharge, cubic feet per second      6.183548\n",
       "07344500 - Mean Discharge, cubic feet per second         8.130323\n",
       "07346000 - Maximum Discharge, cubic feet per second    287.129032\n",
       "07346000 - Minimum Discharge, cubic feet per second    283.193548\n",
       "07346000 - Mean Discharge, cubic feet per second       285.000000\n",
       "dtype: float64"
      ]
     },
     "execution_count": 8,
     "metadata": {},
     "output_type": "execute_result"
    }
   ],
   "source": [
    "sites = ['07227500', '07228000', '07235000', '07295500', '07297910', '07298500', '07299540',\n",
    "         '07299670', '07299890', '07300000', '07301300', '07301410', '07308200', '07308500', '07311600',\n",
    "         '07311630', '07311700', '07311782', '07311783', '07311800', '07311900', '07312100', '07312200',\n",
    "         '07312500', '07312700', '07314500', '07314900', '07315200', '07315500', '07342465', '07342480',\n",
    "         '07342500', '07343000', '07343200', '07343500', '07344210', '07344500', '07346000']\n",
    "mult = hf.NWIS(sites, \"dv\", \"2018-01-01\", \"2018-01-31\")\n",
    "print('No. sites: {}'.format(len(sites)))\n",
    "# This will calculate the mean value for each site, but only list the first five values.\n",
    "mult.get_data().df().mean().tail()"
   ]
  },
  {
   "cell_type": "code",
   "execution_count": 9,
   "metadata": {},
   "outputs": [
    {
     "data": {
      "text/plain": [
       "'https://waterservices.usgs.gov/nwis/dv/?format=json%2C1.1&sites=07227500%2C07228000%2C07235000%2C07295500%2C07297910%2C07298500%2C07299540%2C07299670%2C07299890%2C07300000%2C07301300%2C07301410%2C07308200%2C07308500%2C07311600%2C07311630%2C07311700%2C07311782%2C07311783%2C07311800%2C07311900%2C07312100%2C07312200%2C07312500%2C07312700%2C07314500%2C07314900%2C07315200%2C07315500%2C07342465%2C07342480%2C07342500%2C07343000%2C07343200%2C07343500%2C07344210%2C07344500%2C07346000&parameterCd=00060&startDT=2018-01-01&endDT=2018-01-31'"
      ]
     },
     "execution_count": 9,
     "metadata": {},
     "output_type": "execute_result"
    }
   ],
   "source": [
    "mult.response.url"
   ]
  },
  {
   "cell_type": "code",
   "execution_count": 10,
   "metadata": {},
   "outputs": [
    {
     "data": {
      "text/plain": [
       "<matplotlib.axes._subplots.AxesSubplot at 0x2067df32e80>"
      ]
     },
     "execution_count": 10,
     "metadata": {},
     "output_type": "execute_result"
    },
    {
     "data": {
      "image/png": "[encoded data removed]",
      "text/plain": [
       "<matplotlib.figure.Figure at 0x2067df6e9b0>"
      ]
     },
     "metadata": {},
     "output_type": "display_data"
    }
   ],
   "source": [
    "# Plot the data for just one site in the list\n",
    "mult.get_data().df()['07228000 - Mean Discharge, cubic feet per second'].plot()"
   ]
  },
  {
   "cell_type": "markdown",
   "metadata": {},
   "source": [
    "#### List some of the data available to you in a dataframe."
   ]
  },
  {
   "cell_type": "code",
   "execution_count": 11,
   "metadata": {},
   "outputs": [
    {
     "data": {
      "text/plain": [
       "Index(['07228000 - Mean Discharge, cubic feet per second',\n",
       "       '07227500 - Mean Discharge, cubic feet per second',\n",
       "       '07235000 - Maximum Discharge, cubic feet per second',\n",
       "       '07235000 - Minimum Discharge, cubic feet per second',\n",
       "       '07235000 - Mean Discharge, cubic feet per second',\n",
       "       '07295500 - Maximum Discharge, cubic feet per second',\n",
       "       '07295500 - Minimum Discharge, cubic feet per second',\n",
       "       '07295500 - Mean Discharge, cubic feet per second',\n",
       "       '07297910 - Maximum Discharge, cubic feet per second',\n",
       "       '07297910 - Minimum Discharge, cubic feet per second',\n",
       "       '07297910 - Mean Discharge, cubic feet per second',\n",
       "       '07298500 - Maximum Discharge, cubic feet per second',\n",
       "       '07298500 - Minimum Discharge, cubic feet per second',\n",
       "       '07298500 - Mean Discharge, cubic feet per second',\n",
       "       '07299540 - Mean Discharge, cubic feet per second',\n",
       "       '07299670 - Maximum Discharge, cubic feet per second',\n",
       "       '07299670 - Minimum Discharge, cubic feet per second',\n",
       "       '07299670 - Mean Discharge, cubic feet per second',\n",
       "       '07299890 - Maximum Discharge, cubic feet per second',\n",
       "       '07299890 - Minimum Discharge, cubic feet per second',\n",
       "       '07299890 - Mean Discharge, cubic feet per second',\n",
       "       '07300000 - Mean Discharge, cubic feet per second',\n",
       "       '07301300 - Mean Discharge, cubic feet per second',\n",
       "       '07301410 - Maximum Discharge, cubic feet per second',\n",
       "       '07301410 - Minimum Discharge, cubic feet per second',\n",
       "       '07301410 - Mean Discharge, cubic feet per second',\n",
       "       '07308200 - Mean Discharge, cubic feet per second',\n",
       "       '07308500 - Mean Discharge, cubic feet per second',\n",
       "       '07311700 - Mean Discharge, cubic feet per second',\n",
       "       '07311800 - Maximum Discharge, cubic feet per second',\n",
       "       '07311800 - Minimum Discharge, cubic feet per second',\n",
       "       '07311800 - Mean Discharge, cubic feet per second',\n",
       "       '07311900 - Mean Discharge, cubic feet per second',\n",
       "       '07312100 - Mean Discharge, cubic feet per second',\n",
       "       '07312200 - Mean Discharge, cubic feet per second',\n",
       "       '07312500 - Mean Discharge, cubic feet per second',\n",
       "       '07312700 - Maximum Discharge, cubic feet per second',\n",
       "       '07312700 - Minimum Discharge, cubic feet per second',\n",
       "       '07312700 - Mean Discharge, cubic feet per second',\n",
       "       '07314500 - Maximum Discharge, cubic feet per second',\n",
       "       '07314500 - Minimum Discharge, cubic feet per second',\n",
       "       '07314500 - Mean Discharge, cubic feet per second',\n",
       "       '07314900 - Maximum Discharge, cubic feet per second',\n",
       "       '07314900 - Minimum Discharge, cubic feet per second',\n",
       "       '07314900 - Mean Discharge, cubic feet per second',\n",
       "       '07315200 - Mean Discharge, cubic feet per second',\n",
       "       '07315500 - Maximum Discharge, cubic feet per second',\n",
       "       '07315500 - Minimum Discharge, cubic feet per second',\n",
       "       '07315500 - Mean Discharge, cubic feet per second',\n",
       "       '07342465 - Maximum Discharge, cubic feet per second',\n",
       "       '07342465 - Minimum Discharge, cubic feet per second',\n",
       "       '07342465 - Mean Discharge, cubic feet per second',\n",
       "       '07342480 - Maximum Discharge, cubic feet per second',\n",
       "       '07342480 - Minimum Discharge, cubic feet per second',\n",
       "       '07342480 - Mean Discharge, cubic feet per second',\n",
       "       '07342500 - Maximum Discharge, cubic feet per second',\n",
       "       '07342500 - Minimum Discharge, cubic feet per second',\n",
       "       '07342500 - Mean Discharge, cubic feet per second',\n",
       "       '07343000 - Maximum Discharge, cubic feet per second',\n",
       "       '07343000 - Minimum Discharge, cubic feet per second',\n",
       "       '07343000 - Mean Discharge, cubic feet per second',\n",
       "       '07343200 - Maximum Discharge, cubic feet per second',\n",
       "       '07343200 - Minimum Discharge, cubic feet per second',\n",
       "       '07343200 - Mean Discharge, cubic feet per second',\n",
       "       '07343500 - Maximum Discharge, cubic feet per second',\n",
       "       '07343500 - Minimum Discharge, cubic feet per second',\n",
       "       '07343500 - Mean Discharge, cubic feet per second',\n",
       "       '07344210 - Maximum Discharge, cubic feet per second',\n",
       "       '07344210 - Minimum Discharge, cubic feet per second',\n",
       "       '07344210 - Mean Discharge, cubic feet per second',\n",
       "       '07344500 - Maximum Discharge, cubic feet per second',\n",
       "       '07344500 - Minimum Discharge, cubic feet per second',\n",
       "       '07344500 - Mean Discharge, cubic feet per second',\n",
       "       '07346000 - Maximum Discharge, cubic feet per second',\n",
       "       '07346000 - Minimum Discharge, cubic feet per second',\n",
       "       '07346000 - Mean Discharge, cubic feet per second'],\n",
       "      dtype='object')"
      ]
     },
     "execution_count": 11,
     "metadata": {},
     "output_type": "execute_result"
    }
   ],
   "source": [
    "mult.df().columns"
   ]
  },
  {
   "cell_type": "markdown",
   "metadata": {},
   "source": [
    "#### Create a table of discharge data\n",
    "`.head()`  only show the first five  \n",
    "`.tail()`  only show the last five"
   ]
  },
  {
   "cell_type": "code",
   "execution_count": 12,
   "metadata": {},
   "outputs": [
    {
     "data": {
      "text/html": [
       "<div>\n",
       "<style>\n",
       "    .dataframe thead tr:only-child th {\n",
       "        text-align: right;\n",
       "    }\n",
       "\n",
       "    .dataframe thead th {\n",
       "        text-align: left;\n",
       "    }\n",
       "\n",
       "    .dataframe tbody tr th {\n",
       "        vertical-align: top;\n",
       "    }\n",
       "</style>\n",
       "<table border=\"1\" class=\"dataframe\">\n",
       "  <thead>\n",
       "    <tr style=\"text-align: right;\">\n",
       "      <th></th>\n",
       "      <th>07228000 - Mean Discharge, cubic feet per second</th>\n",
       "      <th>07227500 - Mean Discharge, cubic feet per second</th>\n",
       "      <th>07235000 - Maximum Discharge, cubic feet per second</th>\n",
       "      <th>07235000 - Minimum Discharge, cubic feet per second</th>\n",
       "      <th>07235000 - Mean Discharge, cubic feet per second</th>\n",
       "      <th>07295500 - Maximum Discharge, cubic feet per second</th>\n",
       "      <th>07295500 - Minimum Discharge, cubic feet per second</th>\n",
       "      <th>07295500 - Mean Discharge, cubic feet per second</th>\n",
       "      <th>07297910 - Maximum Discharge, cubic feet per second</th>\n",
       "      <th>07297910 - Minimum Discharge, cubic feet per second</th>\n",
       "      <th>...</th>\n",
       "      <th>07343500 - Mean Discharge, cubic feet per second</th>\n",
       "      <th>07344210 - Maximum Discharge, cubic feet per second</th>\n",
       "      <th>07344210 - Minimum Discharge, cubic feet per second</th>\n",
       "      <th>07344210 - Mean Discharge, cubic feet per second</th>\n",
       "      <th>07344500 - Maximum Discharge, cubic feet per second</th>\n",
       "      <th>07344500 - Minimum Discharge, cubic feet per second</th>\n",
       "      <th>07344500 - Mean Discharge, cubic feet per second</th>\n",
       "      <th>07346000 - Maximum Discharge, cubic feet per second</th>\n",
       "      <th>07346000 - Minimum Discharge, cubic feet per second</th>\n",
       "      <th>07346000 - Mean Discharge, cubic feet per second</th>\n",
       "    </tr>\n",
       "    <tr>\n",
       "      <th>dateTime</th>\n",
       "      <th></th>\n",
       "      <th></th>\n",
       "      <th></th>\n",
       "      <th></th>\n",
       "      <th></th>\n",
       "      <th></th>\n",
       "      <th></th>\n",
       "      <th></th>\n",
       "      <th></th>\n",
       "      <th></th>\n",
       "      <th></th>\n",
       "      <th></th>\n",
       "      <th></th>\n",
       "      <th></th>\n",
       "      <th></th>\n",
       "      <th></th>\n",
       "      <th></th>\n",
       "      <th></th>\n",
       "      <th></th>\n",
       "      <th></th>\n",
       "      <th></th>\n",
       "    </tr>\n",
       "  </thead>\n",
       "  <tbody>\n",
       "    <tr>\n",
       "      <th>2018-01-01</th>\n",
       "      <td>55.2</td>\n",
       "      <td>46.2</td>\n",
       "      <td>0.48</td>\n",
       "      <td>0.34</td>\n",
       "      <td>0.39</td>\n",
       "      <td>0.0</td>\n",
       "      <td>0.0</td>\n",
       "      <td>0.0</td>\n",
       "      <td>NaN</td>\n",
       "      <td>NaN</td>\n",
       "      <td>...</td>\n",
       "      <td>38.5</td>\n",
       "      <td>771.0</td>\n",
       "      <td>753.0</td>\n",
       "      <td>NaN</td>\n",
       "      <td>4.82</td>\n",
       "      <td>4.00</td>\n",
       "      <td>4.44</td>\n",
       "      <td>285.0</td>\n",
       "      <td>283.0</td>\n",
       "      <td>284.0</td>\n",
       "    </tr>\n",
       "    <tr>\n",
       "      <th>2018-01-02</th>\n",
       "      <td>55.2</td>\n",
       "      <td>58.8</td>\n",
       "      <td>0.54</td>\n",
       "      <td>0.31</td>\n",
       "      <td>0.41</td>\n",
       "      <td>0.0</td>\n",
       "      <td>0.0</td>\n",
       "      <td>0.0</td>\n",
       "      <td>NaN</td>\n",
       "      <td>NaN</td>\n",
       "      <td>...</td>\n",
       "      <td>34.9</td>\n",
       "      <td>1350.0</td>\n",
       "      <td>760.0</td>\n",
       "      <td>NaN</td>\n",
       "      <td>5.27</td>\n",
       "      <td>3.70</td>\n",
       "      <td>4.32</td>\n",
       "      <td>285.0</td>\n",
       "      <td>284.0</td>\n",
       "      <td>285.0</td>\n",
       "    </tr>\n",
       "    <tr>\n",
       "      <th>2018-01-03</th>\n",
       "      <td>57.0</td>\n",
       "      <td>56.8</td>\n",
       "      <td>0.48</td>\n",
       "      <td>0.38</td>\n",
       "      <td>0.43</td>\n",
       "      <td>0.0</td>\n",
       "      <td>0.0</td>\n",
       "      <td>0.0</td>\n",
       "      <td>NaN</td>\n",
       "      <td>NaN</td>\n",
       "      <td>...</td>\n",
       "      <td>32.6</td>\n",
       "      <td>1510.0</td>\n",
       "      <td>1350.0</td>\n",
       "      <td>NaN</td>\n",
       "      <td>6.10</td>\n",
       "      <td>4.97</td>\n",
       "      <td>5.29</td>\n",
       "      <td>285.0</td>\n",
       "      <td>284.0</td>\n",
       "      <td>284.0</td>\n",
       "    </tr>\n",
       "    <tr>\n",
       "      <th>2018-01-04</th>\n",
       "      <td>58.0</td>\n",
       "      <td>55.0</td>\n",
       "      <td>0.42</td>\n",
       "      <td>0.38</td>\n",
       "      <td>0.40</td>\n",
       "      <td>0.0</td>\n",
       "      <td>0.0</td>\n",
       "      <td>0.0</td>\n",
       "      <td>NaN</td>\n",
       "      <td>NaN</td>\n",
       "      <td>...</td>\n",
       "      <td>29.7</td>\n",
       "      <td>1530.0</td>\n",
       "      <td>1510.0</td>\n",
       "      <td>NaN</td>\n",
       "      <td>7.19</td>\n",
       "      <td>6.10</td>\n",
       "      <td>6.66</td>\n",
       "      <td>284.0</td>\n",
       "      <td>283.0</td>\n",
       "      <td>283.0</td>\n",
       "    </tr>\n",
       "    <tr>\n",
       "      <th>2018-01-05</th>\n",
       "      <td>58.2</td>\n",
       "      <td>58.8</td>\n",
       "      <td>0.42</td>\n",
       "      <td>0.38</td>\n",
       "      <td>0.40</td>\n",
       "      <td>0.0</td>\n",
       "      <td>0.0</td>\n",
       "      <td>0.0</td>\n",
       "      <td>32.5</td>\n",
       "      <td>17.2</td>\n",
       "      <td>...</td>\n",
       "      <td>26.4</td>\n",
       "      <td>1530.0</td>\n",
       "      <td>1510.0</td>\n",
       "      <td>NaN</td>\n",
       "      <td>7.42</td>\n",
       "      <td>6.61</td>\n",
       "      <td>7.03</td>\n",
       "      <td>284.0</td>\n",
       "      <td>282.0</td>\n",
       "      <td>283.0</td>\n",
       "    </tr>\n",
       "  </tbody>\n",
       "</table>\n",
       "<p>5 rows × 76 columns</p>\n",
       "</div>"
      ],
      "text/plain": [
       "            07228000 - Mean Discharge, cubic feet per second  \\\n",
       "dateTime                                                       \n",
       "2018-01-01                                              55.2   \n",
       "2018-01-02                                              55.2   \n",
       "2018-01-03                                              57.0   \n",
       "2018-01-04                                              58.0   \n",
       "2018-01-05                                              58.2   \n",
       "\n",
       "            07227500 - Mean Discharge, cubic feet per second  \\\n",
       "dateTime                                                       \n",
       "2018-01-01                                              46.2   \n",
       "2018-01-02                                              58.8   \n",
       "2018-01-03                                              56.8   \n",
       "2018-01-04                                              55.0   \n",
       "2018-01-05                                              58.8   \n",
       "\n",
       "            07235000 - Maximum Discharge, cubic feet per second  \\\n",
       "dateTime                                                          \n",
       "2018-01-01                                               0.48     \n",
       "2018-01-02                                               0.54     \n",
       "2018-01-03                                               0.48     \n",
       "2018-01-04                                               0.42     \n",
       "2018-01-05                                               0.42     \n",
       "\n",
       "            07235000 - Minimum Discharge, cubic feet per second  \\\n",
       "dateTime                                                          \n",
       "2018-01-01                                               0.34     \n",
       "2018-01-02                                               0.31     \n",
       "2018-01-03                                               0.38     \n",
       "2018-01-04                                               0.38     \n",
       "2018-01-05                                               0.38     \n",
       "\n",
       "            07235000 - Mean Discharge, cubic feet per second  \\\n",
       "dateTime                                                       \n",
       "2018-01-01                                              0.39   \n",
       "2018-01-02                                              0.41   \n",
       "2018-01-03                                              0.43   \n",
       "2018-01-04                                              0.40   \n",
       "2018-01-05                                              0.40   \n",
       "\n",
       "            07295500 - Maximum Discharge, cubic feet per second  \\\n",
       "dateTime                                                          \n",
       "2018-01-01                                                0.0     \n",
       "2018-01-02                                                0.0     \n",
       "2018-01-03                                                0.0     \n",
       "2018-01-04                                                0.0     \n",
       "2018-01-05                                                0.0     \n",
       "\n",
       "            07295500 - Minimum Discharge, cubic feet per second  \\\n",
       "dateTime                                                          \n",
       "2018-01-01                                                0.0     \n",
       "2018-01-02                                                0.0     \n",
       "2018-01-03                                                0.0     \n",
       "2018-01-04                                                0.0     \n",
       "2018-01-05                                                0.0     \n",
       "\n",
       "            07295500 - Mean Discharge, cubic feet per second  \\\n",
       "dateTime                                                       \n",
       "2018-01-01                                               0.0   \n",
       "2018-01-02                                               0.0   \n",
       "2018-01-03                                               0.0   \n",
       "2018-01-04                                               0.0   \n",
       "2018-01-05                                               0.0   \n",
       "\n",
       "            07297910 - Maximum Discharge, cubic feet per second  \\\n",
       "dateTime                                                          \n",
       "2018-01-01                                                NaN     \n",
       "2018-01-02                                                NaN     \n",
       "2018-01-03                                                NaN     \n",
       "2018-01-04                                                NaN     \n",
       "2018-01-05                                               32.5     \n",
       "\n",
       "            07297910 - Minimum Discharge, cubic feet per second  \\\n",
       "dateTime                                                          \n",
       "2018-01-01                                                NaN     \n",
       "2018-01-02                                                NaN     \n",
       "2018-01-03                                                NaN     \n",
       "2018-01-04                                                NaN     \n",
       "2018-01-05                                               17.2     \n",
       "\n",
       "                                  ...                         \\\n",
       "dateTime                          ...                          \n",
       "2018-01-01                        ...                          \n",
       "2018-01-02                        ...                          \n",
       "2018-01-03                        ...                          \n",
       "2018-01-04                        ...                          \n",
       "2018-01-05                        ...                          \n",
       "\n",
       "            07343500 - Mean Discharge, cubic feet per second  \\\n",
       "dateTime                                                       \n",
       "2018-01-01                                              38.5   \n",
       "2018-01-02                                              34.9   \n",
       "2018-01-03                                              32.6   \n",
       "2018-01-04                                              29.7   \n",
       "2018-01-05                                              26.4   \n",
       "\n",
       "            07344210 - Maximum Discharge, cubic feet per second  \\\n",
       "dateTime                                                          \n",
       "2018-01-01                                              771.0     \n",
       "2018-01-02                                             1350.0     \n",
       "2018-01-03                                             1510.0     \n",
       "2018-01-04                                             1530.0     \n",
       "2018-01-05                                             1530.0     \n",
       "\n",
       "            07344210 - Minimum Discharge, cubic feet per second  \\\n",
       "dateTime                                                          \n",
       "2018-01-01                                              753.0     \n",
       "2018-01-02                                              760.0     \n",
       "2018-01-03                                             1350.0     \n",
       "2018-01-04                                             1510.0     \n",
       "2018-01-05                                             1510.0     \n",
       "\n",
       "            07344210 - Mean Discharge, cubic feet per second  \\\n",
       "dateTime                                                       \n",
       "2018-01-01                                               NaN   \n",
       "2018-01-02                                               NaN   \n",
       "2018-01-03                                               NaN   \n",
       "2018-01-04                                               NaN   \n",
       "2018-01-05                                               NaN   \n",
       "\n",
       "            07344500 - Maximum Discharge, cubic feet per second  \\\n",
       "dateTime                                                          \n",
       "2018-01-01                                               4.82     \n",
       "2018-01-02                                               5.27     \n",
       "2018-01-03                                               6.10     \n",
       "2018-01-04                                               7.19     \n",
       "2018-01-05                                               7.42     \n",
       "\n",
       "            07344500 - Minimum Discharge, cubic feet per second  \\\n",
       "dateTime                                                          \n",
       "2018-01-01                                               4.00     \n",
       "2018-01-02                                               3.70     \n",
       "2018-01-03                                               4.97     \n",
       "2018-01-04                                               6.10     \n",
       "2018-01-05                                               6.61     \n",
       "\n",
       "            07344500 - Mean Discharge, cubic feet per second  \\\n",
       "dateTime                                                       \n",
       "2018-01-01                                              4.44   \n",
       "2018-01-02                                              4.32   \n",
       "2018-01-03                                              5.29   \n",
       "2018-01-04                                              6.66   \n",
       "2018-01-05                                              7.03   \n",
       "\n",
       "            07346000 - Maximum Discharge, cubic feet per second  \\\n",
       "dateTime                                                          \n",
       "2018-01-01                                              285.0     \n",
       "2018-01-02                                              285.0     \n",
       "2018-01-03                                              285.0     \n",
       "2018-01-04                                              284.0     \n",
       "2018-01-05                                              284.0     \n",
       "\n",
       "            07346000 - Minimum Discharge, cubic feet per second  \\\n",
       "dateTime                                                          \n",
       "2018-01-01                                              283.0     \n",
       "2018-01-02                                              284.0     \n",
       "2018-01-03                                              284.0     \n",
       "2018-01-04                                              283.0     \n",
       "2018-01-05                                              282.0     \n",
       "\n",
       "            07346000 - Mean Discharge, cubic feet per second  \n",
       "dateTime                                                      \n",
       "2018-01-01                                             284.0  \n",
       "2018-01-02                                             285.0  \n",
       "2018-01-03                                             284.0  \n",
       "2018-01-04                                             283.0  \n",
       "2018-01-05                                             283.0  \n",
       "\n",
       "[5 rows x 76 columns]"
      ]
     },
     "execution_count": 12,
     "metadata": {},
     "output_type": "execute_result"
    }
   ],
   "source": [
    "mult.df().head()"
   ]
  },
  {
   "cell_type": "markdown",
   "metadata": {},
   "source": [
    "### Download all streamflow data for the state of Virginia"
   ]
  },
  {
   "cell_type": "code",
   "execution_count": 13,
   "metadata": {
    "collapsed": true
   },
   "outputs": [],
   "source": [
    "# Use this carefully! You can easily request more data than you will know what to do with.\n",
    "start = \"2017-01-01\"\n",
    "end = \"2017-12-31\"\n",
    "vas = hf.get_nwis(None, \"dv\", start, end, stateCd='va')"
   ]
  },
  {
   "cell_type": "code",
   "execution_count": 14,
   "metadata": {
    "collapsed": true
   },
   "outputs": [],
   "source": [
    "# Extract a dataframe from the response we received from the NWIS.\n",
    "vad = hf.extract_nwis_df(vas)"
   ]
  },
  {
   "cell_type": "code",
   "execution_count": 15,
   "metadata": {},
   "outputs": [
    {
     "data": {
      "text/plain": [
       "01613900 - Mean Discharge, cubic feet per second      12.851436\n",
       "01615000 - Mean Discharge, cubic feet per second      41.876453\n",
       "01616100 - Mean Discharge, cubic feet per second       8.948493\n",
       "01620500 - Mean Discharge, cubic feet per second      17.857973\n",
       "01621050 - Mean Discharge, cubic feet per second       3.844548\n",
       "01622000 - Mean Discharge, cubic feet per second     280.384932\n",
       "01625000 - Mean Discharge, cubic feet per second     245.340548\n",
       "01626000 - Mean Discharge, cubic feet per second     106.207123\n",
       "01626850 - Mean Discharge, cubic feet per second     143.052603\n",
       "01627500 - Mean Discharge, cubic feet per second     186.330556\n",
       "01628500 - Mean Discharge, cubic feet per second     748.257534\n",
       "01629500 - Mean Discharge, cubic feet per second     994.933884\n",
       "01631000 - Mean Discharge, cubic feet per second    1123.279778\n",
       "01632000 - Mean Discharge, cubic feet per second     124.048740\n",
       "01632082 - Mean Discharge, cubic feet per second      17.520329\n",
       "01632900 - Mean Discharge, cubic feet per second      39.437729\n",
       "01633000 - Mean Discharge, cubic feet per second     218.096712\n",
       "01634000 - Mean Discharge, cubic feet per second     367.323810\n",
       "01634500 - Mean Discharge, cubic feet per second      77.223726\n",
       "01635500 - Mean Discharge, cubic feet per second      49.117591\n",
       "01636316 - Mean Discharge, cubic feet per second      16.260986\n",
       "01636690 - Mean Discharge, cubic feet per second      11.950361\n",
       "01638350 - Mean Discharge, cubic feet per second      25.395694\n",
       "01638420 - Mean Discharge, cubic feet per second      19.307179\n",
       "01638480 - Mean Discharge, cubic feet per second      66.803562\n",
       "01643590 - Mean Discharge, cubic feet per second       5.084121\n",
       "01643700 - Mean Discharge, cubic feet per second      99.034521\n",
       "01643805 - Mean Discharge, cubic feet per second      31.569972\n",
       "01643880 - Mean Discharge, cubic feet per second      42.864721\n",
       "01644000 - Mean Discharge, cubic feet per second     271.511233\n",
       "                                                       ...     \n",
       "02077000 - Mean Discharge, cubic feet per second     495.344384\n",
       "02079640 - Mean Discharge, cubic feet per second      31.207562\n",
       "03164000 - Mean Discharge, cubic feet per second    1811.813699\n",
       "03165000 - Mean Discharge, cubic feet per second      69.262431\n",
       "03165500 - Mean Discharge, cubic feet per second    2116.475275\n",
       "03167000 - Mean Discharge, cubic feet per second     270.208310\n",
       "03168000 - Mean Discharge, cubic feet per second    3159.178082\n",
       "03170000 - Mean Discharge, cubic feet per second     367.142857\n",
       "03171000 - Mean Discharge, cubic feet per second    3966.383562\n",
       "03173000 - Mean Discharge, cubic feet per second     335.351781\n",
       "03175500 - Mean Discharge, cubic feet per second     321.513973\n",
       "03176500 - Mean Discharge, cubic feet per second    5021.671233\n",
       "03177710 - Mean Discharge, cubic feet per second      63.100826\n",
       "03207800 - Mean Discharge, cubic feet per second     385.678904\n",
       "03208500 - Mean Discharge, cubic feet per second     331.220330\n",
       "03208950 - Mean Discharge, cubic feet per second      85.311295\n",
       "03209000 - Mean Discharge, cubic feet per second     294.153973\n",
       "03209200 - Mean Discharge, cubic feet per second            NaN\n",
       "03471500 - Mean Discharge, cubic feet per second     109.356712\n",
       "03473000 - Mean Discharge, cubic feet per second     501.227123\n",
       "03474000 - Mean Discharge, cubic feet per second     171.507123\n",
       "03475000 - Mean Discharge, cubic feet per second     254.800822\n",
       "03478400 - Mean Discharge, cubic feet per second      34.246301\n",
       "03488000 - Mean Discharge, cubic feet per second     296.787945\n",
       "03490000 - Mean Discharge, cubic feet per second     880.667403\n",
       "03524000 - Mean Discharge, cubic feet per second     700.853151\n",
       "03524500 - Mean Discharge, cubic feet per second     143.473973\n",
       "03527000 - Mean Discharge, cubic feet per second    1510.515068\n",
       "03529500 - Mean Discharge, cubic feet per second     187.787397\n",
       "03531500 - Mean Discharge, cubic feet per second     554.865479\n",
       "Length: 187, dtype: float64"
      ]
     },
     "execution_count": 15,
     "metadata": {},
     "output_type": "execute_result"
    }
   ],
   "source": [
    "# Calculate the mean for each site.\n",
    "vad.mean()"
   ]
  },
  {
   "cell_type": "markdown",
   "metadata": {},
   "source": [
    "#### Plot all streamflow data for the state of Virginia"
   ]
  },
  {
   "cell_type": "code",
   "execution_count": 16,
   "metadata": {},
   "outputs": [
    {
     "data": {
      "text/plain": [
       "<matplotlib.axes._subplots.AxesSubplot at 0x2067de470f0>"
      ]
     },
     "execution_count": 16,
     "metadata": {},
     "output_type": "execute_result"
    },
    {
     "data": {
      "image/png": "[encoded data removed]",
      "text/plain": [
       "<matplotlib.figure.Figure at 0x2067e1b5b70>"
      ]
     },
     "metadata": {},
     "output_type": "display_data"
    }
   ],
   "source": [
    "# There are so many sites that we can't read them all!\n",
    "vad.plot(legend=None)"
   ]
  },
  {
   "cell_type": "markdown",
   "metadata": {},
   "source": [
    "### Download all streamflow data for Fairfax and Prince William counties in the state of Virginia"
   ]
  },
  {
   "cell_type": "code",
   "execution_count": 17,
   "metadata": {},
   "outputs": [],
   "source": [
    "start = \"2017-01-01\"\n",
    "end = \"2017-12-31\"\n",
    "cs = hf.get_nwis(None, \"dv\", start, end, countyCd=['51059', '51061'])"
   ]
  },
  {
   "cell_type": "code",
   "execution_count": 18,
   "metadata": {},
   "outputs": [],
   "source": [
    "start = \"2017-01-01\"\n",
    "end = \"2017-12-31\"\n",
    "sites = ['51059','51061']\n",
    "cs2 = hf.NWIS(None, \"dv\", start, countyCd=sites, end_date=end).get_data()"
   ]
  },
  {
   "cell_type": "code",
   "execution_count": 19,
   "metadata": {},
   "outputs": [
    {
     "data": {
      "text/plain": [
       "'https://waterservices.usgs.gov/nwis/dv/?format=json%2C1.1&countyCd=51059%2C51061&parameterCd=00060&startDT=2017-01-01&endDT=2017-12-31'"
      ]
     },
     "execution_count": 19,
     "metadata": {},
     "output_type": "execute_result"
    }
   ],
   "source": [
    "cs2.response.url"
   ]
  },
  {
   "cell_type": "code",
   "execution_count": 20,
   "metadata": {
    "collapsed": true
   },
   "outputs": [],
   "source": [
    "start = \"2017-01-01\"\n",
    "end = \"2017-12-31\"\n",
    "sites = ['51059','51061']\n",
    "cs2 = hf.NWIS(None, \"dv\", start, countyCd='51059,51061', end_date=end).get_data()"
   ]
  },
  {
   "cell_type": "code",
   "execution_count": 21,
   "metadata": {},
   "outputs": [
    {
     "data": {
      "text/html": [
       "<div>\n",
       "<style>\n",
       "    .dataframe thead tr:only-child th {\n",
       "        text-align: right;\n",
       "    }\n",
       "\n",
       "    .dataframe thead th {\n",
       "        text-align: left;\n",
       "    }\n",
       "\n",
       "    .dataframe tbody tr th {\n",
       "        vertical-align: top;\n",
       "    }\n",
       "</style>\n",
       "<table border=\"1\" class=\"dataframe\">\n",
       "  <thead>\n",
       "    <tr style=\"text-align: right;\">\n",
       "      <th></th>\n",
       "      <th>01645704 - Mean Discharge, cubic feet per second</th>\n",
       "      <th>01645762 - Mean Discharge, cubic feet per second</th>\n",
       "      <th>01646000 - Mean Discharge, cubic feet per second</th>\n",
       "      <th>01646305 - Mean Discharge, cubic feet per second</th>\n",
       "      <th>01654000 - Mean Discharge, cubic feet per second</th>\n",
       "      <th>01654500 - Mean Discharge, cubic feet per second</th>\n",
       "      <th>01656000 - Mean Discharge, cubic feet per second</th>\n",
       "      <th>01656903 - Mean Discharge, cubic feet per second</th>\n",
       "      <th>01664000 - Mean Discharge, cubic feet per second</th>\n",
       "    </tr>\n",
       "    <tr>\n",
       "      <th>dateTime</th>\n",
       "      <th></th>\n",
       "      <th></th>\n",
       "      <th></th>\n",
       "      <th></th>\n",
       "      <th></th>\n",
       "      <th></th>\n",
       "      <th></th>\n",
       "      <th></th>\n",
       "      <th></th>\n",
       "    </tr>\n",
       "  </thead>\n",
       "  <tbody>\n",
       "    <tr>\n",
       "      <th>2017-01-01</th>\n",
       "      <td>1.89</td>\n",
       "      <td>0.92</td>\n",
       "      <td>19.0</td>\n",
       "      <td>0.40</td>\n",
       "      <td>3.88</td>\n",
       "      <td>0.49</td>\n",
       "      <td>9.55</td>\n",
       "      <td>1.12</td>\n",
       "      <td>205.0</td>\n",
       "    </tr>\n",
       "    <tr>\n",
       "      <th>2017-01-02</th>\n",
       "      <td>4.69</td>\n",
       "      <td>1.44</td>\n",
       "      <td>28.8</td>\n",
       "      <td>2.17</td>\n",
       "      <td>18.30</td>\n",
       "      <td>2.02</td>\n",
       "      <td>9.70</td>\n",
       "      <td>2.18</td>\n",
       "      <td>200.0</td>\n",
       "    </tr>\n",
       "    <tr>\n",
       "      <th>2017-01-03</th>\n",
       "      <td>33.60</td>\n",
       "      <td>9.79</td>\n",
       "      <td>298.0</td>\n",
       "      <td>20.10</td>\n",
       "      <td>225.00</td>\n",
       "      <td>23.10</td>\n",
       "      <td>128.00</td>\n",
       "      <td>23.50</td>\n",
       "      <td>256.0</td>\n",
       "    </tr>\n",
       "    <tr>\n",
       "      <th>2017-01-04</th>\n",
       "      <td>13.40</td>\n",
       "      <td>2.87</td>\n",
       "      <td>95.6</td>\n",
       "      <td>1.26</td>\n",
       "      <td>24.10</td>\n",
       "      <td>2.17</td>\n",
       "      <td>90.50</td>\n",
       "      <td>7.46</td>\n",
       "      <td>761.0</td>\n",
       "    </tr>\n",
       "    <tr>\n",
       "      <th>2017-01-05</th>\n",
       "      <td>6.06</td>\n",
       "      <td>1.74</td>\n",
       "      <td>41.4</td>\n",
       "      <td>0.73</td>\n",
       "      <td>9.77</td>\n",
       "      <td>1.14</td>\n",
       "      <td>36.50</td>\n",
       "      <td>3.20</td>\n",
       "      <td>650.0</td>\n",
       "    </tr>\n",
       "  </tbody>\n",
       "</table>\n",
       "</div>"
      ],
      "text/plain": [
       "            01645704 - Mean Discharge, cubic feet per second  \\\n",
       "dateTime                                                       \n",
       "2017-01-01                                              1.89   \n",
       "2017-01-02                                              4.69   \n",
       "2017-01-03                                             33.60   \n",
       "2017-01-04                                             13.40   \n",
       "2017-01-05                                              6.06   \n",
       "\n",
       "            01645762 - Mean Discharge, cubic feet per second  \\\n",
       "dateTime                                                       \n",
       "2017-01-01                                              0.92   \n",
       "2017-01-02                                              1.44   \n",
       "2017-01-03                                              9.79   \n",
       "2017-01-04                                              2.87   \n",
       "2017-01-05                                              1.74   \n",
       "\n",
       "            01646000 - Mean Discharge, cubic feet per second  \\\n",
       "dateTime                                                       \n",
       "2017-01-01                                              19.0   \n",
       "2017-01-02                                              28.8   \n",
       "2017-01-03                                             298.0   \n",
       "2017-01-04                                              95.6   \n",
       "2017-01-05                                              41.4   \n",
       "\n",
       "            01646305 - Mean Discharge, cubic feet per second  \\\n",
       "dateTime                                                       \n",
       "2017-01-01                                              0.40   \n",
       "2017-01-02                                              2.17   \n",
       "2017-01-03                                             20.10   \n",
       "2017-01-04                                              1.26   \n",
       "2017-01-05                                              0.73   \n",
       "\n",
       "            01654000 - Mean Discharge, cubic feet per second  \\\n",
       "dateTime                                                       \n",
       "2017-01-01                                              3.88   \n",
       "2017-01-02                                             18.30   \n",
       "2017-01-03                                            225.00   \n",
       "2017-01-04                                             24.10   \n",
       "2017-01-05                                              9.77   \n",
       "\n",
       "            01654500 - Mean Discharge, cubic feet per second  \\\n",
       "dateTime                                                       \n",
       "2017-01-01                                              0.49   \n",
       "2017-01-02                                              2.02   \n",
       "2017-01-03                                             23.10   \n",
       "2017-01-04                                              2.17   \n",
       "2017-01-05                                              1.14   \n",
       "\n",
       "            01656000 - Mean Discharge, cubic feet per second  \\\n",
       "dateTime                                                       \n",
       "2017-01-01                                              9.55   \n",
       "2017-01-02                                              9.70   \n",
       "2017-01-03                                            128.00   \n",
       "2017-01-04                                             90.50   \n",
       "2017-01-05                                             36.50   \n",
       "\n",
       "            01656903 - Mean Discharge, cubic feet per second  \\\n",
       "dateTime                                                       \n",
       "2017-01-01                                              1.12   \n",
       "2017-01-02                                              2.18   \n",
       "2017-01-03                                             23.50   \n",
       "2017-01-04                                              7.46   \n",
       "2017-01-05                                              3.20   \n",
       "\n",
       "            01664000 - Mean Discharge, cubic feet per second  \n",
       "dateTime                                                      \n",
       "2017-01-01                                             205.0  \n",
       "2017-01-02                                             200.0  \n",
       "2017-01-03                                             256.0  \n",
       "2017-01-04                                             761.0  \n",
       "2017-01-05                                             650.0  "
      ]
     },
     "execution_count": 21,
     "metadata": {},
     "output_type": "execute_result"
    }
   ],
   "source": [
    "cs2.df().head()"
   ]
  },
  {
   "cell_type": "code",
   "execution_count": 22,
   "metadata": {},
   "outputs": [],
   "source": [
    "cdf = hf.extract_nwis_df(cs)"
   ]
  },
  {
   "cell_type": "markdown",
   "metadata": {},
   "source": [
    "#### Plot all streamflow data for Fairfax and Prince William counties in the state of Virginia"
   ]
  },
  {
   "cell_type": "code",
   "execution_count": 23,
   "metadata": {},
   "outputs": [
    {
     "data": {
      "text/plain": [
       "<matplotlib.axes._subplots.AxesSubplot at 0x206007c7da0>"
      ]
     },
     "execution_count": 23,
     "metadata": {},
     "output_type": "execute_result"
    },
    {
     "data": {
      "image/png": "[encoded data removed]",
      "text/plain": [
       "<matplotlib.figure.Figure at 0x206005ae780>"
      ]
     },
     "metadata": {},
     "output_type": "display_data"
    }
   ],
   "source": [
    "cdf.plot()"
   ]
  },
  {
   "cell_type": "markdown",
   "metadata": {
    "collapsed": true
   },
   "source": [
    "## Thanks for using hydrofunctions!\n",
    "We would love to hear your comments and [suggestions](https://github.com/mroberge/hydrofunctions/issues)! "
   ]
  }
 ],
 "metadata": {
  "anaconda-cloud": {},
  "kernelspec": {
   "display_name": "Python [conda root]",
   "language": "python",
   "name": "conda-root-py"
  },
  "language_info": {
   "codemirror_mode": {
    "name": "ipython",
    "version": 3
   },
   "file_extension": ".py",
   "mimetype": "text/x-python",
   "name": "python",
   "nbconvert_exporter": "python",
   "pygments_lexer": "ipython3",
   "version": "3.6.3"
  }
 },
 "nbformat": 4,
 "nbformat_minor": 1
}
