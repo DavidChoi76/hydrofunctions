{
 "cells": [
  {
   "cell_type": "code",
   "execution_count": 1,
   "metadata": {},
   "outputs": [],
   "source": [
    "import hydrofunctions as hf\n",
    "%matplotlib inline\n",
    "import matplotlib.pyplot as plt\n",
    "import matplotlib.ticker as ticker"
   ]
  },
  {
   "cell_type": "code",
   "execution_count": 2,
   "metadata": {
    "scrolled": true
   },
   "outputs": [
    {
     "data": {
      "text/html": [
       "<p>Use <a href=\"http://hydrocloud.org\" target=\"_blank\">HydroCloud.org</a> to find a stream gauge. Click on the dots to learn more about a site.</p><iframe src=http://hydrocloud.org/ width=700 height=400></iframe>"
      ],
      "text/plain": [
       "<IPython.core.display.HTML object>"
      ]
     },
     "execution_count": 2,
     "metadata": {},
     "output_type": "execute_result"
    }
   ],
   "source": [
    "hf.draw_map()"
   ]
  },
  {
   "cell_type": "code",
   "execution_count": 3,
   "metadata": {},
   "outputs": [
    {
     "data": {
      "text/plain": [
       "True"
      ]
     },
     "execution_count": 3,
     "metadata": {},
     "output_type": "execute_result"
    }
   ],
   "source": [
    "#farthest upstream is GWYNNS FALLS NEAR DELIGHT, MD, dv01589197\n",
    "#middle of stream is GWYNNS FALLS AT VILLA NOVA, MD, dv01589300\n",
    "#farthest downstream is GWYNNS FALLS AT WASHINGTON BLVD AT BALTIMORE, MD, dv01589352\n",
    "# request data for our two sites for a three-year period.\n",
    "streamid = ['01589197', '01589300','01589352']\n",
    "sites = hf.NWIS(streamid, start_date='2001-01-01', end_date='2003-12-31')\n",
    "sites.get_data()\n",
    "#validate that the data was imported\n",
    "sites.ok"
   ]
  },
  {
   "cell_type": "code",
   "execution_count": 4,
   "metadata": {
    "scrolled": false
   },
   "outputs": [
    {
     "data": {
      "text/html": [
       "<div>\n",
       "<style scoped>\n",
       "    .dataframe tbody tr th:only-of-type {\n",
       "        vertical-align: middle;\n",
       "    }\n",
       "\n",
       "    .dataframe tbody tr th {\n",
       "        vertical-align: top;\n",
       "    }\n",
       "\n",
       "    .dataframe thead th {\n",
       "        text-align: right;\n",
       "    }\n",
       "</style>\n",
       "<table border=\"1\" class=\"dataframe\">\n",
       "  <thead>\n",
       "    <tr style=\"text-align: right;\">\n",
       "      <th></th>\n",
       "      <th>USGS:01589197:00060:00003</th>\n",
       "      <th>USGS:01589197:00060:00003_qualifiers</th>\n",
       "      <th>USGS:01589300:00060:00003</th>\n",
       "      <th>USGS:01589300:00060:00003_qualifiers</th>\n",
       "      <th>USGS:01589352:00060:00003</th>\n",
       "      <th>USGS:01589352:00060:00003_qualifiers</th>\n",
       "    </tr>\n",
       "  </thead>\n",
       "  <tbody>\n",
       "    <tr>\n",
       "      <td>2001-01-01</td>\n",
       "      <td>1.8</td>\n",
       "      <td>A e</td>\n",
       "      <td>18.0</td>\n",
       "      <td>A</td>\n",
       "      <td>29.0</td>\n",
       "      <td>A</td>\n",
       "    </tr>\n",
       "    <tr>\n",
       "      <td>2001-01-02</td>\n",
       "      <td>1.8</td>\n",
       "      <td>A e</td>\n",
       "      <td>17.0</td>\n",
       "      <td>A</td>\n",
       "      <td>28.0</td>\n",
       "      <td>A e</td>\n",
       "    </tr>\n",
       "    <tr>\n",
       "      <td>2001-01-03</td>\n",
       "      <td>1.8</td>\n",
       "      <td>A e</td>\n",
       "      <td>16.0</td>\n",
       "      <td>A e</td>\n",
       "      <td>27.0</td>\n",
       "      <td>A</td>\n",
       "    </tr>\n",
       "    <tr>\n",
       "      <td>2001-01-04</td>\n",
       "      <td>1.8</td>\n",
       "      <td>A e</td>\n",
       "      <td>17.0</td>\n",
       "      <td>A e</td>\n",
       "      <td>31.0</td>\n",
       "      <td>A</td>\n",
       "    </tr>\n",
       "    <tr>\n",
       "      <td>2001-01-05</td>\n",
       "      <td>1.8</td>\n",
       "      <td>A e</td>\n",
       "      <td>16.0</td>\n",
       "      <td>A e</td>\n",
       "      <td>31.0</td>\n",
       "      <td>A</td>\n",
       "    </tr>\n",
       "  </tbody>\n",
       "</table>\n",
       "</div>"
      ],
      "text/plain": [
       "            USGS:01589197:00060:00003 USGS:01589197:00060:00003_qualifiers  \\\n",
       "2001-01-01                        1.8                                  A e   \n",
       "2001-01-02                        1.8                                  A e   \n",
       "2001-01-03                        1.8                                  A e   \n",
       "2001-01-04                        1.8                                  A e   \n",
       "2001-01-05                        1.8                                  A e   \n",
       "\n",
       "            USGS:01589300:00060:00003 USGS:01589300:00060:00003_qualifiers  \\\n",
       "2001-01-01                       18.0                                    A   \n",
       "2001-01-02                       17.0                                    A   \n",
       "2001-01-03                       16.0                                  A e   \n",
       "2001-01-04                       17.0                                  A e   \n",
       "2001-01-05                       16.0                                  A e   \n",
       "\n",
       "            USGS:01589352:00060:00003 USGS:01589352:00060:00003_qualifiers  \n",
       "2001-01-01                       29.0                                    A  \n",
       "2001-01-02                       28.0                                  A e  \n",
       "2001-01-03                       27.0                                    A  \n",
       "2001-01-04                       31.0                                    A  \n",
       "2001-01-05                       31.0                                    A  "
      ]
     },
     "execution_count": 4,
     "metadata": {},
     "output_type": "execute_result"
    }
   ],
   "source": [
    "#create a dataframe of the sites\n",
    "Q = sites.df()\n",
    "#show the first few rows of the data\n",
    "Q.head()"
   ]
  },
  {
   "cell_type": "code",
   "execution_count": 5,
   "metadata": {
    "scrolled": true
   },
   "outputs": [
    {
     "data": {
      "text/html": [
       "<div>\n",
       "<style scoped>\n",
       "    .dataframe tbody tr th:only-of-type {\n",
       "        vertical-align: middle;\n",
       "    }\n",
       "\n",
       "    .dataframe tbody tr th {\n",
       "        vertical-align: top;\n",
       "    }\n",
       "\n",
       "    .dataframe thead th {\n",
       "        text-align: right;\n",
       "    }\n",
       "</style>\n",
       "<table border=\"1\" class=\"dataframe\">\n",
       "  <thead>\n",
       "    <tr style=\"text-align: right;\">\n",
       "      <th></th>\n",
       "      <th>Upper</th>\n",
       "      <th>Middle</th>\n",
       "      <th>Lower</th>\n",
       "    </tr>\n",
       "  </thead>\n",
       "  <tbody>\n",
       "    <tr>\n",
       "      <td>2001-01-01</td>\n",
       "      <td>1.8</td>\n",
       "      <td>18.0</td>\n",
       "      <td>29.0</td>\n",
       "    </tr>\n",
       "    <tr>\n",
       "      <td>2001-01-02</td>\n",
       "      <td>1.8</td>\n",
       "      <td>17.0</td>\n",
       "      <td>28.0</td>\n",
       "    </tr>\n",
       "    <tr>\n",
       "      <td>2001-01-03</td>\n",
       "      <td>1.8</td>\n",
       "      <td>16.0</td>\n",
       "      <td>27.0</td>\n",
       "    </tr>\n",
       "    <tr>\n",
       "      <td>2001-01-04</td>\n",
       "      <td>1.8</td>\n",
       "      <td>17.0</td>\n",
       "      <td>31.0</td>\n",
       "    </tr>\n",
       "    <tr>\n",
       "      <td>2001-01-05</td>\n",
       "      <td>1.8</td>\n",
       "      <td>16.0</td>\n",
       "      <td>31.0</td>\n",
       "    </tr>\n",
       "  </tbody>\n",
       "</table>\n",
       "</div>"
      ],
      "text/plain": [
       "            Upper  Middle  Lower\n",
       "2001-01-01    1.8    18.0   29.0\n",
       "2001-01-02    1.8    17.0   28.0\n",
       "2001-01-03    1.8    16.0   27.0\n",
       "2001-01-04    1.8    17.0   31.0\n",
       "2001-01-05    1.8    16.0   31.0"
      ]
     },
     "execution_count": 5,
     "metadata": {},
     "output_type": "execute_result"
    }
   ],
   "source": [
    "#drop the qualifier columns from the dataframe\n",
    "Q = Q.drop(['USGS:01589197:00060:00003_qualifiers','USGS:01589300:00060:00003_qualifiers', \"USGS:01589352:00060:00003_qualifiers\"], axis=1)\n",
    "#rename the columns\n",
    "Q.columns=['Upper', 'Middle', 'Lower']\n",
    "#verify that the columns were dropped and renamed by showing the first few rows\n",
    "Q.head()"
   ]
  },
  {
   "cell_type": "code",
   "execution_count": 6,
   "metadata": {},
   "outputs": [
    {
     "data": {
      "text/plain": [
       "(<Figure size 432x288 with 1 Axes>,\n",
       " <matplotlib.axes._subplots.AxesSubplot at 0x175c169ce48>)"
      ]
     },
     "execution_count": 6,
     "metadata": {},
     "output_type": "execute_result"
    },
    {
     "data": {
      "image/png": "[encoded data removed]",
      "text/plain": [
       "<Figure size 432x288 with 1 Axes>"
      ]
     },
     "metadata": {
      "needs_background": "light"
     },
     "output_type": "display_data"
    }
   ],
   "source": [
    "#create a flow duration for each of the streams\n",
    "hf.flow_duration(Q)"
   ]
  },
  {
   "cell_type": "code",
   "execution_count": 7,
   "metadata": {},
   "outputs": [],
   "source": [
    "#if you want to create a legend and/or x-label, you can edit the code from hydrofunctions. \n",
    "#Pull it up by typing hf.flowduration??? then copy and paste into the next cell\n",
    "hf.flow_duration??"
   ]
  },
  {
   "cell_type": "code",
   "execution_count": 8,
   "metadata": {},
   "outputs": [],
   "source": [
    "#alter the source code to create an x-axis, title, and legend\n",
    "def flow_duration_labeled(Qdf, xscale='logit', yscale='log', ylabel='Stream Discharge (m³/s)', symbol='.'):\n",
    "    \"\"\"Creates a flow duration chart from a dataframe of discharges.\n",
    "\n",
    "    Args:\n",
    "        Qdf (dataframe): a dataframe of discharge values.\n",
    "            * Values should be arranged in columns\n",
    "            * No sorting necessary\n",
    "            * Rows do not need an index\n",
    "            * If more than one column, each column will be added as a\\\n",
    "                separate color to the chart.\n",
    "            * Only include columns with discharge values; no metadata\n",
    "\n",
    "        xscale ('logit' | 'linear'): Type of x scale for plotting probabilities\n",
    "            default is 'logit', so that each standard deviation is nearly the\n",
    "            same distance on the x scale. 'linear' is the other option.\n",
    "\n",
    "        yscale ('log' | 'linear'): The type of y scale for plotting discharge.\n",
    "            Default is 'log'.\n",
    "\n",
    "        ylabel (str, default: 'Stream Discharge (m³/s)'): The label for the Y axis.\n",
    "\n",
    "        xlabel (not implemented)\n",
    "\n",
    "        symbol (str, '.' | ','): formatting symbol for points.\n",
    "            * point: '.' (default)\n",
    "            * pixel point: ','\n",
    "            * circle: 'o'\n",
    "            * triangle up: '^'\n",
    "\n",
    "            See https://matplotlib.org/api/markers_api.html for full list of\n",
    "            point formatters.\n",
    "\n",
    "    Returns:\n",
    "        fig (matplotlib.figure.Figure):\n",
    "            a matplotlib figure. This will plot immediately in a Jupyter\n",
    "            notebook if the command '%matplotlib inline' was previously issued.\n",
    "            The figure may also be altered after it is returned.\n",
    "\n",
    "        ax (matplotlib.axes.Axes):\n",
    "            a matplotlib chart. This may be altered after it is returned.\n",
    "\n",
    "    \"\"\"\n",
    "    rank = Qdf.rank(ascending=False, pct=True)\n",
    "    x = rank\n",
    "    y = Qdf\n",
    "#add xlabel\n",
    "    xlabel=\"Probability\"\n",
    "    fig, ax = plt.subplots(1, 1)\n",
    "    ax.plot(x, y, symbol)\n",
    "    ax.set_xscale(xscale)\n",
    "    ax.set_yscale(yscale)\n",
    "    ax.set_xlabel(xlabel)\n",
    "    ax.set_ylabel(ylabel)\n",
    "#add legend    \n",
    "    ax.legend(Q.columns, loc='upper right')\n",
    "#add title    \n",
    "    ax.title.set_text(\"Gwynn's Falls Flow Duration\")\n",
    "    # A pyplot bug causes a valueError value if the xlabel is set.\n",
    "    #ax.set_xlabel('Probability of Exceedence')\n",
    "    ax.xaxis.set_minor_formatter(ticker.NullFormatter())\n",
    "    return fig, ax"
   ]
  },
  {
   "cell_type": "code",
   "execution_count": 9,
   "metadata": {},
   "outputs": [
    {
     "data": {
      "text/plain": [
       "(<Figure size 432x288 with 1 Axes>,\n",
       " <matplotlib.axes._subplots.AxesSubplot at 0x175c3657848>)"
      ]
     },
     "execution_count": 9,
     "metadata": {},
     "output_type": "execute_result"
    },
    {
     "data": {
      "image/png": "[encoded data removed]",
      "text/plain": [
       "<Figure size 432x288 with 1 Axes>"
      ]
     },
     "metadata": {
      "needs_background": "light"
     },
     "output_type": "display_data"
    }
   ],
   "source": [
    "flow_duration_labeled(Q)"
   ]
  },
  {
   "cell_type": "code",
   "execution_count": 10,
   "metadata": {},
   "outputs": [
    {
     "data": {
      "text/html": [
       "<div>\n",
       "<style scoped>\n",
       "    .dataframe tbody tr th:only-of-type {\n",
       "        vertical-align: middle;\n",
       "    }\n",
       "\n",
       "    .dataframe tbody tr th {\n",
       "        vertical-align: top;\n",
       "    }\n",
       "\n",
       "    .dataframe thead th {\n",
       "        text-align: right;\n",
       "    }\n",
       "</style>\n",
       "<table border=\"1\" class=\"dataframe\">\n",
       "  <thead>\n",
       "    <tr style=\"text-align: right;\">\n",
       "      <th></th>\n",
       "      <th>Upper</th>\n",
       "      <th>Middle</th>\n",
       "      <th>Lower</th>\n",
       "    </tr>\n",
       "  </thead>\n",
       "  <tbody>\n",
       "    <tr>\n",
       "      <td>count</td>\n",
       "      <td>1095.000000</td>\n",
       "      <td>1095.000000</td>\n",
       "      <td>1095.000000</td>\n",
       "    </tr>\n",
       "    <tr>\n",
       "      <td>mean</td>\n",
       "      <td>5.211306</td>\n",
       "      <td>44.910210</td>\n",
       "      <td>92.074055</td>\n",
       "    </tr>\n",
       "    <tr>\n",
       "      <td>std</td>\n",
       "      <td>10.177445</td>\n",
       "      <td>79.268103</td>\n",
       "      <td>173.157576</td>\n",
       "    </tr>\n",
       "    <tr>\n",
       "      <td>min</td>\n",
       "      <td>0.250000</td>\n",
       "      <td>1.860000</td>\n",
       "      <td>8.730000</td>\n",
       "    </tr>\n",
       "    <tr>\n",
       "      <td>25%</td>\n",
       "      <td>1.590000</td>\n",
       "      <td>14.000000</td>\n",
       "      <td>27.800000</td>\n",
       "    </tr>\n",
       "    <tr>\n",
       "      <td>50%</td>\n",
       "      <td>2.720000</td>\n",
       "      <td>24.400000</td>\n",
       "      <td>43.000000</td>\n",
       "    </tr>\n",
       "    <tr>\n",
       "      <td>75%</td>\n",
       "      <td>5.000000</td>\n",
       "      <td>42.850000</td>\n",
       "      <td>80.800000</td>\n",
       "    </tr>\n",
       "    <tr>\n",
       "      <td>max</td>\n",
       "      <td>161.000000</td>\n",
       "      <td>1140.000000</td>\n",
       "      <td>2140.000000</td>\n",
       "    </tr>\n",
       "  </tbody>\n",
       "</table>\n",
       "</div>"
      ],
      "text/plain": [
       "             Upper       Middle        Lower\n",
       "count  1095.000000  1095.000000  1095.000000\n",
       "mean      5.211306    44.910210    92.074055\n",
       "std      10.177445    79.268103   173.157576\n",
       "min       0.250000     1.860000     8.730000\n",
       "25%       1.590000    14.000000    27.800000\n",
       "50%       2.720000    24.400000    43.000000\n",
       "75%       5.000000    42.850000    80.800000\n",
       "max     161.000000  1140.000000  2140.000000"
      ]
     },
     "execution_count": 10,
     "metadata": {},
     "output_type": "execute_result"
    }
   ],
   "source": [
    "#look at the descriptive statistics for each part of the stream. \n",
    "#Note that the mean and standard deviation increase as you move down the stream\n",
    "Q.describe()"
   ]
  },
  {
   "cell_type": "code",
   "execution_count": 11,
   "metadata": {
    "scrolled": true
   },
   "outputs": [
    {
     "data": {
      "text/plain": [
       "2001-01-01    1.8\n",
       "2001-01-02    1.8\n",
       "2001-01-03    1.8\n",
       "2001-01-04    1.8\n",
       "2001-01-05    1.8\n",
       "Name: Upper, dtype: float64"
      ]
     },
     "execution_count": 11,
     "metadata": {},
     "output_type": "execute_result"
    }
   ],
   "source": [
    "#create a dataframe of the upper portion of the stream.\n",
    "Q_Upper = Q.loc['20010101':'20041231', 'Upper']\n",
    "Q_Upper = Q_Upper.T\n",
    "Q_Upper.head()"
   ]
  },
  {
   "cell_type": "code",
   "execution_count": 12,
   "metadata": {},
   "outputs": [
    {
     "data": {
      "text/plain": [
       "<matplotlib.axes._subplots.AxesSubplot at 0x175c3607a08>"
      ]
     },
     "execution_count": 12,
     "metadata": {},
     "output_type": "execute_result"
    },
    {
     "data": {
      "image/png": "[encoded data removed]",
      "text/plain": [
       "<Figure size 432x288 with 1 Axes>"
      ]
     },
     "metadata": {
      "needs_background": "light"
     },
     "output_type": "display_data"
    }
   ],
   "source": [
    "Q_Upper.plot()"
   ]
  }
 ],
 "metadata": {
  "kernelspec": {
   "display_name": "Python 3",
   "language": "python",
   "name": "python3"
  },
  "language_info": {
   "codemirror_mode": {
    "name": "ipython",
    "version": 3
   },
   "file_extension": ".py",
   "mimetype": "text/x-python",
   "name": "python",
   "nbconvert_exporter": "python",
   "pygments_lexer": "ipython3",
   "version": "3.7.4"
  }
 },
 "nbformat": 4,
 "nbformat_minor": 2
}
