{
 "cells": [
  {
   "cell_type": "code",
   "execution_count": null,
   "metadata": {},
   "outputs": [],
   "source": [
    "#This Jupyter Notebook compares four streams in different environments in the U.S. \n",
    "#Using hydrofunctions, we are able to plot the flow duration graphs for all four streams and compare them. "
   ]
  },
  {
   "cell_type": "code",
   "execution_count": 1,
   "metadata": {},
   "outputs": [],
   "source": [
    "#Import hydrofunctions, pyplot, and ticker (from github)\n",
    "import hydrofunctions as hf\n",
    "%matplotlib inline\n",
    "import matplotlib.pyplot as plt\n",
    "import matplotlib.ticker as ticker"
   ]
  },
  {
   "cell_type": "code",
   "execution_count": 2,
   "metadata": {
    "scrolled": true
   },
   "outputs": [
    {
     "data": {
      "text/html": [
       "<p>Use <a href=\"http://hydrocloud.org\" target=\"_blank\">HydroCloud.org</a> to find a stream gauge. Click on the dots to learn more about a site.</p><iframe src=http://hydrocloud.org/ width=700 height=400></iframe>"
      ],
      "text/plain": [
       "<IPython.core.display.HTML object>"
      ]
     },
     "execution_count": 2,
     "metadata": {},
     "output_type": "execute_result"
    }
   ],
   "source": [
    "hf.draw_map()"
   ]
  },
  {
   "cell_type": "code",
   "execution_count": 3,
   "metadata": {},
   "outputs": [
    {
     "data": {
      "text/plain": [
       "True"
      ]
     },
     "execution_count": 3,
     "metadata": {},
     "output_type": "execute_result"
    }
   ],
   "source": [
    "#Choose four streams from different environments from HydroCloud. Import data for three years. \n",
    "#In this example, all four streams are in places with low development:\n",
    "#Colorado Western Slopes: ROARING FORK RIVER NEAR ASPEN, CO.\n",
    "#California Mendicino National Park: MAD R AB RUTH RES NR FOREST GLEN CA\n",
    "#White Mountains, NH: EAST BRANCH PEMIGEWASSET RIVER AT LINCOLN, NH\n",
    "#PINTO CREEK NEAR MIAMI, AZ\n",
    "streams = ['09073400','11480390','01074520','09498502']\n",
    "sites = hf.NWIS(streams, start_date='2001-01-01', end_date='2003-12-31')\n",
    "sites.get_data()\n",
    "sites.ok"
   ]
  },
  {
   "cell_type": "code",
   "execution_count": 4,
   "metadata": {
    "scrolled": false
   },
   "outputs": [
    {
     "data": {
      "text/html": [
       "<div>\n",
       "<style scoped>\n",
       "    .dataframe tbody tr th:only-of-type {\n",
       "        vertical-align: middle;\n",
       "    }\n",
       "\n",
       "    .dataframe tbody tr th {\n",
       "        vertical-align: top;\n",
       "    }\n",
       "\n",
       "    .dataframe thead th {\n",
       "        text-align: right;\n",
       "    }\n",
       "</style>\n",
       "<table border=\"1\" class=\"dataframe\">\n",
       "  <thead>\n",
       "    <tr style=\"text-align: right;\">\n",
       "      <th></th>\n",
       "      <th>USGS:01074520:00060:00003</th>\n",
       "      <th>USGS:01074520:00060:00003_qualifiers</th>\n",
       "      <th>USGS:09073400:00060:00003</th>\n",
       "      <th>USGS:09073400:00060:00003_qualifiers</th>\n",
       "      <th>USGS:09498502:00060:00003</th>\n",
       "      <th>USGS:09498502:00060:00003_qualifiers</th>\n",
       "      <th>USGS:11480390:00060:00003</th>\n",
       "      <th>USGS:11480390:00060:00003_qualifiers</th>\n",
       "    </tr>\n",
       "  </thead>\n",
       "  <tbody>\n",
       "    <tr>\n",
       "      <td>2001-01-01</td>\n",
       "      <td>160.0</td>\n",
       "      <td>A</td>\n",
       "      <td>22.0</td>\n",
       "      <td>A e</td>\n",
       "      <td>2.7</td>\n",
       "      <td>A</td>\n",
       "      <td>21.0</td>\n",
       "      <td>A</td>\n",
       "    </tr>\n",
       "    <tr>\n",
       "      <td>2001-01-02</td>\n",
       "      <td>138.0</td>\n",
       "      <td>A</td>\n",
       "      <td>23.0</td>\n",
       "      <td>A e</td>\n",
       "      <td>2.7</td>\n",
       "      <td>A</td>\n",
       "      <td>19.0</td>\n",
       "      <td>A</td>\n",
       "    </tr>\n",
       "    <tr>\n",
       "      <td>2001-01-03</td>\n",
       "      <td>132.0</td>\n",
       "      <td>A</td>\n",
       "      <td>21.0</td>\n",
       "      <td>A e</td>\n",
       "      <td>2.7</td>\n",
       "      <td>A</td>\n",
       "      <td>16.0</td>\n",
       "      <td>A</td>\n",
       "    </tr>\n",
       "    <tr>\n",
       "      <td>2001-01-04</td>\n",
       "      <td>125.0</td>\n",
       "      <td>A e</td>\n",
       "      <td>23.0</td>\n",
       "      <td>A e</td>\n",
       "      <td>2.7</td>\n",
       "      <td>A</td>\n",
       "      <td>15.0</td>\n",
       "      <td>A</td>\n",
       "    </tr>\n",
       "    <tr>\n",
       "      <td>2001-01-05</td>\n",
       "      <td>130.0</td>\n",
       "      <td>A e</td>\n",
       "      <td>24.0</td>\n",
       "      <td>A e</td>\n",
       "      <td>2.7</td>\n",
       "      <td>A</td>\n",
       "      <td>13.0</td>\n",
       "      <td>A</td>\n",
       "    </tr>\n",
       "  </tbody>\n",
       "</table>\n",
       "</div>"
      ],
      "text/plain": [
       "            USGS:01074520:00060:00003 USGS:01074520:00060:00003_qualifiers  \\\n",
       "2001-01-01                      160.0                                    A   \n",
       "2001-01-02                      138.0                                    A   \n",
       "2001-01-03                      132.0                                    A   \n",
       "2001-01-04                      125.0                                  A e   \n",
       "2001-01-05                      130.0                                  A e   \n",
       "\n",
       "            USGS:09073400:00060:00003 USGS:09073400:00060:00003_qualifiers  \\\n",
       "2001-01-01                       22.0                                  A e   \n",
       "2001-01-02                       23.0                                  A e   \n",
       "2001-01-03                       21.0                                  A e   \n",
       "2001-01-04                       23.0                                  A e   \n",
       "2001-01-05                       24.0                                  A e   \n",
       "\n",
       "            USGS:09498502:00060:00003 USGS:09498502:00060:00003_qualifiers  \\\n",
       "2001-01-01                        2.7                                    A   \n",
       "2001-01-02                        2.7                                    A   \n",
       "2001-01-03                        2.7                                    A   \n",
       "2001-01-04                        2.7                                    A   \n",
       "2001-01-05                        2.7                                    A   \n",
       "\n",
       "            USGS:11480390:00060:00003 USGS:11480390:00060:00003_qualifiers  \n",
       "2001-01-01                       21.0                                    A  \n",
       "2001-01-02                       19.0                                    A  \n",
       "2001-01-03                       16.0                                    A  \n",
       "2001-01-04                       15.0                                    A  \n",
       "2001-01-05                       13.0                                    A  "
      ]
     },
     "execution_count": 4,
     "metadata": {},
     "output_type": "execute_result"
    }
   ],
   "source": [
    "#Create a dataframe of the four sites\n",
    "Q = sites.df()\n",
    "#Show the first few lines of the dataframe\n",
    "Q.head()"
   ]
  },
  {
   "cell_type": "code",
   "execution_count": 5,
   "metadata": {},
   "outputs": [
    {
     "data": {
      "text/html": [
       "<div>\n",
       "<style scoped>\n",
       "    .dataframe tbody tr th:only-of-type {\n",
       "        vertical-align: middle;\n",
       "    }\n",
       "\n",
       "    .dataframe tbody tr th {\n",
       "        vertical-align: top;\n",
       "    }\n",
       "\n",
       "    .dataframe thead th {\n",
       "        text-align: right;\n",
       "    }\n",
       "</style>\n",
       "<table border=\"1\" class=\"dataframe\">\n",
       "  <thead>\n",
       "    <tr style=\"text-align: right;\">\n",
       "      <th></th>\n",
       "      <th>White Mountains National Park</th>\n",
       "      <th>White River National Forest</th>\n",
       "      <th>Tonto National Forest</th>\n",
       "      <th>Mendicino National Park</th>\n",
       "    </tr>\n",
       "  </thead>\n",
       "  <tbody>\n",
       "    <tr>\n",
       "      <td>2001-01-01</td>\n",
       "      <td>160.0</td>\n",
       "      <td>22.0</td>\n",
       "      <td>2.7</td>\n",
       "      <td>21.0</td>\n",
       "    </tr>\n",
       "    <tr>\n",
       "      <td>2001-01-02</td>\n",
       "      <td>138.0</td>\n",
       "      <td>23.0</td>\n",
       "      <td>2.7</td>\n",
       "      <td>19.0</td>\n",
       "    </tr>\n",
       "    <tr>\n",
       "      <td>2001-01-03</td>\n",
       "      <td>132.0</td>\n",
       "      <td>21.0</td>\n",
       "      <td>2.7</td>\n",
       "      <td>16.0</td>\n",
       "    </tr>\n",
       "    <tr>\n",
       "      <td>2001-01-04</td>\n",
       "      <td>125.0</td>\n",
       "      <td>23.0</td>\n",
       "      <td>2.7</td>\n",
       "      <td>15.0</td>\n",
       "    </tr>\n",
       "    <tr>\n",
       "      <td>2001-01-05</td>\n",
       "      <td>130.0</td>\n",
       "      <td>24.0</td>\n",
       "      <td>2.7</td>\n",
       "      <td>13.0</td>\n",
       "    </tr>\n",
       "  </tbody>\n",
       "</table>\n",
       "</div>"
      ],
      "text/plain": [
       "            White Mountains National Park  White River National Forest  \\\n",
       "2001-01-01                          160.0                         22.0   \n",
       "2001-01-02                          138.0                         23.0   \n",
       "2001-01-03                          132.0                         21.0   \n",
       "2001-01-04                          125.0                         23.0   \n",
       "2001-01-05                          130.0                         24.0   \n",
       "\n",
       "            Tonto National Forest  Mendicino National Park  \n",
       "2001-01-01                    2.7                     21.0  \n",
       "2001-01-02                    2.7                     19.0  \n",
       "2001-01-03                    2.7                     16.0  \n",
       "2001-01-04                    2.7                     15.0  \n",
       "2001-01-05                    2.7                     13.0  "
      ]
     },
     "execution_count": 5,
     "metadata": {},
     "output_type": "execute_result"
    }
   ],
   "source": [
    "#drop the qualifiers columns\n",
    "cols = [1,3,5,7]\n",
    "Q.drop(Q.columns[cols],axis=1,inplace=True)\n",
    "#rename the columns based on the names of the sites from HydroCloud\n",
    "Q.columns=['White Mountains National Park', 'White River National Forest', 'Tonto National Forest', 'Mendicino National Park']\n",
    "#show the first few rows of the data to confirm the changes\n",
    "Q.head()"
   ]
  },
  {
   "cell_type": "code",
   "execution_count": 6,
   "metadata": {},
   "outputs": [
    {
     "data": {
      "text/plain": [
       "(<Figure size 432x288 with 1 Axes>,\n",
       " <matplotlib.axes._subplots.AxesSubplot at 0x17eeffdc188>)"
      ]
     },
     "execution_count": 6,
     "metadata": {},
     "output_type": "execute_result"
    },
    {
     "data": {
      "image/png": "[encoded data removed]",
      "text/plain": [
       "<Figure size 432x288 with 1 Axes>"
      ]
     },
     "metadata": {
      "needs_background": "light"
     },
     "output_type": "display_data"
    }
   ],
   "source": [
    "#use the built-in functions from hydrofunctions to create a flow duration graph for the dataframe.\n",
    "hf.flow_duration(Q)"
   ]
  },
  {
   "cell_type": "code",
   "execution_count": 12,
   "metadata": {},
   "outputs": [],
   "source": [
    "#if you want to create a legend and/or x-label, you can edit the code from hydrofunctions. \n",
    "#Pull it up by typing hf.flowduration??? then copy and paste into the next cell\n",
    "hf.flow_duration??"
   ]
  },
  {
   "cell_type": "code",
   "execution_count": 7,
   "metadata": {},
   "outputs": [],
   "source": [
    "#edit the code to add a title, x-axis label, and legend. Name it flow_duration_labeled\n",
    "def flow_duration_labeled(Qdf, xscale='logit', yscale='log', ylabel='Stream Discharge (m³/s)', symbol='.'):\n",
    "    \"\"\"Creates a flow duration chart from a dataframe of discharges.\n",
    "\n",
    "    Args:\n",
    "        Qdf (dataframe): a dataframe of discharge values.\n",
    "            * Values should be arranged in columns\n",
    "            * No sorting necessary\n",
    "            * Rows do not need an index\n",
    "            * If more than one column, each column will be added as a\\\n",
    "                separate color to the chart.\n",
    "            * Only include columns with discharge values; no metadata\n",
    "\n",
    "        xscale ('logit' | 'linear'): Type of x scale for plotting probabilities\n",
    "            default is 'logit', so that each standard deviation is nearly the\n",
    "            same distance on the x scale. 'linear' is the other option.\n",
    "\n",
    "        yscale ('log' | 'linear'): The type of y scale for plotting discharge.\n",
    "            Default is 'log'.\n",
    "\n",
    "        ylabel (str, default: 'Stream Discharge (m³/s)'): The label for the Y axis.\n",
    "\n",
    "        xlabel (not implemented)\n",
    "\n",
    "        symbol (str, '.' | ','): formatting symbol for points.\n",
    "            * point: '.' (default)\n",
    "            * pixel point: ','\n",
    "            * circle: 'o'\n",
    "            * triangle up: '^'\n",
    "\n",
    "            See https://matplotlib.org/api/markers_api.html for full list of\n",
    "            point formatters.\n",
    "\n",
    "    Returns:\n",
    "        fig (matplotlib.figure.Figure):\n",
    "            a matplotlib figure. This will plot immediately in a Jupyter\n",
    "            notebook if the command '%matplotlib inline' was previously issued.\n",
    "            The figure may also be altered after it is returned.\n",
    "\n",
    "        ax (matplotlib.axes.Axes):\n",
    "            a matplotlib chart. This may be altered after it is returned.\n",
    "\n",
    "    \"\"\"\n",
    "    rank = Qdf.rank(ascending=False, pct=True)\n",
    "    x = rank\n",
    "    y = Qdf\n",
    "   # add an x-axis label\n",
    "xlabel=\"Probability\"\n",
    "    fig, ax = plt.subplots(1, 1)\n",
    "    ax.plot(x, y, symbol)\n",
    "    ax.set_xscale(xscale)\n",
    "    ax.set_yscale(yscale)\n",
    "    ax.set_xlabel(xlabel)\n",
    "    ax.set_ylabel(ylabel)\n",
    "#create a legend using the names of the columns. Place it in the upper right hand corner of the graph.\n",
    "    ax.legend(Q.columns, loc='upper right')\n",
    "# add a title\n",
    "    ax.title.set_text(\"Flow Duration in Four Federal Lands\")\n",
    "    # A pyplot bug causes a valueError value if the xlabel is set.\n",
    "    #ax.set_xlabel('Probability of Exceedence')\n",
    "    ax.xaxis.set_minor_formatter(ticker.NullFormatter())\n",
    "    return fig, ax"
   ]
  },
  {
   "cell_type": "code",
   "execution_count": 8,
   "metadata": {},
   "outputs": [
    {
     "data": {
      "text/plain": [
       "(<Figure size 432x288 with 1 Axes>,\n",
       " <matplotlib.axes._subplots.AxesSubplot at 0x17ef1513448>)"
      ]
     },
     "execution_count": 8,
     "metadata": {},
     "output_type": "execute_result"
    },
    {
     "data": {
      "image/png": "[encoded data removed]",
      "text/plain": [
       "<Figure size 432x288 with 1 Axes>"
      ]
     },
     "metadata": {
      "needs_background": "light"
     },
     "output_type": "display_data"
    }
   ],
   "source": [
    "#plot the new function\n",
    "flow_duration_labeled(Q)"
   ]
  },
  {
   "cell_type": "code",
   "execution_count": 9,
   "metadata": {
    "scrolled": true
   },
   "outputs": [
    {
     "data": {
      "text/html": [
       "<div>\n",
       "<style scoped>\n",
       "    .dataframe tbody tr th:only-of-type {\n",
       "        vertical-align: middle;\n",
       "    }\n",
       "\n",
       "    .dataframe tbody tr th {\n",
       "        vertical-align: top;\n",
       "    }\n",
       "\n",
       "    .dataframe thead th {\n",
       "        text-align: right;\n",
       "    }\n",
       "</style>\n",
       "<table border=\"1\" class=\"dataframe\">\n",
       "  <thead>\n",
       "    <tr style=\"text-align: right;\">\n",
       "      <th></th>\n",
       "      <th>White Mountains National Park</th>\n",
       "      <th>White River National Forest</th>\n",
       "      <th>Tonto National Forest</th>\n",
       "      <th>Mendicino National Park</th>\n",
       "    </tr>\n",
       "  </thead>\n",
       "  <tbody>\n",
       "    <tr>\n",
       "      <td>count</td>\n",
       "      <td>1095.000000</td>\n",
       "      <td>1095.000000</td>\n",
       "      <td>1095.000000</td>\n",
       "      <td>1095.000000</td>\n",
       "    </tr>\n",
       "    <tr>\n",
       "      <td>mean</td>\n",
       "      <td>282.006941</td>\n",
       "      <td>57.492785</td>\n",
       "      <td>5.144813</td>\n",
       "      <td>221.987370</td>\n",
       "    </tr>\n",
       "    <tr>\n",
       "      <td>std</td>\n",
       "      <td>526.176775</td>\n",
       "      <td>81.064415</td>\n",
       "      <td>28.089932</td>\n",
       "      <td>514.204177</td>\n",
       "    </tr>\n",
       "    <tr>\n",
       "      <td>min</td>\n",
       "      <td>25.000000</td>\n",
       "      <td>14.000000</td>\n",
       "      <td>0.670000</td>\n",
       "      <td>0.000000</td>\n",
       "    </tr>\n",
       "    <tr>\n",
       "      <td>25%</td>\n",
       "      <td>66.300000</td>\n",
       "      <td>22.700000</td>\n",
       "      <td>1.000000</td>\n",
       "      <td>0.085000</td>\n",
       "    </tr>\n",
       "    <tr>\n",
       "      <td>50%</td>\n",
       "      <td>123.000000</td>\n",
       "      <td>29.000000</td>\n",
       "      <td>1.920000</td>\n",
       "      <td>22.500000</td>\n",
       "    </tr>\n",
       "    <tr>\n",
       "      <td>75%</td>\n",
       "      <td>305.500000</td>\n",
       "      <td>51.850000</td>\n",
       "      <td>3.000000</td>\n",
       "      <td>212.500000</td>\n",
       "    </tr>\n",
       "    <tr>\n",
       "      <td>max</td>\n",
       "      <td>9090.000000</td>\n",
       "      <td>916.000000</td>\n",
       "      <td>691.000000</td>\n",
       "      <td>6270.000000</td>\n",
       "    </tr>\n",
       "  </tbody>\n",
       "</table>\n",
       "</div>"
      ],
      "text/plain": [
       "       White Mountains National Park  White River National Forest  \\\n",
       "count                    1095.000000                  1095.000000   \n",
       "mean                      282.006941                    57.492785   \n",
       "std                       526.176775                    81.064415   \n",
       "min                        25.000000                    14.000000   \n",
       "25%                        66.300000                    22.700000   \n",
       "50%                       123.000000                    29.000000   \n",
       "75%                       305.500000                    51.850000   \n",
       "max                      9090.000000                   916.000000   \n",
       "\n",
       "       Tonto National Forest  Mendicino National Park  \n",
       "count            1095.000000              1095.000000  \n",
       "mean                5.144813               221.987370  \n",
       "std                28.089932               514.204177  \n",
       "min                 0.670000                 0.000000  \n",
       "25%                 1.000000                 0.085000  \n",
       "50%                 1.920000                22.500000  \n",
       "75%                 3.000000               212.500000  \n",
       "max               691.000000              6270.000000  "
      ]
     },
     "execution_count": 9,
     "metadata": {},
     "output_type": "execute_result"
    }
   ],
   "source": [
    "#Pull the stats for each of the four sites.\n",
    "Q.describe()"
   ]
  }
 ],
 "metadata": {
  "kernelspec": {
   "display_name": "Python 3",
   "language": "python",
   "name": "python3"
  },
  "language_info": {
   "codemirror_mode": {
    "name": "ipython",
    "version": 3
   },
   "file_extension": ".py",
   "mimetype": "text/x-python",
   "name": "python",
   "nbconvert_exporter": "python",
   "pygments_lexer": "ipython3",
   "version": "3.7.4"
  }
 },
 "nbformat": 4,
 "nbformat_minor": 2
}
