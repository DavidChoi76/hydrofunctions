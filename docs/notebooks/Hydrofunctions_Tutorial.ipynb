{
 "cells": [
  {
   "cell_type": "markdown",
   "metadata": {},
   "source": [
    "# A Hydrofunctions Tutorial\n",
    "This guide will step you through the basics of using hydrofunctions. Read more in our [User's Guide](https://hydrofunctions.readthedocs.io), or visit us on [GitHub](https://github.com/mroberge/hydrofunctions)!"
   ]
  },
  {
   "cell_type": "markdown",
   "metadata": {},
   "source": [
    "## Installation\n",
    "The first step before using hydrofunctions is to get it installed on your system. For scientific computing, we highly recommend using the free, open-source [Anaconda](https://www.anaconda.com/download/) distribution to load and manage all of your Python tools and packages. Once you have downloaded and installed Anaconda, or if you already have Python set up on your computer, your next step is to use the pip tool from your operating system's command line to download hydrofunctions.\n",
    "\n",
    "In Linux:\n",
    "`$ pip install hydrofunctions`\n",
    "\n",
    "In Windows:\n",
    "`C:\\MyPythonWorkspace\\> pip install hydrofunctions`\n",
    "\n",
    "If you have any difficulties, visit our [Installation](https://hydrofunctions.readthedocs.io/en/master/installation.html) page in the User's Guide."
   ]
  },
  {
   "cell_type": "markdown",
   "metadata": {},
   "source": [
    "## Getting Started in Python\n",
    "From here on out, we will assume that you have installed hydrofunctions and you are working at a Python command prompt, \n",
    "perhaps in ipython or in a Jupyter notebook."
   ]
  },
  {
   "cell_type": "code",
   "execution_count": 1,
   "metadata": {},
   "outputs": [],
   "source": [
    "# The first step is to import hydrofunctions so that we can use it here.\n",
    "\n",
    "import hydrofunctions as hf\n",
    "# This second line allows us to automatically plot diagrams in this notebook.\n",
    "%matplotlib inline"
   ]
  },
  {
   "cell_type": "markdown",
   "metadata": {},
   "source": [
    "### Get data for a USGS streamflow gage\n",
    "The USGS runs an amazing web service called the [National Water Information System](https://waterdata.usgs.gov/nwis). Our\n",
    "first task is to download daily mean discharge data for a stream called Herring Run. Set the start date and the end date for\n",
    "our download, and use the site number for Herring Run ('01585200') to specify which stream gage we want to collect data from. Once we request the data, it will be saved to a file. If the file is already present, we'll just use that instead of requesting it from the NWIS.\n",
    "\n",
    "You can visit the [NWIS](https://waterdata.usgs.gov/nwis) website or use [hydrocloud.org](https://mroberge.github.io/HydroCloud/) to find the site number for a stream gage near you."
   ]
  },
  {
   "cell_type": "code",
   "execution_count": 2,
   "metadata": {},
   "outputs": [
    {
     "name": "stdout",
     "output_type": "stream",
     "text": [
      "Reading data from herring_july.parquet\n"
     ]
    },
    {
     "data": {
      "text/plain": [
       "USGS:01585200: WEST BRANCH HERRING RUN AT IDLEWYLDE, MD\n",
       "    00060: <Day>  Discharge, cubic feet per second\n",
       "Start: 2017-06-01 00:00:00+00:00\n",
       "End:   2017-07-14 00:00:00+00:00"
      ]
     },
     "execution_count": 2,
     "metadata": {},
     "output_type": "execute_result"
    }
   ],
   "source": [
    "start = '2017-06-01'\n",
    "end = '2017-07-14'\n",
    "herring = hf.NWIS('01585200', 'dv', start, end, file='herring_july.parquet')\n",
    "herring # This last command will print out a description of what we have."
   ]
  },
  {
   "cell_type": "markdown",
   "metadata": {},
   "source": [
    "## Viewing our data\n",
    "There are several ways to view our data. Try herring.json() or better still, use a [Pandas](https://pandas.pydata.org/) dataframe:"
   ]
  },
  {
   "cell_type": "code",
   "execution_count": 3,
   "metadata": {},
   "outputs": [
    {
     "data": {
      "text/html": [
       "<div>\n",
       "<style scoped>\n",
       "    .dataframe tbody tr th:only-of-type {\n",
       "        vertical-align: middle;\n",
       "    }\n",
       "\n",
       "    .dataframe tbody tr th {\n",
       "        vertical-align: top;\n",
       "    }\n",
       "\n",
       "    .dataframe thead th {\n",
       "        text-align: right;\n",
       "    }\n",
       "</style>\n",
       "<table border=\"1\" class=\"dataframe\">\n",
       "  <thead>\n",
       "    <tr style=\"text-align: right;\">\n",
       "      <th></th>\n",
       "      <th>USGS:01585200:00060:00003_qualifiers</th>\n",
       "      <th>USGS:01585200:00060:00003</th>\n",
       "    </tr>\n",
       "    <tr>\n",
       "      <th>datetimeUTC</th>\n",
       "      <th></th>\n",
       "      <th></th>\n",
       "    </tr>\n",
       "  </thead>\n",
       "  <tbody>\n",
       "    <tr>\n",
       "      <th>2017-06-01 00:00:00+00:00</th>\n",
       "      <td>A</td>\n",
       "      <td>0.71</td>\n",
       "    </tr>\n",
       "    <tr>\n",
       "      <th>2017-06-02 00:00:00+00:00</th>\n",
       "      <td>A</td>\n",
       "      <td>0.64</td>\n",
       "    </tr>\n",
       "    <tr>\n",
       "      <th>2017-06-03 00:00:00+00:00</th>\n",
       "      <td>A</td>\n",
       "      <td>0.61</td>\n",
       "    </tr>\n",
       "    <tr>\n",
       "      <th>2017-06-04 00:00:00+00:00</th>\n",
       "      <td>A</td>\n",
       "      <td>0.58</td>\n",
       "    </tr>\n",
       "    <tr>\n",
       "      <th>2017-06-05 00:00:00+00:00</th>\n",
       "      <td>A</td>\n",
       "      <td>1.95</td>\n",
       "    </tr>\n",
       "    <tr>\n",
       "      <th>2017-06-06 00:00:00+00:00</th>\n",
       "      <td>A</td>\n",
       "      <td>0.66</td>\n",
       "    </tr>\n",
       "    <tr>\n",
       "      <th>2017-06-07 00:00:00+00:00</th>\n",
       "      <td>A</td>\n",
       "      <td>0.62</td>\n",
       "    </tr>\n",
       "    <tr>\n",
       "      <th>2017-06-08 00:00:00+00:00</th>\n",
       "      <td>A</td>\n",
       "      <td>0.55</td>\n",
       "    </tr>\n",
       "    <tr>\n",
       "      <th>2017-06-09 00:00:00+00:00</th>\n",
       "      <td>A</td>\n",
       "      <td>0.51</td>\n",
       "    </tr>\n",
       "    <tr>\n",
       "      <th>2017-06-10 00:00:00+00:00</th>\n",
       "      <td>A</td>\n",
       "      <td>0.48</td>\n",
       "    </tr>\n",
       "    <tr>\n",
       "      <th>2017-06-11 00:00:00+00:00</th>\n",
       "      <td>A</td>\n",
       "      <td>0.48</td>\n",
       "    </tr>\n",
       "    <tr>\n",
       "      <th>2017-06-12 00:00:00+00:00</th>\n",
       "      <td>A</td>\n",
       "      <td>0.45</td>\n",
       "    </tr>\n",
       "    <tr>\n",
       "      <th>2017-06-13 00:00:00+00:00</th>\n",
       "      <td>A</td>\n",
       "      <td>0.43</td>\n",
       "    </tr>\n",
       "    <tr>\n",
       "      <th>2017-06-14 00:00:00+00:00</th>\n",
       "      <td>A</td>\n",
       "      <td>0.46</td>\n",
       "    </tr>\n",
       "    <tr>\n",
       "      <th>2017-06-15 00:00:00+00:00</th>\n",
       "      <td>A</td>\n",
       "      <td>0.38</td>\n",
       "    </tr>\n",
       "    <tr>\n",
       "      <th>2017-06-16 00:00:00+00:00</th>\n",
       "      <td>A</td>\n",
       "      <td>0.39</td>\n",
       "    </tr>\n",
       "    <tr>\n",
       "      <th>2017-06-17 00:00:00+00:00</th>\n",
       "      <td>A</td>\n",
       "      <td>0.39</td>\n",
       "    </tr>\n",
       "    <tr>\n",
       "      <th>2017-06-18 00:00:00+00:00</th>\n",
       "      <td>A</td>\n",
       "      <td>0.36</td>\n",
       "    </tr>\n",
       "    <tr>\n",
       "      <th>2017-06-19 00:00:00+00:00</th>\n",
       "      <td>A</td>\n",
       "      <td>7.48</td>\n",
       "    </tr>\n",
       "    <tr>\n",
       "      <th>2017-06-20 00:00:00+00:00</th>\n",
       "      <td>A</td>\n",
       "      <td>1.08</td>\n",
       "    </tr>\n",
       "    <tr>\n",
       "      <th>2017-06-21 00:00:00+00:00</th>\n",
       "      <td>A</td>\n",
       "      <td>1.30</td>\n",
       "    </tr>\n",
       "    <tr>\n",
       "      <th>2017-06-22 00:00:00+00:00</th>\n",
       "      <td>A</td>\n",
       "      <td>0.47</td>\n",
       "    </tr>\n",
       "    <tr>\n",
       "      <th>2017-06-23 00:00:00+00:00</th>\n",
       "      <td>A</td>\n",
       "      <td>1.22</td>\n",
       "    </tr>\n",
       "    <tr>\n",
       "      <th>2017-06-24 00:00:00+00:00</th>\n",
       "      <td>A</td>\n",
       "      <td>3.04</td>\n",
       "    </tr>\n",
       "    <tr>\n",
       "      <th>2017-06-25 00:00:00+00:00</th>\n",
       "      <td>A</td>\n",
       "      <td>0.37</td>\n",
       "    </tr>\n",
       "    <tr>\n",
       "      <th>2017-06-26 00:00:00+00:00</th>\n",
       "      <td>A</td>\n",
       "      <td>0.32</td>\n",
       "    </tr>\n",
       "    <tr>\n",
       "      <th>2017-06-27 00:00:00+00:00</th>\n",
       "      <td>A</td>\n",
       "      <td>0.31</td>\n",
       "    </tr>\n",
       "    <tr>\n",
       "      <th>2017-06-28 00:00:00+00:00</th>\n",
       "      <td>A</td>\n",
       "      <td>0.28</td>\n",
       "    </tr>\n",
       "    <tr>\n",
       "      <th>2017-06-29 00:00:00+00:00</th>\n",
       "      <td>A</td>\n",
       "      <td>0.29</td>\n",
       "    </tr>\n",
       "    <tr>\n",
       "      <th>2017-06-30 00:00:00+00:00</th>\n",
       "      <td>A</td>\n",
       "      <td>0.27</td>\n",
       "    </tr>\n",
       "    <tr>\n",
       "      <th>2017-07-01 00:00:00+00:00</th>\n",
       "      <td>A</td>\n",
       "      <td>6.20</td>\n",
       "    </tr>\n",
       "    <tr>\n",
       "      <th>2017-07-02 00:00:00+00:00</th>\n",
       "      <td>A</td>\n",
       "      <td>0.51</td>\n",
       "    </tr>\n",
       "    <tr>\n",
       "      <th>2017-07-03 00:00:00+00:00</th>\n",
       "      <td>A</td>\n",
       "      <td>0.35</td>\n",
       "    </tr>\n",
       "    <tr>\n",
       "      <th>2017-07-04 00:00:00+00:00</th>\n",
       "      <td>A</td>\n",
       "      <td>2.63</td>\n",
       "    </tr>\n",
       "    <tr>\n",
       "      <th>2017-07-05 00:00:00+00:00</th>\n",
       "      <td>A</td>\n",
       "      <td>0.44</td>\n",
       "    </tr>\n",
       "    <tr>\n",
       "      <th>2017-07-06 00:00:00+00:00</th>\n",
       "      <td>A</td>\n",
       "      <td>15.60</td>\n",
       "    </tr>\n",
       "    <tr>\n",
       "      <th>2017-07-07 00:00:00+00:00</th>\n",
       "      <td>A</td>\n",
       "      <td>1.58</td>\n",
       "    </tr>\n",
       "    <tr>\n",
       "      <th>2017-07-08 00:00:00+00:00</th>\n",
       "      <td>A</td>\n",
       "      <td>0.45</td>\n",
       "    </tr>\n",
       "    <tr>\n",
       "      <th>2017-07-09 00:00:00+00:00</th>\n",
       "      <td>A</td>\n",
       "      <td>0.35</td>\n",
       "    </tr>\n",
       "    <tr>\n",
       "      <th>2017-07-10 00:00:00+00:00</th>\n",
       "      <td>A</td>\n",
       "      <td>0.33</td>\n",
       "    </tr>\n",
       "    <tr>\n",
       "      <th>2017-07-11 00:00:00+00:00</th>\n",
       "      <td>A</td>\n",
       "      <td>0.33</td>\n",
       "    </tr>\n",
       "    <tr>\n",
       "      <th>2017-07-12 00:00:00+00:00</th>\n",
       "      <td>A</td>\n",
       "      <td>0.30</td>\n",
       "    </tr>\n",
       "    <tr>\n",
       "      <th>2017-07-13 00:00:00+00:00</th>\n",
       "      <td>A</td>\n",
       "      <td>0.28</td>\n",
       "    </tr>\n",
       "    <tr>\n",
       "      <th>2017-07-14 00:00:00+00:00</th>\n",
       "      <td>A</td>\n",
       "      <td>7.55</td>\n",
       "    </tr>\n",
       "  </tbody>\n",
       "</table>\n",
       "</div>"
      ],
      "text/plain": [
       "                          USGS:01585200:00060:00003_qualifiers  \\\n",
       "datetimeUTC                                                      \n",
       "2017-06-01 00:00:00+00:00                                    A   \n",
       "2017-06-02 00:00:00+00:00                                    A   \n",
       "2017-06-03 00:00:00+00:00                                    A   \n",
       "2017-06-04 00:00:00+00:00                                    A   \n",
       "2017-06-05 00:00:00+00:00                                    A   \n",
       "2017-06-06 00:00:00+00:00                                    A   \n",
       "2017-06-07 00:00:00+00:00                                    A   \n",
       "2017-06-08 00:00:00+00:00                                    A   \n",
       "2017-06-09 00:00:00+00:00                                    A   \n",
       "2017-06-10 00:00:00+00:00                                    A   \n",
       "2017-06-11 00:00:00+00:00                                    A   \n",
       "2017-06-12 00:00:00+00:00                                    A   \n",
       "2017-06-13 00:00:00+00:00                                    A   \n",
       "2017-06-14 00:00:00+00:00                                    A   \n",
       "2017-06-15 00:00:00+00:00                                    A   \n",
       "2017-06-16 00:00:00+00:00                                    A   \n",
       "2017-06-17 00:00:00+00:00                                    A   \n",
       "2017-06-18 00:00:00+00:00                                    A   \n",
       "2017-06-19 00:00:00+00:00                                    A   \n",
       "2017-06-20 00:00:00+00:00                                    A   \n",
       "2017-06-21 00:00:00+00:00                                    A   \n",
       "2017-06-22 00:00:00+00:00                                    A   \n",
       "2017-06-23 00:00:00+00:00                                    A   \n",
       "2017-06-24 00:00:00+00:00                                    A   \n",
       "2017-06-25 00:00:00+00:00                                    A   \n",
       "2017-06-26 00:00:00+00:00                                    A   \n",
       "2017-06-27 00:00:00+00:00                                    A   \n",
       "2017-06-28 00:00:00+00:00                                    A   \n",
       "2017-06-29 00:00:00+00:00                                    A   \n",
       "2017-06-30 00:00:00+00:00                                    A   \n",
       "2017-07-01 00:00:00+00:00                                    A   \n",
       "2017-07-02 00:00:00+00:00                                    A   \n",
       "2017-07-03 00:00:00+00:00                                    A   \n",
       "2017-07-04 00:00:00+00:00                                    A   \n",
       "2017-07-05 00:00:00+00:00                                    A   \n",
       "2017-07-06 00:00:00+00:00                                    A   \n",
       "2017-07-07 00:00:00+00:00                                    A   \n",
       "2017-07-08 00:00:00+00:00                                    A   \n",
       "2017-07-09 00:00:00+00:00                                    A   \n",
       "2017-07-10 00:00:00+00:00                                    A   \n",
       "2017-07-11 00:00:00+00:00                                    A   \n",
       "2017-07-12 00:00:00+00:00                                    A   \n",
       "2017-07-13 00:00:00+00:00                                    A   \n",
       "2017-07-14 00:00:00+00:00                                    A   \n",
       "\n",
       "                           USGS:01585200:00060:00003  \n",
       "datetimeUTC                                           \n",
       "2017-06-01 00:00:00+00:00                       0.71  \n",
       "2017-06-02 00:00:00+00:00                       0.64  \n",
       "2017-06-03 00:00:00+00:00                       0.61  \n",
       "2017-06-04 00:00:00+00:00                       0.58  \n",
       "2017-06-05 00:00:00+00:00                       1.95  \n",
       "2017-06-06 00:00:00+00:00                       0.66  \n",
       "2017-06-07 00:00:00+00:00                       0.62  \n",
       "2017-06-08 00:00:00+00:00                       0.55  \n",
       "2017-06-09 00:00:00+00:00                       0.51  \n",
       "2017-06-10 00:00:00+00:00                       0.48  \n",
       "2017-06-11 00:00:00+00:00                       0.48  \n",
       "2017-06-12 00:00:00+00:00                       0.45  \n",
       "2017-06-13 00:00:00+00:00                       0.43  \n",
       "2017-06-14 00:00:00+00:00                       0.46  \n",
       "2017-06-15 00:00:00+00:00                       0.38  \n",
       "2017-06-16 00:00:00+00:00                       0.39  \n",
       "2017-06-17 00:00:00+00:00                       0.39  \n",
       "2017-06-18 00:00:00+00:00                       0.36  \n",
       "2017-06-19 00:00:00+00:00                       7.48  \n",
       "2017-06-20 00:00:00+00:00                       1.08  \n",
       "2017-06-21 00:00:00+00:00                       1.30  \n",
       "2017-06-22 00:00:00+00:00                       0.47  \n",
       "2017-06-23 00:00:00+00:00                       1.22  \n",
       "2017-06-24 00:00:00+00:00                       3.04  \n",
       "2017-06-25 00:00:00+00:00                       0.37  \n",
       "2017-06-26 00:00:00+00:00                       0.32  \n",
       "2017-06-27 00:00:00+00:00                       0.31  \n",
       "2017-06-28 00:00:00+00:00                       0.28  \n",
       "2017-06-29 00:00:00+00:00                       0.29  \n",
       "2017-06-30 00:00:00+00:00                       0.27  \n",
       "2017-07-01 00:00:00+00:00                       6.20  \n",
       "2017-07-02 00:00:00+00:00                       0.51  \n",
       "2017-07-03 00:00:00+00:00                       0.35  \n",
       "2017-07-04 00:00:00+00:00                       2.63  \n",
       "2017-07-05 00:00:00+00:00                       0.44  \n",
       "2017-07-06 00:00:00+00:00                      15.60  \n",
       "2017-07-07 00:00:00+00:00                       1.58  \n",
       "2017-07-08 00:00:00+00:00                       0.45  \n",
       "2017-07-09 00:00:00+00:00                       0.35  \n",
       "2017-07-10 00:00:00+00:00                       0.33  \n",
       "2017-07-11 00:00:00+00:00                       0.33  \n",
       "2017-07-12 00:00:00+00:00                       0.30  \n",
       "2017-07-13 00:00:00+00:00                       0.28  \n",
       "2017-07-14 00:00:00+00:00                       7.55  "
      ]
     },
     "execution_count": 3,
     "metadata": {},
     "output_type": "execute_result"
    }
   ],
   "source": [
    "herring.df()"
   ]
  },
  {
   "cell_type": "markdown",
   "metadata": {},
   "source": [
    "Pandas' dataframes give you access to hundreds of useful methods, such as .describe() and .plot():"
   ]
  },
  {
   "cell_type": "code",
   "execution_count": 4,
   "metadata": {},
   "outputs": [
    {
     "data": {
      "text/html": [
       "<div>\n",
       "<style scoped>\n",
       "    .dataframe tbody tr th:only-of-type {\n",
       "        vertical-align: middle;\n",
       "    }\n",
       "\n",
       "    .dataframe tbody tr th {\n",
       "        vertical-align: top;\n",
       "    }\n",
       "\n",
       "    .dataframe thead th {\n",
       "        text-align: right;\n",
       "    }\n",
       "</style>\n",
       "<table border=\"1\" class=\"dataframe\">\n",
       "  <thead>\n",
       "    <tr style=\"text-align: right;\">\n",
       "      <th></th>\n",
       "      <th>USGS:01585200:00060:00003</th>\n",
       "    </tr>\n",
       "  </thead>\n",
       "  <tbody>\n",
       "    <tr>\n",
       "      <th>count</th>\n",
       "      <td>44.000000</td>\n",
       "    </tr>\n",
       "    <tr>\n",
       "      <th>mean</th>\n",
       "      <td>1.454091</td>\n",
       "    </tr>\n",
       "    <tr>\n",
       "      <th>std</th>\n",
       "      <td>2.792200</td>\n",
       "    </tr>\n",
       "    <tr>\n",
       "      <th>min</th>\n",
       "      <td>0.270000</td>\n",
       "    </tr>\n",
       "    <tr>\n",
       "      <th>25%</th>\n",
       "      <td>0.357500</td>\n",
       "    </tr>\n",
       "    <tr>\n",
       "      <th>50%</th>\n",
       "      <td>0.475000</td>\n",
       "    </tr>\n",
       "    <tr>\n",
       "      <th>75%</th>\n",
       "      <td>0.802500</td>\n",
       "    </tr>\n",
       "    <tr>\n",
       "      <th>max</th>\n",
       "      <td>15.600000</td>\n",
       "    </tr>\n",
       "  </tbody>\n",
       "</table>\n",
       "</div>"
      ],
      "text/plain": [
       "       USGS:01585200:00060:00003\n",
       "count                  44.000000\n",
       "mean                    1.454091\n",
       "std                     2.792200\n",
       "min                     0.270000\n",
       "25%                     0.357500\n",
       "50%                     0.475000\n",
       "75%                     0.802500\n",
       "max                    15.600000"
      ]
     },
     "execution_count": 4,
     "metadata": {},
     "output_type": "execute_result"
    }
   ],
   "source": [
    "herring.df().describe()"
   ]
  },
  {
   "cell_type": "code",
   "execution_count": 5,
   "metadata": {},
   "outputs": [
    {
     "name": "stderr",
     "output_type": "stream",
     "text": [
      "C:\\Users\\Marty\\Anaconda3\\envs\\py37hfdev\\lib\\site-packages\\pandas\\core\\arrays\\datetimes.py:1172: UserWarning: Converting to PeriodArray/Index representation will drop timezone information.\n",
      "  \"will drop timezone information.\", UserWarning)\n"
     ]
    },
    {
     "data": {
      "text/plain": [
       "<matplotlib.axes._subplots.AxesSubplot at 0x22f6664b198>"
      ]
     },
     "execution_count": 5,
     "metadata": {},
     "output_type": "execute_result"
    },
    {
     "data": {
      "image/png": "[encoded data removed]",
      "text/plain": [
       "<Figure size 432x288 with 1 Axes>"
      ]
     },
     "metadata": {
      "needs_background": "light"
     },
     "output_type": "display_data"
    }
   ],
   "source": [
    "herring.df().plot()"
   ]
  },
  {
   "cell_type": "markdown",
   "metadata": {},
   "source": [
    "## Multiple sites, other parameters\n",
    "It's possible to load data from several different sites at the same time, and you aren't limited to just stream discharge."
   ]
  },
  {
   "cell_type": "markdown",
   "metadata": {},
   "source": [
    "Requests can use lists of sites:"
   ]
  },
  {
   "cell_type": "code",
   "execution_count": 6,
   "metadata": {},
   "outputs": [],
   "source": [
    "sites = ['380616075380701','394008077005601']"
   ]
  },
  {
   "cell_type": "markdown",
   "metadata": {},
   "source": [
    "The NWIS can deliver data as daily mean values ('dv') or as instantaneous values ('iv') \n",
    "that can get collected as often as every five minutes!"
   ]
  },
  {
   "cell_type": "code",
   "execution_count": 7,
   "metadata": {},
   "outputs": [],
   "source": [
    "service = 'iv'"
   ]
  },
  {
   "cell_type": "markdown",
   "metadata": {},
   "source": [
    "Depending on the site, the USGS collects groundwater levels ('72019'), stage ('00065'), precipitation, and more!"
   ]
  },
  {
   "cell_type": "code",
   "execution_count": 8,
   "metadata": {},
   "outputs": [],
   "source": [
    "pcode = '72019'"
   ]
  },
  {
   "cell_type": "markdown",
   "metadata": {},
   "source": [
    "Now we'll create a new dataset called 'groundwater' using the values we set up above.\n",
    "\n",
    "Since one of the parameters gets collected every 30 minutes, and the other gets collected every 15 minutes, Hydrofunctions will interpolate values for every 15 minutes for every parameter we've requested. These interpolated values will be marked with a special `hf.interpolate` flag in the qualifiers column."
   ]
  },
  {
   "cell_type": "code",
   "execution_count": 9,
   "metadata": {},
   "outputs": [
    {
     "name": "stdout",
     "output_type": "stream",
     "text": [
      "Reading data from groundwater.parquet\n"
     ]
    },
    {
     "data": {
      "text/plain": [
       "USGS:380616075380701: SO Cf   2\n",
       "    72019: <15 * Minutes>  Depth to water level, feet below land surface\n",
       "USGS:394008077005601: CL Ad  47\n",
       "    72019: <30 * Minutes>  Depth to water level, feet below land surface\n",
       "Start: 2018-01-01 05:00:00+00:00\n",
       "End:   2018-02-01 04:45:00+00:00"
      ]
     },
     "execution_count": 9,
     "metadata": {},
     "output_type": "execute_result"
    }
   ],
   "source": [
    "groundwater = hf.NWIS(sites, service, '2018-01-01', '2018-01-31', parameterCd=pcode, file='groundwater.parquet')\n",
    "groundwater"
   ]
  },
  {
   "cell_type": "markdown",
   "metadata": {},
   "source": [
    "Calculate the mean for every data column:"
   ]
  },
  {
   "cell_type": "code",
   "execution_count": 10,
   "metadata": {},
   "outputs": [
    {
     "data": {
      "text/plain": [
       "USGS:380616075380701:72019:00000    1.215141\n",
       "USGS:394008077005601:72019:00000    3.206111\n",
       "dtype: float64"
      ]
     },
     "execution_count": 10,
     "metadata": {},
     "output_type": "execute_result"
    }
   ],
   "source": [
    "groundwater.df().mean()"
   ]
  },
  {
   "cell_type": "markdown",
   "metadata": {},
   "source": [
    "View the data in a specially styled graph!"
   ]
  },
  {
   "cell_type": "code",
   "execution_count": 11,
   "metadata": {},
   "outputs": [
    {
     "data": {
      "text/plain": [
       "<matplotlib.axes._subplots.AxesSubplot at 0x22f667facc0>"
      ]
     },
     "execution_count": 11,
     "metadata": {},
     "output_type": "execute_result"
    },
    {
     "data": {
      "image/png": "[encoded data removed]",
      "text/plain": [
       "<Figure size 432x288 with 1 Axes>"
      ]
     },
     "metadata": {
      "needs_background": "light"
     },
     "output_type": "display_data"
    }
   ],
   "source": [
    "groundwater.df().plot(marker='o', mfc='white', ms=4, mec='black', color='black')"
   ]
  },
  {
   "cell_type": "markdown",
   "metadata": {},
   "source": [
    "## Learning More\n",
    "hydrofunctions comes with a variety of built-in help functions that you can access from the command line, in addition to our online [User's Guide](https://hydrofunctions.readthedocs.io). \n",
    "\n",
    "Jupyter Notebooks provide additional helpful shortcuts, such as code completion. This will list all of the available\n",
    "methods for an object just by hitting <TAB> like this: `herring.<TAB>` this is equivalent to using dir(herring) to list\n",
    "all of the methods available to you."
   ]
  },
  {
   "cell_type": "markdown",
   "metadata": {},
   "source": [
    "Typing help() or dir() for different objects allows you to access additional information.\n",
    "`help(hf.NWIS)` is equivalent to just using a question mark like this: `?hf.NWIS`"
   ]
  },
  {
   "cell_type": "code",
   "execution_count": 12,
   "metadata": {},
   "outputs": [
    {
     "name": "stdout",
     "output_type": "stream",
     "text": [
      "Help on class NWIS in module hydrofunctions.station:\n",
      "\n",
      "class NWIS(Station)\n",
      " |  NWIS(site=None, service='dv', start_date=None, end_date=None, stateCd=None, countyCd=None, bBox=None, parameterCd='all', period=None, file=None)\n",
      " |  \n",
      " |  A class for working with data from the USGS NWIS service.\n",
      " |  \n",
      " |  description\n",
      " |  \n",
      " |  Args:\n",
      " |      site (str or list of strings):\n",
      " |          a valid site is '01585200' or ['01585200', '01646502']. Default is\n",
      " |          None. If site is not specified, you will need to select sites using\n",
      " |          stateCd or countyCd.\n",
      " |  \n",
      " |      service (str):\n",
      " |          can either be 'iv' or 'dv' for instantaneous or daily data.\n",
      " |          'dv'(default): daily values. Mean value for an entire day.\n",
      " |          'iv': instantaneous value measured at this time. Also known\n",
      " |          as 'Real-time data'. Can be measured as often as every\n",
      " |          five minutes by the USGS. 15 minutes is more typical.\n",
      " |  \n",
      " |      start_date (str):\n",
      " |         should take on the form 'yyyy-mm-dd'\n",
      " |  \n",
      " |      end_date (str):\n",
      " |          should take on the form 'yyyy-mm-dd'\n",
      " |  \n",
      " |      stateCd (str):\n",
      " |          a valid two-letter state postal abbreviation, such as 'MD'. Default\n",
      " |          is None. Selects all stations in this state. Because this type of\n",
      " |          site selection returns a large number of sites, you should limit\n",
      " |          the amount of data requested for each site.\n",
      " |  \n",
      " |      countyCd (str or list of strings):\n",
      " |          a valid county FIPS code. Default is None. Requests all stations\n",
      " |          within the county or list of counties. See https://en.wikipedia.org/wiki/FIPS_county_code\n",
      " |          for an explanation of FIPS codes.\n",
      " |  \n",
      " |      bBox (str, list, or tuple):\n",
      " |          a set of coordinates that defines a bounding box.\n",
      " |              * Coordinates are in decimal degrees.\n",
      " |              * Longitude values are negative (west of the prime meridian).\n",
      " |              * Latitude values are positive (north of the equator).\n",
      " |              * comma-delimited, no spaces, if provided as a string.\n",
      " |              * The order of the boundaries should be: \"West,South,East,North\"\n",
      " |              * Example: \"-83.000000,36.500000,-81.000000,38.500000\"\n",
      " |  \n",
      " |      parameterCd (str or list of strings):\n",
      " |          NWIS parameter code. Usually a five digit code. Default is 'all'.\n",
      " |          A valid code can also be given as a list: parameterCd=['00060','00065']\n",
      " |          This will request data for this parameter.\n",
      " |  \n",
      " |              * if value is 'all', or no value is submitted, then NWIS will                 return every parameter collected at this site. (default option)\n",
      " |              * stage: '00065'\n",
      " |              * discharge: '00060'\n",
      " |              * not all sites collect all parameters!\n",
      " |              * See https://nwis.waterdata.usgs.gov/usa/nwis/pmcodes for full list\n",
      " |  \n",
      " |      period (str):\n",
      " |          NWIS period code. Default is None.\n",
      " |              * Format is \"PxxD\", where xx is the number of days before                 today, with a maximum of 999 days accepted.\n",
      " |              * Either use start_date or period, but not both.\n",
      " |  \n",
      " |  Method resolution order:\n",
      " |      NWIS\n",
      " |      Station\n",
      " |      builtins.object\n",
      " |  \n",
      " |  Methods defined here:\n",
      " |  \n",
      " |  __init__(self, site=None, service='dv', start_date=None, end_date=None, stateCd=None, countyCd=None, bBox=None, parameterCd='all', period=None, file=None)\n",
      " |      Initialize self.  See help(type(self)) for accurate signature.\n",
      " |  \n",
      " |  __repr__(self)\n",
      " |      Return repr(self).\n",
      " |  \n",
      " |  df(self, *args)\n",
      " |      Return a subset of columns from the dataframe.\n",
      " |      \n",
      " |      Args:\n",
      " |          '': If no args are provided, the entire dataframe will be returned.\n",
      " |      \n",
      " |          str 'all': the entire dataframe will be returned.\n",
      " |      \n",
      " |          str 'data': all of the parameters will be returned, with no flags.\n",
      " |      \n",
      " |          str 'flags': Only the _qualifier flags will be returned. Unless the             flags arg is provided, only data columns will be returned. Visit             https://waterdata.usgs.gov/usa/nwis/uv?codes_help#dv_cd1 to see a             more complete listing of possible codes.\n",
      " |      \n",
      " |          str 'discharge' or 'q': discharge columns ('00060') will be returned.\n",
      " |      \n",
      " |          str 'stage': Gauge height columns ('00065') will be returned.\n",
      " |      \n",
      " |          int any five digit number: any matching parameter columns will be returned. '00065' returns stage, for example.\n",
      " |      \n",
      " |          int any eight to twelve digit number: any matching stations will be returned.\n",
      " |  \n",
      " |  get_data(self)\n",
      " |  \n",
      " |  read(self, file)\n",
      " |  \n",
      " |  save(self, file)\n",
      " |  \n",
      " |  ----------------------------------------------------------------------\n",
      " |  Data descriptors inherited from Station:\n",
      " |  \n",
      " |  __dict__\n",
      " |      dictionary for instance variables (if defined)\n",
      " |  \n",
      " |  __weakref__\n",
      " |      list of weak references to the object (if defined)\n",
      " |  \n",
      " |  ----------------------------------------------------------------------\n",
      " |  Data and other attributes inherited from Station:\n",
      " |  \n",
      " |  station_dict = {}\n",
      "\n"
     ]
    }
   ],
   "source": [
    "help(hf.NWIS)"
   ]
  },
  {
   "cell_type": "markdown",
   "metadata": {},
   "source": [
    "## Advanced Techniques"
   ]
  },
  {
   "cell_type": "markdown",
   "metadata": {},
   "source": [
    "### Download data for a large number of sites"
   ]
  },
  {
   "cell_type": "code",
   "execution_count": 13,
   "metadata": {},
   "outputs": [
    {
     "name": "stdout",
     "output_type": "stream",
     "text": [
      "Reading data from mult.parquet\n",
      "No. sites: 38\n"
     ]
    }
   ],
   "source": [
    "sites = ['07227500', '07228000', '07235000', '07295500', '07297910', '07298500', '07299540',\n",
    "         '07299670', '07299890', '07300000', '07301300', '07301410', '07308200', '07308500', '07311600',\n",
    "         '07311630', '07311700', '07311782', '07311783', '07311800', '07311900', '07312100', '07312200',\n",
    "         '07312500', '07312700', '07314500', '07314900', '07315200', '07315500', '07342465', '07342480',\n",
    "         '07342500', '07343000', '07343200', '07343500', '07344210', '07344500', '07346000']\n",
    "mult = hf.NWIS(sites, \"dv\", \"2018-01-01\", \"2018-01-31\", file='mult.parquet')\n",
    "print('No. sites: {}'.format(len(sites)))"
   ]
  },
  {
   "cell_type": "markdown",
   "metadata": {},
   "source": [
    "This will calculate the mean value for each site."
   ]
  },
  {
   "cell_type": "code",
   "execution_count": 14,
   "metadata": {},
   "outputs": [
    {
     "data": {
      "text/plain": [
       "USGS:07227500:00010:00001       6.848387\n",
       "USGS:07227500:00010:00002       0.661290\n",
       "USGS:07227500:00010:00003       3.254839\n",
       "USGS:07227500:00060:00003      51.880645\n",
       "USGS:07227500:00065:00003       1.233710\n",
       "USGS:07227500:00095:00001    5968.333333\n",
       "USGS:07227500:00095:00002    5648.571429\n",
       "USGS:07227500:00095:00003    5788.333333\n",
       "USGS:07228000:00060:00003      57.938710\n",
       "USGS:07228000:00065:00003       1.429032\n",
       "USGS:07235000:00060:00001       0.657742\n",
       "USGS:07235000:00060:00002       0.462581\n",
       "USGS:07235000:00060:00003       0.558065\n",
       "USGS:07235000:00065:00003       4.381613\n",
       "USGS:07295500:00060:00001       0.000000\n",
       "USGS:07295500:00060:00002       0.000000\n",
       "USGS:07295500:00060:00003       0.000000\n",
       "USGS:07295500:00065:00001       0.606452\n",
       "USGS:07295500:00065:00002       0.600000\n",
       "USGS:07295500:00065:00003       0.600000\n",
       "USGS:07297910:00060:00001      24.383871\n",
       "USGS:07297910:00060:00002      14.901290\n",
       "USGS:07297910:00060:00003      19.103226\n",
       "USGS:07297910:00065:00001       6.003148\n",
       "USGS:07297910:00065:00002       5.941111\n",
       "USGS:07297910:00065:00003       5.967778\n",
       "USGS:07298500:00060:00001      10.042581\n",
       "USGS:07298500:00060:00002       7.213548\n",
       "USGS:07298500:00060:00003       8.730968\n",
       "USGS:07298500:00065:00001       4.830000\n",
       "                                ...     \n",
       "USGS:07342500:00065:00002       2.810645\n",
       "USGS:07342500:00065:00003       2.835161\n",
       "USGS:07343000:00060:00001      68.566452\n",
       "USGS:07343000:00060:00002      14.491935\n",
       "USGS:07343000:00060:00003      36.442258\n",
       "USGS:07343000:00065:00001       1.601935\n",
       "USGS:07343000:00065:00002       1.318065\n",
       "USGS:07343000:00065:00003       1.468065\n",
       "USGS:07343200:00060:00003      76.200000\n",
       "USGS:07343500:00060:00001      52.474194\n",
       "USGS:07343500:00060:00002      34.600000\n",
       "USGS:07343500:00060:00003      43.445161\n",
       "USGS:07343500:00065:00001       2.986452\n",
       "USGS:07343500:00065:00002       2.609839\n",
       "USGS:07343500:00065:00003       2.794032\n",
       "USGS:07344210:00060:00001    1304.306452\n",
       "USGS:07344210:00060:00002    1208.258065\n",
       "USGS:07344210:00065:00001      13.347419\n",
       "USGS:07344210:00065:00002      12.885161\n",
       "USGS:07344210:00065:00003      13.119032\n",
       "USGS:07344500:00060:00001      10.138065\n",
       "USGS:07344500:00060:00002       6.139677\n",
       "USGS:07344500:00060:00003       7.929032\n",
       "USGS:07344500:00065:00001       5.570323\n",
       "USGS:07344500:00065:00002       5.401613\n",
       "USGS:07344500:00065:00003       5.482258\n",
       "USGS:07346000:00060:00001     287.387097\n",
       "USGS:07346000:00060:00002     283.548387\n",
       "USGS:07346000:00060:00003     285.387097\n",
       "USGS:07346000:00065:00003       8.185806\n",
       "Length: 164, dtype: float64"
      ]
     },
     "execution_count": 14,
     "metadata": {},
     "output_type": "execute_result"
    }
   ],
   "source": [
    "mult.df().mean()"
   ]
  },
  {
   "cell_type": "markdown",
   "metadata": {},
   "source": [
    "Plot just the discharge data for one site in the list:"
   ]
  },
  {
   "cell_type": "code",
   "execution_count": 15,
   "metadata": {},
   "outputs": [
    {
     "data": {
      "text/plain": [
       "<matplotlib.axes._subplots.AxesSubplot at 0x22f66758780>"
      ]
     },
     "execution_count": 15,
     "metadata": {},
     "output_type": "execute_result"
    },
    {
     "data": {
      "image/png": "[encoded data removed]",
      "text/plain": [
       "<Figure size 432x288 with 1 Axes>"
      ]
     },
     "metadata": {
      "needs_background": "light"
     },
     "output_type": "display_data"
    }
   ],
   "source": [
    "mult.df('07228000', 'discharge').plot()"
   ]
  },
  {
   "cell_type": "markdown",
   "metadata": {},
   "source": [
    "#### List some of the data available to you in a dataframe."
   ]
  },
  {
   "cell_type": "code",
   "execution_count": 16,
   "metadata": {},
   "outputs": [
    {
     "data": {
      "text/plain": [
       "USGS:07227500: Canadian Rv nr Amarillo, TX\n",
       "    00010: <Day>  Temperature, water, degrees Celsius\n",
       "    00060: <Day>  Discharge, cubic feet per second\n",
       "    00065: <Day>  Gage height, feet\n",
       "    00095: <Day>  Specific conductance, water, unfiltered, microsiemens per centimeter at 25 degrees Celsius\n",
       "USGS:07228000: Canadian Rv nr Canadian, TX\n",
       "    00060: <Day>  Discharge, cubic feet per second\n",
       "    00065: <Day>  Gage height, feet\n",
       "USGS:07235000: Wolf Ck at Lipscomb, TX\n",
       "    00060: <Day>  Discharge, cubic feet per second\n",
       "    00065: <Day>  Gage height, feet\n",
       "USGS:07295500: Tierra Blanca Ck abv Buffalo Lk nr Umbarger, TX\n",
       "    00060: <Day>  Discharge, cubic feet per second\n",
       "    00065: <Day>  Gage height, feet\n",
       "USGS:07297910: Pr Dog Twn Fk Red Rv nr Wayside, TX\n",
       "    00060: <Day>  Discharge, cubic feet per second\n",
       "    00065: <Day>  Gage height, feet\n",
       "USGS:07298500: Pr Dog Twn Fk Red Rv nr Brice, TX\n",
       "    00060: <Day>  Discharge, cubic feet per second\n",
       "    00065: <Day>  Gage height, feet\n",
       "USGS:07299540: Pr Dog Twn Fk Red Rv nr Childress, TX\n",
       "    00060: <Day>  Discharge, cubic feet per second\n",
       "    00065: <Day>  Gage height, feet\n",
       "USGS:07299670: Groesbeck Ck at SH 6 nr Quanah, TX\n",
       "    00060: <Day>  Discharge, cubic feet per second\n",
       "    00065: <Day>  Gage height, feet\n",
       "USGS:07299890: Lelia Lk Ck bl Bell Ck nr Hedley, TX\n",
       "    00060: <Day>  Discharge, cubic feet per second\n",
       "    00065: <Day>  Gage height, feet\n",
       "USGS:07300000: Salt Fk Red Rv nr Wellington, TX\n",
       "    00060: <Day>  Discharge, cubic feet per second\n",
       "    00065: <Day>  Gage height, feet\n",
       "USGS:07301300: N Fk Red Rv nr Shamrock, TX\n",
       "    00060: <Day>  Discharge, cubic feet per second\n",
       "USGS:07301410: Sweetwater Ck nr Kelton, TX\n",
       "    00060: <Day>  Discharge, cubic feet per second\n",
       "USGS:07308200: Pease Rv nr Vernon, TX\n",
       "    00060: <Day>  Discharge, cubic feet per second\n",
       "    00065: <Day>  Gage height, feet\n",
       "USGS:07308500: Red Rv nr Burkburnett, TX\n",
       "    00060: <Day>  Discharge, cubic feet per second\n",
       "    00065: <Day>  Gage height, feet\n",
       "USGS:07311700: N Wichita Rv nr Truscott, TX\n",
       "    00060: <Day>  Discharge, cubic feet per second\n",
       "    00065: <Day>  Gage height, feet\n",
       "USGS:07311800: S Wichita Rv nr Benjamin, TX\n",
       "    00010: <Day>  Temperature, water, degrees Celsius\n",
       "    00060: <Day>  Discharge, cubic feet per second\n",
       "    00065: <Day>  Gage height, feet\n",
       "    00095: <Day>  Specific conductance, water, unfiltered, microsiemens per centimeter at 25 degrees Celsius\n",
       "USGS:07311900: Wichita Rv nr Seymour, TX\n",
       "    00060: <Day>  Discharge, cubic feet per second\n",
       "    00065: <Day>  Gage height, feet\n",
       "USGS:07312100: Wichita Rv nr Mabelle, TX\n",
       "    00060: <Day>  Discharge, cubic feet per second\n",
       "    00065: <Day>  Gage height, feet\n",
       "USGS:07312200: Beaver Ck nr Electra, TX\n",
       "    00060: <Day>  Discharge, cubic feet per second\n",
       "    00065: <2 * Days>  Gage height, feet\n",
       "USGS:07312500: Wichita Rv at Wichita Falls, TX\n",
       "    00010: <Day>  Temperature, water, degrees Celsius\n",
       "    00060: <Day>  Discharge, cubic feet per second\n",
       "    00065: <Day>  Gage height, feet\n",
       "    00095: <Day>  Specific conductance, water, unfiltered, microsiemens per centimeter at 25 degrees Celsius\n",
       "USGS:07312700: Wichita Rv nr Charlie, TX\n",
       "    00010: <Day>  Temperature, water, degrees Celsius\n",
       "    00060: <Day>  Discharge, cubic feet per second\n",
       "    00065: <Day>  Gage height, feet\n",
       "    00095: <Day>  Specific conductance, water, unfiltered, microsiemens per centimeter at 25 degrees Celsius\n",
       "USGS:07314500: Little Wichita Rv nr Archer City, TX\n",
       "    00060: <Day>  Discharge, cubic feet per second\n",
       "    00065: <Day>  Gage height, feet\n",
       "USGS:07314900: Little Wichita Rv abv Henrietta, TX\n",
       "    00060: <Day>  Discharge, cubic feet per second\n",
       "    00065: <Day>  Gage height, feet\n",
       "USGS:07315200: E Fk Little Wichita Rv nr Henrietta, TX\n",
       "    00060: <Day>  Discharge, cubic feet per second\n",
       "    00065: <Day>  Gage height, feet\n",
       "USGS:07315500: Red Rv nr Terral, OK\n",
       "    00060: <Day>  Discharge, cubic feet per second\n",
       "    00065: <Day>  Gage height, feet\n",
       "USGS:07342465: S Sulphur Rv at Commerce, TX\n",
       "    00060: <Day>  Discharge, cubic feet per second\n",
       "    00065: <Day>  Gage height, feet\n",
       "USGS:07342480: Middle Sulphur Rv at Commerce, TX\n",
       "    00060: <Day>  Discharge, cubic feet per second\n",
       "    00065: <Day>  Gage height, feet\n",
       "USGS:07342500: S Sulphur Rv nr Cooper, TX\n",
       "    00060: <Day>  Discharge, cubic feet per second\n",
       "    00065: <Day>  Gage height, feet\n",
       "USGS:07343000: N Sulphur Rv nr Cooper, TX\n",
       "    00060: <Day>  Discharge, cubic feet per second\n",
       "    00065: <Day>  Gage height, feet\n",
       "USGS:07343200: Sulphur Rv nr Talco, TX\n",
       "    00060: <Day>  Discharge, cubic feet per second\n",
       "USGS:07343500: White Oak Ck nr Talco, TX\n",
       "    00060: <Day>  Discharge, cubic feet per second\n",
       "    00065: <Day>  Gage height, feet\n",
       "USGS:07344210: Sulphur Rv nr Texarkana, TX\n",
       "    00060: <Day>  Discharge, cubic feet per second\n",
       "    00065: <Day>  Gage height, feet\n",
       "USGS:07344500: Big Cypress Ck nr Pittsburg, TX\n",
       "    00060: <Day>  Discharge, cubic feet per second\n",
       "    00065: <Day>  Gage height, feet\n",
       "USGS:07346000: Big Cypress Bayou nr Jefferson, TX\n",
       "    00060: <Day>  Discharge, cubic feet per second\n",
       "    00065: <Day>  Gage height, feet\n",
       "Start: 2018-01-01 00:00:00+00:00\n",
       "End:   2018-01-31 00:00:00+00:00"
      ]
     },
     "execution_count": 16,
     "metadata": {},
     "output_type": "execute_result"
    }
   ],
   "source": [
    "mult"
   ]
  },
  {
   "cell_type": "markdown",
   "metadata": {},
   "source": [
    "#### Create a table of discharge data\n",
    "`.head()`  only show the first five  \n",
    "`.tail()`  only show the last five"
   ]
  },
  {
   "cell_type": "code",
   "execution_count": 17,
   "metadata": {},
   "outputs": [
    {
     "data": {
      "text/html": [
       "<div>\n",
       "<style scoped>\n",
       "    .dataframe tbody tr th:only-of-type {\n",
       "        vertical-align: middle;\n",
       "    }\n",
       "\n",
       "    .dataframe tbody tr th {\n",
       "        vertical-align: top;\n",
       "    }\n",
       "\n",
       "    .dataframe thead th {\n",
       "        text-align: right;\n",
       "    }\n",
       "</style>\n",
       "<table border=\"1\" class=\"dataframe\">\n",
       "  <thead>\n",
       "    <tr style=\"text-align: right;\">\n",
       "      <th></th>\n",
       "      <th>USGS:07227500:00060:00003</th>\n",
       "      <th>USGS:07228000:00060:00003</th>\n",
       "      <th>USGS:07235000:00060:00001</th>\n",
       "      <th>USGS:07235000:00060:00002</th>\n",
       "      <th>USGS:07235000:00060:00003</th>\n",
       "      <th>USGS:07295500:00060:00001</th>\n",
       "      <th>USGS:07295500:00060:00002</th>\n",
       "      <th>USGS:07295500:00060:00003</th>\n",
       "      <th>USGS:07297910:00060:00001</th>\n",
       "      <th>USGS:07297910:00060:00002</th>\n",
       "      <th>...</th>\n",
       "      <th>USGS:07343500:00060:00002</th>\n",
       "      <th>USGS:07343500:00060:00003</th>\n",
       "      <th>USGS:07344210:00060:00001</th>\n",
       "      <th>USGS:07344210:00060:00002</th>\n",
       "      <th>USGS:07344500:00060:00001</th>\n",
       "      <th>USGS:07344500:00060:00002</th>\n",
       "      <th>USGS:07344500:00060:00003</th>\n",
       "      <th>USGS:07346000:00060:00001</th>\n",
       "      <th>USGS:07346000:00060:00002</th>\n",
       "      <th>USGS:07346000:00060:00003</th>\n",
       "    </tr>\n",
       "    <tr>\n",
       "      <th>datetimeUTC</th>\n",
       "      <th></th>\n",
       "      <th></th>\n",
       "      <th></th>\n",
       "      <th></th>\n",
       "      <th></th>\n",
       "      <th></th>\n",
       "      <th></th>\n",
       "      <th></th>\n",
       "      <th></th>\n",
       "      <th></th>\n",
       "      <th></th>\n",
       "      <th></th>\n",
       "      <th></th>\n",
       "      <th></th>\n",
       "      <th></th>\n",
       "      <th></th>\n",
       "      <th></th>\n",
       "      <th></th>\n",
       "      <th></th>\n",
       "      <th></th>\n",
       "      <th></th>\n",
       "    </tr>\n",
       "  </thead>\n",
       "  <tbody>\n",
       "    <tr>\n",
       "      <th>2018-01-01 00:00:00+00:00</th>\n",
       "      <td>43.0</td>\n",
       "      <td>53.6</td>\n",
       "      <td>0.55</td>\n",
       "      <td>0.40</td>\n",
       "      <td>0.46</td>\n",
       "      <td>0.0</td>\n",
       "      <td>0.0</td>\n",
       "      <td>0.0</td>\n",
       "      <td>30.9</td>\n",
       "      <td>25.9</td>\n",
       "      <td>...</td>\n",
       "      <td>35.8</td>\n",
       "      <td>37.7</td>\n",
       "      <td>774.0</td>\n",
       "      <td>756.0</td>\n",
       "      <td>4.82</td>\n",
       "      <td>4.00</td>\n",
       "      <td>4.44</td>\n",
       "      <td>285.0</td>\n",
       "      <td>283.0</td>\n",
       "      <td>284.0</td>\n",
       "    </tr>\n",
       "    <tr>\n",
       "      <th>2018-01-02 00:00:00+00:00</th>\n",
       "      <td>52.9</td>\n",
       "      <td>53.8</td>\n",
       "      <td>0.61</td>\n",
       "      <td>0.36</td>\n",
       "      <td>0.48</td>\n",
       "      <td>0.0</td>\n",
       "      <td>0.0</td>\n",
       "      <td>0.0</td>\n",
       "      <td>35.9</td>\n",
       "      <td>30.9</td>\n",
       "      <td>...</td>\n",
       "      <td>32.5</td>\n",
       "      <td>34.0</td>\n",
       "      <td>1360.0</td>\n",
       "      <td>763.0</td>\n",
       "      <td>5.27</td>\n",
       "      <td>3.70</td>\n",
       "      <td>4.32</td>\n",
       "      <td>285.0</td>\n",
       "      <td>284.0</td>\n",
       "      <td>285.0</td>\n",
       "    </tr>\n",
       "    <tr>\n",
       "      <th>2018-01-03 00:00:00+00:00</th>\n",
       "      <td>51.7</td>\n",
       "      <td>55.7</td>\n",
       "      <td>0.55</td>\n",
       "      <td>0.46</td>\n",
       "      <td>0.51</td>\n",
       "      <td>0.0</td>\n",
       "      <td>0.0</td>\n",
       "      <td>0.0</td>\n",
       "      <td>43.3</td>\n",
       "      <td>18.8</td>\n",
       "      <td>...</td>\n",
       "      <td>30.4</td>\n",
       "      <td>31.6</td>\n",
       "      <td>1510.0</td>\n",
       "      <td>1360.0</td>\n",
       "      <td>6.10</td>\n",
       "      <td>4.97</td>\n",
       "      <td>5.29</td>\n",
       "      <td>285.0</td>\n",
       "      <td>284.0</td>\n",
       "      <td>284.0</td>\n",
       "    </tr>\n",
       "    <tr>\n",
       "      <th>2018-01-04 00:00:00+00:00</th>\n",
       "      <td>50.7</td>\n",
       "      <td>56.6</td>\n",
       "      <td>0.51</td>\n",
       "      <td>0.46</td>\n",
       "      <td>0.48</td>\n",
       "      <td>0.0</td>\n",
       "      <td>0.0</td>\n",
       "      <td>0.0</td>\n",
       "      <td>30.9</td>\n",
       "      <td>14.7</td>\n",
       "      <td>...</td>\n",
       "      <td>27.1</td>\n",
       "      <td>28.8</td>\n",
       "      <td>1530.0</td>\n",
       "      <td>1510.0</td>\n",
       "      <td>7.17</td>\n",
       "      <td>6.10</td>\n",
       "      <td>6.66</td>\n",
       "      <td>284.0</td>\n",
       "      <td>283.0</td>\n",
       "      <td>283.0</td>\n",
       "    </tr>\n",
       "    <tr>\n",
       "      <th>2018-01-05 00:00:00+00:00</th>\n",
       "      <td>53.8</td>\n",
       "      <td>57.0</td>\n",
       "      <td>0.51</td>\n",
       "      <td>0.46</td>\n",
       "      <td>0.49</td>\n",
       "      <td>0.0</td>\n",
       "      <td>0.0</td>\n",
       "      <td>0.0</td>\n",
       "      <td>30.9</td>\n",
       "      <td>16.0</td>\n",
       "      <td>...</td>\n",
       "      <td>23.6</td>\n",
       "      <td>25.5</td>\n",
       "      <td>1530.0</td>\n",
       "      <td>1520.0</td>\n",
       "      <td>7.39</td>\n",
       "      <td>6.61</td>\n",
       "      <td>7.02</td>\n",
       "      <td>284.0</td>\n",
       "      <td>282.0</td>\n",
       "      <td>283.0</td>\n",
       "    </tr>\n",
       "  </tbody>\n",
       "</table>\n",
       "<p>5 rows × 73 columns</p>\n",
       "</div>"
      ],
      "text/plain": [
       "                           USGS:07227500:00060:00003  \\\n",
       "datetimeUTC                                            \n",
       "2018-01-01 00:00:00+00:00                       43.0   \n",
       "2018-01-02 00:00:00+00:00                       52.9   \n",
       "2018-01-03 00:00:00+00:00                       51.7   \n",
       "2018-01-04 00:00:00+00:00                       50.7   \n",
       "2018-01-05 00:00:00+00:00                       53.8   \n",
       "\n",
       "                           USGS:07228000:00060:00003  \\\n",
       "datetimeUTC                                            \n",
       "2018-01-01 00:00:00+00:00                       53.6   \n",
       "2018-01-02 00:00:00+00:00                       53.8   \n",
       "2018-01-03 00:00:00+00:00                       55.7   \n",
       "2018-01-04 00:00:00+00:00                       56.6   \n",
       "2018-01-05 00:00:00+00:00                       57.0   \n",
       "\n",
       "                           USGS:07235000:00060:00001  \\\n",
       "datetimeUTC                                            \n",
       "2018-01-01 00:00:00+00:00                       0.55   \n",
       "2018-01-02 00:00:00+00:00                       0.61   \n",
       "2018-01-03 00:00:00+00:00                       0.55   \n",
       "2018-01-04 00:00:00+00:00                       0.51   \n",
       "2018-01-05 00:00:00+00:00                       0.51   \n",
       "\n",
       "                           USGS:07235000:00060:00002  \\\n",
       "datetimeUTC                                            \n",
       "2018-01-01 00:00:00+00:00                       0.40   \n",
       "2018-01-02 00:00:00+00:00                       0.36   \n",
       "2018-01-03 00:00:00+00:00                       0.46   \n",
       "2018-01-04 00:00:00+00:00                       0.46   \n",
       "2018-01-05 00:00:00+00:00                       0.46   \n",
       "\n",
       "                           USGS:07235000:00060:00003  \\\n",
       "datetimeUTC                                            \n",
       "2018-01-01 00:00:00+00:00                       0.46   \n",
       "2018-01-02 00:00:00+00:00                       0.48   \n",
       "2018-01-03 00:00:00+00:00                       0.51   \n",
       "2018-01-04 00:00:00+00:00                       0.48   \n",
       "2018-01-05 00:00:00+00:00                       0.49   \n",
       "\n",
       "                           USGS:07295500:00060:00001  \\\n",
       "datetimeUTC                                            \n",
       "2018-01-01 00:00:00+00:00                        0.0   \n",
       "2018-01-02 00:00:00+00:00                        0.0   \n",
       "2018-01-03 00:00:00+00:00                        0.0   \n",
       "2018-01-04 00:00:00+00:00                        0.0   \n",
       "2018-01-05 00:00:00+00:00                        0.0   \n",
       "\n",
       "                           USGS:07295500:00060:00002  \\\n",
       "datetimeUTC                                            \n",
       "2018-01-01 00:00:00+00:00                        0.0   \n",
       "2018-01-02 00:00:00+00:00                        0.0   \n",
       "2018-01-03 00:00:00+00:00                        0.0   \n",
       "2018-01-04 00:00:00+00:00                        0.0   \n",
       "2018-01-05 00:00:00+00:00                        0.0   \n",
       "\n",
       "                           USGS:07295500:00060:00003  \\\n",
       "datetimeUTC                                            \n",
       "2018-01-01 00:00:00+00:00                        0.0   \n",
       "2018-01-02 00:00:00+00:00                        0.0   \n",
       "2018-01-03 00:00:00+00:00                        0.0   \n",
       "2018-01-04 00:00:00+00:00                        0.0   \n",
       "2018-01-05 00:00:00+00:00                        0.0   \n",
       "\n",
       "                           USGS:07297910:00060:00001  \\\n",
       "datetimeUTC                                            \n",
       "2018-01-01 00:00:00+00:00                       30.9   \n",
       "2018-01-02 00:00:00+00:00                       35.9   \n",
       "2018-01-03 00:00:00+00:00                       43.3   \n",
       "2018-01-04 00:00:00+00:00                       30.9   \n",
       "2018-01-05 00:00:00+00:00                       30.9   \n",
       "\n",
       "                           USGS:07297910:00060:00002  ...  \\\n",
       "datetimeUTC                                           ...   \n",
       "2018-01-01 00:00:00+00:00                       25.9  ...   \n",
       "2018-01-02 00:00:00+00:00                       30.9  ...   \n",
       "2018-01-03 00:00:00+00:00                       18.8  ...   \n",
       "2018-01-04 00:00:00+00:00                       14.7  ...   \n",
       "2018-01-05 00:00:00+00:00                       16.0  ...   \n",
       "\n",
       "                           USGS:07343500:00060:00002  \\\n",
       "datetimeUTC                                            \n",
       "2018-01-01 00:00:00+00:00                       35.8   \n",
       "2018-01-02 00:00:00+00:00                       32.5   \n",
       "2018-01-03 00:00:00+00:00                       30.4   \n",
       "2018-01-04 00:00:00+00:00                       27.1   \n",
       "2018-01-05 00:00:00+00:00                       23.6   \n",
       "\n",
       "                           USGS:07343500:00060:00003  \\\n",
       "datetimeUTC                                            \n",
       "2018-01-01 00:00:00+00:00                       37.7   \n",
       "2018-01-02 00:00:00+00:00                       34.0   \n",
       "2018-01-03 00:00:00+00:00                       31.6   \n",
       "2018-01-04 00:00:00+00:00                       28.8   \n",
       "2018-01-05 00:00:00+00:00                       25.5   \n",
       "\n",
       "                           USGS:07344210:00060:00001  \\\n",
       "datetimeUTC                                            \n",
       "2018-01-01 00:00:00+00:00                      774.0   \n",
       "2018-01-02 00:00:00+00:00                     1360.0   \n",
       "2018-01-03 00:00:00+00:00                     1510.0   \n",
       "2018-01-04 00:00:00+00:00                     1530.0   \n",
       "2018-01-05 00:00:00+00:00                     1530.0   \n",
       "\n",
       "                           USGS:07344210:00060:00002  \\\n",
       "datetimeUTC                                            \n",
       "2018-01-01 00:00:00+00:00                      756.0   \n",
       "2018-01-02 00:00:00+00:00                      763.0   \n",
       "2018-01-03 00:00:00+00:00                     1360.0   \n",
       "2018-01-04 00:00:00+00:00                     1510.0   \n",
       "2018-01-05 00:00:00+00:00                     1520.0   \n",
       "\n",
       "                           USGS:07344500:00060:00001  \\\n",
       "datetimeUTC                                            \n",
       "2018-01-01 00:00:00+00:00                       4.82   \n",
       "2018-01-02 00:00:00+00:00                       5.27   \n",
       "2018-01-03 00:00:00+00:00                       6.10   \n",
       "2018-01-04 00:00:00+00:00                       7.17   \n",
       "2018-01-05 00:00:00+00:00                       7.39   \n",
       "\n",
       "                           USGS:07344500:00060:00002  \\\n",
       "datetimeUTC                                            \n",
       "2018-01-01 00:00:00+00:00                       4.00   \n",
       "2018-01-02 00:00:00+00:00                       3.70   \n",
       "2018-01-03 00:00:00+00:00                       4.97   \n",
       "2018-01-04 00:00:00+00:00                       6.10   \n",
       "2018-01-05 00:00:00+00:00                       6.61   \n",
       "\n",
       "                           USGS:07344500:00060:00003  \\\n",
       "datetimeUTC                                            \n",
       "2018-01-01 00:00:00+00:00                       4.44   \n",
       "2018-01-02 00:00:00+00:00                       4.32   \n",
       "2018-01-03 00:00:00+00:00                       5.29   \n",
       "2018-01-04 00:00:00+00:00                       6.66   \n",
       "2018-01-05 00:00:00+00:00                       7.02   \n",
       "\n",
       "                           USGS:07346000:00060:00001  \\\n",
       "datetimeUTC                                            \n",
       "2018-01-01 00:00:00+00:00                      285.0   \n",
       "2018-01-02 00:00:00+00:00                      285.0   \n",
       "2018-01-03 00:00:00+00:00                      285.0   \n",
       "2018-01-04 00:00:00+00:00                      284.0   \n",
       "2018-01-05 00:00:00+00:00                      284.0   \n",
       "\n",
       "                           USGS:07346000:00060:00002  \\\n",
       "datetimeUTC                                            \n",
       "2018-01-01 00:00:00+00:00                      283.0   \n",
       "2018-01-02 00:00:00+00:00                      284.0   \n",
       "2018-01-03 00:00:00+00:00                      284.0   \n",
       "2018-01-04 00:00:00+00:00                      283.0   \n",
       "2018-01-05 00:00:00+00:00                      282.0   \n",
       "\n",
       "                           USGS:07346000:00060:00003  \n",
       "datetimeUTC                                           \n",
       "2018-01-01 00:00:00+00:00                      284.0  \n",
       "2018-01-02 00:00:00+00:00                      285.0  \n",
       "2018-01-03 00:00:00+00:00                      284.0  \n",
       "2018-01-04 00:00:00+00:00                      283.0  \n",
       "2018-01-05 00:00:00+00:00                      283.0  \n",
       "\n",
       "[5 rows x 73 columns]"
      ]
     },
     "execution_count": 17,
     "metadata": {},
     "output_type": "execute_result"
    }
   ],
   "source": [
    "mult.df('discharge').head()"
   ]
  },
  {
   "cell_type": "markdown",
   "metadata": {},
   "source": [
    "### Download all streamflow data for the state of Virginia"
   ]
  },
  {
   "cell_type": "code",
   "execution_count": 18,
   "metadata": {},
   "outputs": [
    {
     "name": "stdout",
     "output_type": "stream",
     "text": [
      "Reading data from virginia.parquet\n"
     ]
    }
   ],
   "source": [
    "# Use this carefully! You can easily request more data than you will know what to do with.\n",
    "start = \"2017-01-01\"\n",
    "end = \"2017-12-31\"\n",
    "param = '00060'\n",
    "virginia = hf.NWIS(None, \"dv\", start, end, parameterCd=param, stateCd='va', file='virginia.parquet')"
   ]
  },
  {
   "cell_type": "code",
   "execution_count": 19,
   "metadata": {},
   "outputs": [
    {
     "data": {
      "text/plain": [
       "USGS:01613900:00060:00003      12.901726\n",
       "USGS:01615000:00060:00003      41.219260\n",
       "USGS:01616100:00060:00003       8.948493\n",
       "USGS:01620500:00060:00003      17.857973\n",
       "USGS:01621050:00060:00003       3.844548\n",
       "USGS:01622000:00060:00003     277.692055\n",
       "USGS:01625000:00060:00003     245.340548\n",
       "USGS:01626000:00060:00003     106.207123\n",
       "USGS:01626850:00060:00003     143.700000\n",
       "USGS:01627500:00060:00003     184.487397\n",
       "USGS:01628500:00060:00003     748.202740\n",
       "USGS:01629500:00060:00003     990.643836\n",
       "USGS:01631000:00060:00003    1114.293151\n",
       "USGS:01632000:00060:00003     124.048740\n",
       "USGS:01632082:00060:00003      17.520329\n",
       "USGS:01632900:00060:00003      39.136493\n",
       "USGS:01633000:00060:00003     218.096712\n",
       "USGS:01634000:00060:00003     361.363562\n",
       "USGS:01634500:00060:00003      77.218795\n",
       "USGS:01635500:00060:00003      48.196192\n",
       "USGS:01636316:00060:00003      16.360575\n",
       "USGS:01636690:00060:00003      11.838795\n",
       "USGS:01638350:00060:00003      25.122712\n",
       "USGS:01638420:00060:00003      19.026932\n",
       "USGS:01638480:00060:00003      66.770411\n",
       "USGS:01643590:00060:00003       5.074493\n",
       "USGS:01643700:00060:00003      98.993425\n",
       "USGS:01643805:00060:00003      31.099041\n",
       "USGS:01643880:00060:00003      42.124575\n",
       "USGS:01644000:00060:00003     271.511233\n",
       "                                ...     \n",
       "USGS:02076000:00060:00003    2715.035616\n",
       "USGS:02077000:00060:00003     495.344384\n",
       "USGS:02079640:00060:00003      30.671205\n",
       "USGS:03164000:00060:00003    1809.479452\n",
       "USGS:03165000:00060:00003      69.004110\n",
       "USGS:03165500:00060:00003    2113.663014\n",
       "USGS:03167000:00060:00003     268.287671\n",
       "USGS:03168000:00060:00003    3159.178082\n",
       "USGS:03170000:00060:00003     366.520548\n",
       "USGS:03171000:00060:00003    3966.383562\n",
       "USGS:03173000:00060:00003     335.324932\n",
       "USGS:03175500:00060:00003     321.495616\n",
       "USGS:03176500:00060:00003    5021.671233\n",
       "USGS:03177710:00060:00003      62.864110\n",
       "USGS:03207800:00060:00003     385.552877\n",
       "USGS:03208500:00060:00003     330.526575\n",
       "USGS:03208950:00060:00003      85.020000\n",
       "USGS:03209000:00060:00003     294.153973\n",
       "USGS:03471500:00060:00003     109.356712\n",
       "USGS:03473000:00060:00003     501.227123\n",
       "USGS:03474000:00060:00003     171.507123\n",
       "USGS:03475000:00060:00003     254.800822\n",
       "USGS:03478400:00060:00003      34.246301\n",
       "USGS:03488000:00060:00003     296.555890\n",
       "USGS:03490000:00060:00003     923.371507\n",
       "USGS:03524000:00060:00003     700.853151\n",
       "USGS:03524500:00060:00003     143.473973\n",
       "USGS:03527000:00060:00003    1510.515068\n",
       "USGS:03529500:00060:00003     187.819178\n",
       "USGS:03531500:00060:00003     554.865479\n",
       "Length: 190, dtype: float64"
      ]
     },
     "execution_count": 19,
     "metadata": {},
     "output_type": "execute_result"
    }
   ],
   "source": [
    "# Calculate the mean for each site.\n",
    "virginia.df('discharge').mean()"
   ]
  },
  {
   "cell_type": "markdown",
   "metadata": {},
   "source": [
    "#### Plot all streamflow data for the state of Virginia"
   ]
  },
  {
   "cell_type": "code",
   "execution_count": 20,
   "metadata": {},
   "outputs": [
    {
     "data": {
      "text/plain": [
       "<matplotlib.axes._subplots.AxesSubplot at 0x22f67bb6588>"
      ]
     },
     "execution_count": 20,
     "metadata": {},
     "output_type": "execute_result"
    },
    {
     "data": {
      "image/png": "[encoded data removed]",
      "text/plain": [
       "<Figure size 432x288 with 1 Axes>"
      ]
     },
     "metadata": {
      "needs_background": "light"
     },
     "output_type": "display_data"
    }
   ],
   "source": [
    "# There are so many sites that we can't read them all!\n",
    "virginia.df('q').plot(legend=None)"
   ]
  },
  {
   "cell_type": "markdown",
   "metadata": {},
   "source": [
    "### Download all streamflow data for Fairfax and Prince William counties in the state of Virginia"
   ]
  },
  {
   "cell_type": "code",
   "execution_count": 21,
   "metadata": {},
   "outputs": [
    {
     "name": "stdout",
     "output_type": "stream",
     "text": [
      "Reading data from PG.parquet\n"
     ]
    }
   ],
   "source": [
    "start = \"2017-01-01\"\n",
    "end = \"2017-12-31\"\n",
    "county = hf.NWIS(None, \"dv\", start, end, parameterCd='00060', countyCd=['51059', '51061'], file='PG.parquet')"
   ]
  },
  {
   "cell_type": "code",
   "execution_count": 22,
   "metadata": {},
   "outputs": [
    {
     "data": {
      "text/html": [
       "<div>\n",
       "<style scoped>\n",
       "    .dataframe tbody tr th:only-of-type {\n",
       "        vertical-align: middle;\n",
       "    }\n",
       "\n",
       "    .dataframe tbody tr th {\n",
       "        vertical-align: top;\n",
       "    }\n",
       "\n",
       "    .dataframe thead th {\n",
       "        text-align: right;\n",
       "    }\n",
       "</style>\n",
       "<table border=\"1\" class=\"dataframe\">\n",
       "  <thead>\n",
       "    <tr style=\"text-align: right;\">\n",
       "      <th></th>\n",
       "      <th>USGS:01645704:00060:00003</th>\n",
       "      <th>USGS:01645762:00060:00003</th>\n",
       "      <th>USGS:01646000:00060:00003</th>\n",
       "      <th>USGS:01646305:00060:00003</th>\n",
       "      <th>USGS:01654000:00060:00003</th>\n",
       "      <th>USGS:01654500:00060:00003</th>\n",
       "      <th>USGS:01655794:00060:00003</th>\n",
       "      <th>USGS:01656000:00060:00003</th>\n",
       "      <th>USGS:01656903:00060:00003</th>\n",
       "      <th>USGS:01661977:00060:00003</th>\n",
       "      <th>USGS:01664000:00060:00003</th>\n",
       "    </tr>\n",
       "    <tr>\n",
       "      <th>datetimeUTC</th>\n",
       "      <th></th>\n",
       "      <th></th>\n",
       "      <th></th>\n",
       "      <th></th>\n",
       "      <th></th>\n",
       "      <th></th>\n",
       "      <th></th>\n",
       "      <th></th>\n",
       "      <th></th>\n",
       "      <th></th>\n",
       "      <th></th>\n",
       "    </tr>\n",
       "  </thead>\n",
       "  <tbody>\n",
       "    <tr>\n",
       "      <th>2017-01-01 00:00:00+00:00</th>\n",
       "      <td>1.89</td>\n",
       "      <td>0.92</td>\n",
       "      <td>19.0</td>\n",
       "      <td>0.40</td>\n",
       "      <td>3.88</td>\n",
       "      <td>0.49</td>\n",
       "      <td>NaN</td>\n",
       "      <td>9.55</td>\n",
       "      <td>1.12</td>\n",
       "      <td>NaN</td>\n",
       "      <td>205.0</td>\n",
       "    </tr>\n",
       "    <tr>\n",
       "      <th>2017-01-02 00:00:00+00:00</th>\n",
       "      <td>4.69</td>\n",
       "      <td>1.44</td>\n",
       "      <td>28.8</td>\n",
       "      <td>2.17</td>\n",
       "      <td>18.30</td>\n",
       "      <td>2.02</td>\n",
       "      <td>NaN</td>\n",
       "      <td>9.70</td>\n",
       "      <td>2.18</td>\n",
       "      <td>NaN</td>\n",
       "      <td>200.0</td>\n",
       "    </tr>\n",
       "    <tr>\n",
       "      <th>2017-01-03 00:00:00+00:00</th>\n",
       "      <td>33.60</td>\n",
       "      <td>9.79</td>\n",
       "      <td>298.0</td>\n",
       "      <td>20.10</td>\n",
       "      <td>225.00</td>\n",
       "      <td>23.10</td>\n",
       "      <td>NaN</td>\n",
       "      <td>128.00</td>\n",
       "      <td>23.50</td>\n",
       "      <td>NaN</td>\n",
       "      <td>256.0</td>\n",
       "    </tr>\n",
       "    <tr>\n",
       "      <th>2017-01-04 00:00:00+00:00</th>\n",
       "      <td>13.40</td>\n",
       "      <td>2.87</td>\n",
       "      <td>95.6</td>\n",
       "      <td>1.26</td>\n",
       "      <td>24.10</td>\n",
       "      <td>2.17</td>\n",
       "      <td>NaN</td>\n",
       "      <td>90.50</td>\n",
       "      <td>7.46</td>\n",
       "      <td>NaN</td>\n",
       "      <td>761.0</td>\n",
       "    </tr>\n",
       "    <tr>\n",
       "      <th>2017-01-05 00:00:00+00:00</th>\n",
       "      <td>6.06</td>\n",
       "      <td>1.74</td>\n",
       "      <td>41.4</td>\n",
       "      <td>0.73</td>\n",
       "      <td>9.77</td>\n",
       "      <td>1.14</td>\n",
       "      <td>NaN</td>\n",
       "      <td>36.50</td>\n",
       "      <td>3.20</td>\n",
       "      <td>NaN</td>\n",
       "      <td>650.0</td>\n",
       "    </tr>\n",
       "  </tbody>\n",
       "</table>\n",
       "</div>"
      ],
      "text/plain": [
       "                           USGS:01645704:00060:00003  \\\n",
       "datetimeUTC                                            \n",
       "2017-01-01 00:00:00+00:00                       1.89   \n",
       "2017-01-02 00:00:00+00:00                       4.69   \n",
       "2017-01-03 00:00:00+00:00                      33.60   \n",
       "2017-01-04 00:00:00+00:00                      13.40   \n",
       "2017-01-05 00:00:00+00:00                       6.06   \n",
       "\n",
       "                           USGS:01645762:00060:00003  \\\n",
       "datetimeUTC                                            \n",
       "2017-01-01 00:00:00+00:00                       0.92   \n",
       "2017-01-02 00:00:00+00:00                       1.44   \n",
       "2017-01-03 00:00:00+00:00                       9.79   \n",
       "2017-01-04 00:00:00+00:00                       2.87   \n",
       "2017-01-05 00:00:00+00:00                       1.74   \n",
       "\n",
       "                           USGS:01646000:00060:00003  \\\n",
       "datetimeUTC                                            \n",
       "2017-01-01 00:00:00+00:00                       19.0   \n",
       "2017-01-02 00:00:00+00:00                       28.8   \n",
       "2017-01-03 00:00:00+00:00                      298.0   \n",
       "2017-01-04 00:00:00+00:00                       95.6   \n",
       "2017-01-05 00:00:00+00:00                       41.4   \n",
       "\n",
       "                           USGS:01646305:00060:00003  \\\n",
       "datetimeUTC                                            \n",
       "2017-01-01 00:00:00+00:00                       0.40   \n",
       "2017-01-02 00:00:00+00:00                       2.17   \n",
       "2017-01-03 00:00:00+00:00                      20.10   \n",
       "2017-01-04 00:00:00+00:00                       1.26   \n",
       "2017-01-05 00:00:00+00:00                       0.73   \n",
       "\n",
       "                           USGS:01654000:00060:00003  \\\n",
       "datetimeUTC                                            \n",
       "2017-01-01 00:00:00+00:00                       3.88   \n",
       "2017-01-02 00:00:00+00:00                      18.30   \n",
       "2017-01-03 00:00:00+00:00                     225.00   \n",
       "2017-01-04 00:00:00+00:00                      24.10   \n",
       "2017-01-05 00:00:00+00:00                       9.77   \n",
       "\n",
       "                           USGS:01654500:00060:00003  \\\n",
       "datetimeUTC                                            \n",
       "2017-01-01 00:00:00+00:00                       0.49   \n",
       "2017-01-02 00:00:00+00:00                       2.02   \n",
       "2017-01-03 00:00:00+00:00                      23.10   \n",
       "2017-01-04 00:00:00+00:00                       2.17   \n",
       "2017-01-05 00:00:00+00:00                       1.14   \n",
       "\n",
       "                           USGS:01655794:00060:00003  \\\n",
       "datetimeUTC                                            \n",
       "2017-01-01 00:00:00+00:00                        NaN   \n",
       "2017-01-02 00:00:00+00:00                        NaN   \n",
       "2017-01-03 00:00:00+00:00                        NaN   \n",
       "2017-01-04 00:00:00+00:00                        NaN   \n",
       "2017-01-05 00:00:00+00:00                        NaN   \n",
       "\n",
       "                           USGS:01656000:00060:00003  \\\n",
       "datetimeUTC                                            \n",
       "2017-01-01 00:00:00+00:00                       9.55   \n",
       "2017-01-02 00:00:00+00:00                       9.70   \n",
       "2017-01-03 00:00:00+00:00                     128.00   \n",
       "2017-01-04 00:00:00+00:00                      90.50   \n",
       "2017-01-05 00:00:00+00:00                      36.50   \n",
       "\n",
       "                           USGS:01656903:00060:00003  \\\n",
       "datetimeUTC                                            \n",
       "2017-01-01 00:00:00+00:00                       1.12   \n",
       "2017-01-02 00:00:00+00:00                       2.18   \n",
       "2017-01-03 00:00:00+00:00                      23.50   \n",
       "2017-01-04 00:00:00+00:00                       7.46   \n",
       "2017-01-05 00:00:00+00:00                       3.20   \n",
       "\n",
       "                           USGS:01661977:00060:00003  \\\n",
       "datetimeUTC                                            \n",
       "2017-01-01 00:00:00+00:00                        NaN   \n",
       "2017-01-02 00:00:00+00:00                        NaN   \n",
       "2017-01-03 00:00:00+00:00                        NaN   \n",
       "2017-01-04 00:00:00+00:00                        NaN   \n",
       "2017-01-05 00:00:00+00:00                        NaN   \n",
       "\n",
       "                           USGS:01664000:00060:00003  \n",
       "datetimeUTC                                           \n",
       "2017-01-01 00:00:00+00:00                      205.0  \n",
       "2017-01-02 00:00:00+00:00                      200.0  \n",
       "2017-01-03 00:00:00+00:00                      256.0  \n",
       "2017-01-04 00:00:00+00:00                      761.0  \n",
       "2017-01-05 00:00:00+00:00                      650.0  "
      ]
     },
     "execution_count": 22,
     "metadata": {},
     "output_type": "execute_result"
    }
   ],
   "source": [
    "county.df('data').head()"
   ]
  },
  {
   "cell_type": "markdown",
   "metadata": {},
   "source": [
    "#### Plot all streamflow data for Fairfax and Prince William counties in the state of Virginia"
   ]
  },
  {
   "cell_type": "code",
   "execution_count": 23,
   "metadata": {},
   "outputs": [
    {
     "data": {
      "text/plain": [
       "<matplotlib.axes._subplots.AxesSubplot at 0x22f67bd87b8>"
      ]
     },
     "execution_count": 23,
     "metadata": {},
     "output_type": "execute_result"
    },
    {
     "data": {
      "image/png": "[encoded data removed]",
      "text/plain": [
       "<Figure size 432x288 with 1 Axes>"
      ]
     },
     "metadata": {
      "needs_background": "light"
     },
     "output_type": "display_data"
    }
   ],
   "source": [
    "county.df('data').plot()"
   ]
  },
  {
   "cell_type": "markdown",
   "metadata": {
    "collapsed": true
   },
   "source": [
    "## Thanks for using hydrofunctions!\n",
    "We would love to hear your comments and [suggestions](https://github.com/mroberge/hydrofunctions/issues)! "
   ]
  }
 ],
 "metadata": {
  "anaconda-cloud": {},
  "kernelspec": {
   "display_name": "Python 3",
   "language": "python",
   "name": "python3"
  },
  "language_info": {
   "codemirror_mode": {
    "name": "ipython",
    "version": 3
   },
   "file_extension": ".py",
   "mimetype": "text/x-python",
   "name": "python",
   "nbconvert_exporter": "python",
   "pygments_lexer": "ipython3",
   "version": "3.7.1"
  }
 },
 "nbformat": 4,
 "nbformat_minor": 1
}
