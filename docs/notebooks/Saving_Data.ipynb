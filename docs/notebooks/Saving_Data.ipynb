{
 "cells": [
  {
   "cell_type": "markdown",
   "metadata": {},
   "source": [
    "# Saving Data\n",
    "Once you request data, it is possible to save it locally to a file. For this task, HydroFunctions uses [Parquet](https://parquet.apache.org/), a compact file format for storing large datasets. Parquet is efficient: file sizes are small and can be read quickly. Parquet is great for large files, becaues it is possible to access parts of the file without reading the entire file.\n",
    "\n",
    "Hydrofunctions allows you to save your data to a parquet file automatically by providing a file name as a parameter to the NWIS object:"
   ]
  },
  {
   "cell_type": "code",
   "execution_count": 1,
   "metadata": {},
   "outputs": [],
   "source": [
    "import hydrofunctions as hf"
   ]
  },
  {
   "cell_type": "code",
   "execution_count": 2,
   "metadata": {},
   "outputs": [
    {
     "name": "stdout",
     "output_type": "stream",
     "text": [
      "Requested data from https://waterservices.usgs.gov/nwis/dv/?format=json%2C1.1&sites=01585200&startDT=2018-01-01&endDT=2019-01-01\n",
      "Saving data to parquet_example.parquet\n"
     ]
    },
    {
     "data": {
      "text/plain": [
       "USGS:01585200: WEST BRANCH HERRING RUN AT IDLEWYLDE, MD\n",
       "    00060: <Day>  Discharge, cubic feet per second\n",
       "Start: 2018-01-01 00:00:00+00:00\n",
       "End:   2019-01-01 00:00:00+00:00"
      ]
     },
     "execution_count": 2,
     "metadata": {},
     "output_type": "execute_result"
    }
   ],
   "source": [
    "new = hf.NWIS('01585200', 'dv', start_date='2018-01-01', end_date='2019-01-01', file='parquet_example.parquet')\n",
    "new"
   ]
  },
  {
   "cell_type": "markdown",
   "metadata": {},
   "source": [
    "## Automatic file reading & writing\n",
    "\n",
    "The first time that you make the request, hydrofunctions will save the incoming data into a new file, and you will get a message, `Saving data to filename`.\n",
    "\n",
    "The second time that you make the request, hydrofunctions will read the data from the file instead of requesting it, and you will get a message, `Reading data from filename`."
   ]
  },
  {
   "cell_type": "code",
   "execution_count": 3,
   "metadata": {},
   "outputs": [
    {
     "name": "stdout",
     "output_type": "stream",
     "text": [
      "Reading data from parquet_example.parquet\n"
     ]
    },
    {
     "data": {
      "text/plain": [
       "USGS:01585200: WEST BRANCH HERRING RUN AT IDLEWYLDE, MD\n",
       "    00060: <Day>  Discharge, cubic feet per second\n",
       "Start: 2018-01-01 00:00:00+00:00\n",
       "End:   2019-01-01 00:00:00+00:00"
      ]
     },
     "execution_count": 3,
     "metadata": {},
     "output_type": "execute_result"
    }
   ],
   "source": [
    "new = hf.NWIS('01585200', 'dv', start_date='2018-01-01', end_date='2019-01-01', file='parquet_example.parquet')\n",
    "new"
   ]
  },
  {
   "cell_type": "markdown",
   "metadata": {},
   "source": [
    "In effect, the local parquet file will act as a local cache for your data, reducing your network traffic.\n",
    "\n",
    "## Manual file reading & writing\n",
    "It is also possible to force hydrofunctions to read or write a file by using the `NWIS.read()` and `NWIS.save()` methods."
   ]
  },
  {
   "cell_type": "code",
   "execution_count": 5,
   "metadata": {},
   "outputs": [
    {
     "data": {
      "text/plain": [
       "USGS:01585200: WEST BRANCH HERRING RUN AT IDLEWYLDE, MD\n",
       "    00060: <Day>  Discharge, cubic feet per second\n",
       "Start: 2018-01-01 00:00:00+00:00\n",
       "End:   2019-01-01 00:00:00+00:00"
      ]
     },
     "execution_count": 5,
     "metadata": {},
     "output_type": "execute_result"
    }
   ],
   "source": [
    "new.save('parquet_example2.parquet')"
   ]
  },
  {
   "cell_type": "code",
   "execution_count": 6,
   "metadata": {},
   "outputs": [
    {
     "data": {
      "text/plain": [
       "USGS:01585200: WEST BRANCH HERRING RUN AT IDLEWYLDE, MD\n",
       "    00060: <Day>  Discharge, cubic feet per second\n",
       "Start: 2018-01-01 00:00:00+00:00\n",
       "End:   2019-01-01 00:00:00+00:00"
      ]
     },
     "execution_count": 6,
     "metadata": {},
     "output_type": "execute_result"
    }
   ],
   "source": [
    "new.read('parquet_example2.parquet')\n",
    "new"
   ]
  }
 ],
 "metadata": {
  "kernelspec": {
   "display_name": "Python 3",
   "language": "python",
   "name": "python3"
  },
  "language_info": {
   "codemirror_mode": {
    "name": "ipython",
    "version": 3
   },
   "file_extension": ".py",
   "mimetype": "text/x-python",
   "name": "python",
   "nbconvert_exporter": "python",
   "pygments_lexer": "ipython3",
   "version": "3.7.1"
  }
 },
 "nbformat": 4,
 "nbformat_minor": 2
}
