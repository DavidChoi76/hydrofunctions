{
 "cells": [
  {
   "cell_type": "markdown",
   "metadata": {},
   "source": [
    "# Peak Discharge\n",
    "\n",
    "It is possible to request a list of the largest floods each year using the USGS's Peak Discharge service."
   ]
  },
  {
   "cell_type": "code",
   "execution_count": 1,
   "metadata": {},
   "outputs": [],
   "source": [
    "import hydrofunctions as hf\n",
    "%matplotlib inline"
   ]
  },
  {
   "cell_type": "code",
   "execution_count": 2,
   "metadata": {},
   "outputs": [
    {
     "name": "stdout",
     "output_type": "stream",
     "text": [
      "Retrieving annual peak discharges for site # 01541200  from  https://nwis.waterdata.usgs.gov/nwis/peak?site_no=01541200&agency_cd=USGS&format=rdb\n"
     ]
    }
   ],
   "source": [
    "outputDF = hf.peaks('01541200')"
   ]
  },
  {
   "cell_type": "code",
   "execution_count": 3,
   "metadata": {},
   "outputs": [
    {
     "data": {
      "text/html": [
       "<div>\n",
       "<style scoped>\n",
       "    .dataframe tbody tr th:only-of-type {\n",
       "        vertical-align: middle;\n",
       "    }\n",
       "\n",
       "    .dataframe tbody tr th {\n",
       "        vertical-align: top;\n",
       "    }\n",
       "\n",
       "    .dataframe thead th {\n",
       "        text-align: right;\n",
       "    }\n",
       "</style>\n",
       "<table border=\"1\" class=\"dataframe\">\n",
       "  <thead>\n",
       "    <tr style=\"text-align: right;\">\n",
       "      <th></th>\n",
       "      <th>agency_cd</th>\n",
       "      <th>site_no</th>\n",
       "      <th>peak_tm</th>\n",
       "      <th>peak_va</th>\n",
       "      <th>peak_cd</th>\n",
       "      <th>gage_ht</th>\n",
       "      <th>gage_ht_cd</th>\n",
       "      <th>year_last_pk</th>\n",
       "      <th>ag_dt</th>\n",
       "      <th>ag_tm</th>\n",
       "      <th>ag_gage_ht</th>\n",
       "      <th>ag_gage_ht_cd</th>\n",
       "    </tr>\n",
       "    <tr>\n",
       "      <th>peak_dt</th>\n",
       "      <th></th>\n",
       "      <th></th>\n",
       "      <th></th>\n",
       "      <th></th>\n",
       "      <th></th>\n",
       "      <th></th>\n",
       "      <th></th>\n",
       "      <th></th>\n",
       "      <th></th>\n",
       "      <th></th>\n",
       "      <th></th>\n",
       "      <th></th>\n",
       "    </tr>\n",
       "  </thead>\n",
       "  <tbody>\n",
       "    <tr>\n",
       "      <th>1956-07-03</th>\n",
       "      <td>USGS</td>\n",
       "      <td>01541200</td>\n",
       "      <td>NaN</td>\n",
       "      <td>10200</td>\n",
       "      <td>NaN</td>\n",
       "      <td>10.89</td>\n",
       "      <td>NaN</td>\n",
       "      <td>NaN</td>\n",
       "      <td>NaN</td>\n",
       "      <td>NaN</td>\n",
       "      <td>NaN</td>\n",
       "      <td>NaN</td>\n",
       "    </tr>\n",
       "    <tr>\n",
       "      <th>1957-04-06</th>\n",
       "      <td>USGS</td>\n",
       "      <td>01541200</td>\n",
       "      <td>NaN</td>\n",
       "      <td>9240</td>\n",
       "      <td>NaN</td>\n",
       "      <td>10.44</td>\n",
       "      <td>NaN</td>\n",
       "      <td>NaN</td>\n",
       "      <td>NaN</td>\n",
       "      <td>NaN</td>\n",
       "      <td>NaN</td>\n",
       "      <td>NaN</td>\n",
       "    </tr>\n",
       "    <tr>\n",
       "      <th>1958-05-08</th>\n",
       "      <td>USGS</td>\n",
       "      <td>01541200</td>\n",
       "      <td>NaN</td>\n",
       "      <td>4800</td>\n",
       "      <td>NaN</td>\n",
       "      <td>7.66</td>\n",
       "      <td>NaN</td>\n",
       "      <td>NaN</td>\n",
       "      <td>NaN</td>\n",
       "      <td>NaN</td>\n",
       "      <td>NaN</td>\n",
       "      <td>NaN</td>\n",
       "    </tr>\n",
       "    <tr>\n",
       "      <th>1959-01-22</th>\n",
       "      <td>USGS</td>\n",
       "      <td>01541200</td>\n",
       "      <td>NaN</td>\n",
       "      <td>12500</td>\n",
       "      <td>NaN</td>\n",
       "      <td>12.12</td>\n",
       "      <td>NaN</td>\n",
       "      <td>NaN</td>\n",
       "      <td>NaN</td>\n",
       "      <td>NaN</td>\n",
       "      <td>NaN</td>\n",
       "      <td>NaN</td>\n",
       "    </tr>\n",
       "    <tr>\n",
       "      <th>1960-03-31</th>\n",
       "      <td>USGS</td>\n",
       "      <td>01541200</td>\n",
       "      <td>NaN</td>\n",
       "      <td>10400</td>\n",
       "      <td>NaN</td>\n",
       "      <td>11.03</td>\n",
       "      <td>NaN</td>\n",
       "      <td>NaN</td>\n",
       "      <td>NaN</td>\n",
       "      <td>NaN</td>\n",
       "      <td>NaN</td>\n",
       "      <td>NaN</td>\n",
       "    </tr>\n",
       "  </tbody>\n",
       "</table>\n",
       "</div>"
      ],
      "text/plain": [
       "           agency_cd   site_no peak_tm  peak_va  peak_cd  gage_ht gage_ht_cd  \\\n",
       "peak_dt                                                                        \n",
       "1956-07-03      USGS  01541200     NaN    10200      NaN    10.89        NaN   \n",
       "1957-04-06      USGS  01541200     NaN     9240      NaN    10.44        NaN   \n",
       "1958-05-08      USGS  01541200     NaN     4800      NaN     7.66        NaN   \n",
       "1959-01-22      USGS  01541200     NaN    12500      NaN    12.12        NaN   \n",
       "1960-03-31      USGS  01541200     NaN    10400      NaN    11.03        NaN   \n",
       "\n",
       "            year_last_pk ag_dt  ag_tm  ag_gage_ht  ag_gage_ht_cd  \n",
       "peak_dt                                                           \n",
       "1956-07-03           NaN   NaN    NaN         NaN            NaN  \n",
       "1957-04-06           NaN   NaN    NaN         NaN            NaN  \n",
       "1958-05-08           NaN   NaN    NaN         NaN            NaN  \n",
       "1959-01-22           NaN   NaN    NaN         NaN            NaN  \n",
       "1960-03-31           NaN   NaN    NaN         NaN            NaN  "
      ]
     },
     "execution_count": 3,
     "metadata": {},
     "output_type": "execute_result"
    }
   ],
   "source": [
    "outputDF.head()"
   ]
  }
 ],
 "metadata": {
  "kernelspec": {
   "display_name": "Python 3",
   "language": "python",
   "name": "python3"
  },
  "language_info": {
   "codemirror_mode": {
    "name": "ipython",
    "version": 3
   },
   "file_extension": ".py",
   "mimetype": "text/x-python",
   "name": "python",
   "nbconvert_exporter": "python",
   "pygments_lexer": "ipython3",
   "version": "3.7.1"
  }
 },
 "nbformat": 4,
 "nbformat_minor": 2
}
